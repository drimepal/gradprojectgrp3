{
 "cells": [
  {
   "cell_type": "code",
   "execution_count": 435,
   "metadata": {},
   "outputs": [],
   "source": [
    "import pandas as pd\n",
    "import numpy as np\n",
    "import matplotlib.pyplot as plt\n",
    "import xgboost as xgb\n",
    "from sklearn.preprocessing import StandardScaler\n",
    "from sklearn.neighbors import KNeighborsRegressor\n",
    "from sklearn.linear_model import LinearRegression, LogisticRegression \n",
    "from sklearn.model_selection import train_test_split\n",
    "from sklearn.metrics import mean_squared_error, mean_absolute_error\n",
    "from sklearn.metrics import confusion_matrix, ConfusionMatrixDisplay, precision_score, recall_score\n",
    "from sklearn.metrics import accuracy_score"
   ]
  },
  {
   "attachments": {},
   "cell_type": "markdown",
   "metadata": {},
   "source": [
    "# READ FROM DATABASE"
   ]
  },
  {
   "cell_type": "code",
   "execution_count": 436,
   "metadata": {},
   "outputs": [],
   "source": [
    "import psycopg2"
   ]
  },
  {
   "cell_type": "code",
   "execution_count": 437,
   "metadata": {},
   "outputs": [],
   "source": [
    "# jdbc:postgresql://pg-graduate-delt.postgres.database.azure.com:5432/{your_database}?user=snartimaal&password={your_password}&sslmode=require\n",
    "with psycopg2.connect(\n",
    "    database='pgsql-graduate-gruppe3',\n",
    "    user='snartimaal',\n",
    "    password='#st44p44nu',\n",
    "    host='pg-graduate-delt.postgres.database.azure.com'\n",
    ") as conn:\n",
    "    cur = conn.cursor()"
   ]
  },
  {
   "attachments": {},
   "cell_type": "markdown",
   "metadata": {},
   "source": [
    "### Mattilsynet "
   ]
  },
  {
   "cell_type": "code",
   "execution_count": 438,
   "metadata": {},
   "outputs": [
    {
     "name": "stderr",
     "output_type": "stream",
     "text": [
      "C:\\Users\\STM\\AppData\\Local\\Temp\\ipykernel_3804\\320550458.py:3: UserWarning: pandas only supports SQLAlchemy connectable (engine/connection) or database string URI or sqlite3 DBAPI2 connection. Other DBAPI2 objects are not tested. Please consider using SQLAlchemy.\n",
      "  df_sql_mat = pd.read_sql_query(\"SELECT m.orgnummer, m.postnr, m.total_karakter, m.dato, m.tilsynsbesoektype, cs.antallansatte, cs.naeringskode1_kode \\\n"
     ]
    }
   ],
   "source": [
    "try:\n",
    "    cur = conn.cursor()\n",
    "    df_sql_mat = pd.read_sql_query(\"SELECT m.orgnummer, m.postnr, m.total_karakter, m.dato, m.tilsynsbesoektype, cs.antallansatte, cs.naeringskode1_kode \\\n",
    "                                  FROM mattilsynet m \\\n",
    "                                  JOIN orgnumber_junction oj ON m.orgnummer = oj.orgnumber \\\n",
    "                                  JOIN company_subunit cs ON oj.orgnumber = cs.organisasjonsnummer ;\", \n",
    "                                  conn)\n",
    "except:\n",
    "    conn.rollback()\n",
    "    cur.close()"
   ]
  },
  {
   "attachments": {},
   "cell_type": "markdown",
   "metadata": {},
   "source": [
    "### Google Review"
   ]
  },
  {
   "cell_type": "code",
   "execution_count": 439,
   "metadata": {},
   "outputs": [
    {
     "name": "stderr",
     "output_type": "stream",
     "text": [
      "C:\\Users\\STM\\AppData\\Local\\Temp\\ipykernel_3804\\2155275846.py:3: UserWarning: pandas only supports SQLAlchemy connectable (engine/connection) or database string URI or sqlite3 DBAPI2 connection. Other DBAPI2 objects are not tested. Please consider using SQLAlchemy.\n",
      "  df_sql_reviews = pd.read_sql(\"SELECT gr.organisasjonsnummer AS orgnummer, gr.individual_rating \\\n"
     ]
    }
   ],
   "source": [
    "try:\n",
    "    cur = conn.cursor()\n",
    "    df_sql_reviews = pd.read_sql(\"SELECT gr.organisasjonsnummer AS orgnummer, gr.individual_rating \\\n",
    "                                 FROM google_review gr;\", \n",
    "                                 conn)\n",
    "except:\n",
    "    conn.rollback()\n",
    "    cur.close()\n"
   ]
  },
  {
   "cell_type": "code",
   "execution_count": 440,
   "metadata": {},
   "outputs": [],
   "source": [
    "avg_df = df_sql_reviews.groupby('orgnummer').mean()\n",
    "min_max_df = (df_sql_reviews.groupby('orgnummer').max()) - (df_sql_reviews.groupby('orgnummer').min())\n",
    "min_max_df['dif_rating'] = min_max_df.pop('individual_rating')\n",
    "avg_df['avg_rating'] = avg_df.pop('individual_rating')"
   ]
  },
  {
   "cell_type": "code",
   "execution_count": 441,
   "metadata": {},
   "outputs": [],
   "source": [
    "df_test = pd.merge(df_sql_mat, avg_df, how='left', on='orgnummer')\n",
    "df_test = pd.merge(df_test, min_max_df, how='left', on='orgnummer')"
   ]
  },
  {
   "cell_type": "code",
   "execution_count": 442,
   "metadata": {},
   "outputs": [
    {
     "data": {
      "text/plain": [
       "orgnummer               0\n",
       "postnr                  0\n",
       "total_karakter          0\n",
       "dato                    0\n",
       "tilsynsbesoektype       0\n",
       "antallansatte           0\n",
       "naeringskode1_kode      0\n",
       "avg_rating            658\n",
       "dif_rating            658\n",
       "dtype: int64"
      ]
     },
     "execution_count": 442,
     "metadata": {},
     "output_type": "execute_result"
    }
   ],
   "source": [
    "df_test.isnull().sum()"
   ]
  },
  {
   "cell_type": "code",
   "execution_count": 443,
   "metadata": {},
   "outputs": [],
   "source": [
    "mean_avg = df_test['avg_rating'].mean()\n",
    "mean_dif = df_test['dif_rating'].mean()\n",
    "dt_test = df_test['avg_rating'].fillna(value=mean_avg, inplace=True)\n",
    "dt_test = df_test['dif_rating'].fillna(value=mean_dif, inplace=True)"
   ]
  },
  {
   "cell_type": "code",
   "execution_count": 462,
   "metadata": {},
   "outputs": [
    {
     "data": {
      "text/html": [
       "<div>\n",
       "<style scoped>\n",
       "    .dataframe tbody tr th:only-of-type {\n",
       "        vertical-align: middle;\n",
       "    }\n",
       "\n",
       "    .dataframe tbody tr th {\n",
       "        vertical-align: top;\n",
       "    }\n",
       "\n",
       "    .dataframe thead th {\n",
       "        text-align: right;\n",
       "    }\n",
       "</style>\n",
       "<table border=\"1\" class=\"dataframe\">\n",
       "  <thead>\n",
       "    <tr style=\"text-align: right;\">\n",
       "      <th></th>\n",
       "      <th>orgnummer</th>\n",
       "      <th>postnr</th>\n",
       "      <th>total_karakter</th>\n",
       "      <th>dato</th>\n",
       "      <th>tilsynsbesoektype</th>\n",
       "      <th>antallansatte</th>\n",
       "      <th>naeringskode1_kode</th>\n",
       "      <th>avg_rating</th>\n",
       "      <th>dif_rating</th>\n",
       "    </tr>\n",
       "  </thead>\n",
       "  <tbody>\n",
       "    <tr>\n",
       "      <th>0</th>\n",
       "      <td>-0.605357</td>\n",
       "      <td>0.009073</td>\n",
       "      <td>2</td>\n",
       "      <td>2022</td>\n",
       "      <td>1.503764</td>\n",
       "      <td>0.897237</td>\n",
       "      <td>0.092761</td>\n",
       "      <td>0.407268</td>\n",
       "      <td>-0.117689</td>\n",
       "    </tr>\n",
       "    <tr>\n",
       "      <th>1</th>\n",
       "      <td>0.667806</td>\n",
       "      <td>0.001201</td>\n",
       "      <td>0</td>\n",
       "      <td>2020</td>\n",
       "      <td>-0.664998</td>\n",
       "      <td>-0.274427</td>\n",
       "      <td>-1.013360</td>\n",
       "      <td>-0.130225</td>\n",
       "      <td>-0.117689</td>\n",
       "    </tr>\n",
       "    <tr>\n",
       "      <th>2</th>\n",
       "      <td>-0.606290</td>\n",
       "      <td>0.013008</td>\n",
       "      <td>0</td>\n",
       "      <td>2017</td>\n",
       "      <td>1.503764</td>\n",
       "      <td>-0.094171</td>\n",
       "      <td>0.092761</td>\n",
       "      <td>0.676015</td>\n",
       "      <td>-0.881121</td>\n",
       "    </tr>\n",
       "    <tr>\n",
       "      <th>3</th>\n",
       "      <td>-0.534404</td>\n",
       "      <td>-0.738743</td>\n",
       "      <td>0</td>\n",
       "      <td>2018</td>\n",
       "      <td>1.503764</td>\n",
       "      <td>-0.499746</td>\n",
       "      <td>0.092761</td>\n",
       "      <td>0.944762</td>\n",
       "      <td>-0.881121</td>\n",
       "    </tr>\n",
       "    <tr>\n",
       "      <th>4</th>\n",
       "      <td>-0.685037</td>\n",
       "      <td>2.815350</td>\n",
       "      <td>0</td>\n",
       "      <td>2018</td>\n",
       "      <td>1.503764</td>\n",
       "      <td>1.145089</td>\n",
       "      <td>-0.032083</td>\n",
       "      <td>-1.205213</td>\n",
       "      <td>0.645743</td>\n",
       "    </tr>\n",
       "    <tr>\n",
       "      <th>...</th>\n",
       "      <td>...</td>\n",
       "      <td>...</td>\n",
       "      <td>...</td>\n",
       "      <td>...</td>\n",
       "      <td>...</td>\n",
       "      <td>...</td>\n",
       "      <td>...</td>\n",
       "      <td>...</td>\n",
       "      <td>...</td>\n",
       "    </tr>\n",
       "    <tr>\n",
       "      <th>5836</th>\n",
       "      <td>-0.615516</td>\n",
       "      <td>-0.675769</td>\n",
       "      <td>0</td>\n",
       "      <td>2023</td>\n",
       "      <td>1.503764</td>\n",
       "      <td>0.108617</td>\n",
       "      <td>0.092761</td>\n",
       "      <td>0.000000</td>\n",
       "      <td>0.000000</td>\n",
       "    </tr>\n",
       "    <tr>\n",
       "      <th>5837</th>\n",
       "      <td>1.130859</td>\n",
       "      <td>-0.691513</td>\n",
       "      <td>1</td>\n",
       "      <td>2022</td>\n",
       "      <td>-0.664998</td>\n",
       "      <td>-0.567342</td>\n",
       "      <td>0.092886</td>\n",
       "      <td>-2.280200</td>\n",
       "      <td>1.409174</td>\n",
       "    </tr>\n",
       "    <tr>\n",
       "      <th>5838</th>\n",
       "      <td>-0.657099</td>\n",
       "      <td>-0.675769</td>\n",
       "      <td>0</td>\n",
       "      <td>2022</td>\n",
       "      <td>-0.664998</td>\n",
       "      <td>-0.567342</td>\n",
       "      <td>0.092761</td>\n",
       "      <td>1.213509</td>\n",
       "      <td>-1.644552</td>\n",
       "    </tr>\n",
       "    <tr>\n",
       "      <th>5839</th>\n",
       "      <td>-0.307071</td>\n",
       "      <td>-0.734807</td>\n",
       "      <td>1</td>\n",
       "      <td>2022</td>\n",
       "      <td>-0.664998</td>\n",
       "      <td>-0.184299</td>\n",
       "      <td>0.092761</td>\n",
       "      <td>-2.011453</td>\n",
       "      <td>1.409174</td>\n",
       "    </tr>\n",
       "    <tr>\n",
       "      <th>5840</th>\n",
       "      <td>-0.613353</td>\n",
       "      <td>1.209514</td>\n",
       "      <td>0</td>\n",
       "      <td>2022</td>\n",
       "      <td>1.503764</td>\n",
       "      <td>-0.567342</td>\n",
       "      <td>0.092886</td>\n",
       "      <td>0.676015</td>\n",
       "      <td>-0.881121</td>\n",
       "    </tr>\n",
       "  </tbody>\n",
       "</table>\n",
       "<p>5841 rows × 9 columns</p>\n",
       "</div>"
      ],
      "text/plain": [
       "      orgnummer    postnr  total_karakter  dato  tilsynsbesoektype  \\\n",
       "0     -0.605357  0.009073               2  2022           1.503764   \n",
       "1      0.667806  0.001201               0  2020          -0.664998   \n",
       "2     -0.606290  0.013008               0  2017           1.503764   \n",
       "3     -0.534404 -0.738743               0  2018           1.503764   \n",
       "4     -0.685037  2.815350               0  2018           1.503764   \n",
       "...         ...       ...             ...   ...                ...   \n",
       "5836  -0.615516 -0.675769               0  2023           1.503764   \n",
       "5837   1.130859 -0.691513               1  2022          -0.664998   \n",
       "5838  -0.657099 -0.675769               0  2022          -0.664998   \n",
       "5839  -0.307071 -0.734807               1  2022          -0.664998   \n",
       "5840  -0.613353  1.209514               0  2022           1.503764   \n",
       "\n",
       "      antallansatte  naeringskode1_kode  avg_rating  dif_rating  \n",
       "0          0.897237            0.092761    0.407268   -0.117689  \n",
       "1         -0.274427           -1.013360   -0.130225   -0.117689  \n",
       "2         -0.094171            0.092761    0.676015   -0.881121  \n",
       "3         -0.499746            0.092761    0.944762   -0.881121  \n",
       "4          1.145089           -0.032083   -1.205213    0.645743  \n",
       "...             ...                 ...         ...         ...  \n",
       "5836       0.108617            0.092761    0.000000    0.000000  \n",
       "5837      -0.567342            0.092886   -2.280200    1.409174  \n",
       "5838      -0.567342            0.092761    1.213509   -1.644552  \n",
       "5839      -0.184299            0.092761   -2.011453    1.409174  \n",
       "5840      -0.567342            0.092886    0.676015   -0.881121  \n",
       "\n",
       "[5841 rows x 9 columns]"
      ]
     },
     "execution_count": 462,
     "metadata": {},
     "output_type": "execute_result"
    }
   ],
   "source": [
    "df_test"
   ]
  },
  {
   "cell_type": "code",
   "execution_count": 463,
   "metadata": {},
   "outputs": [
    {
     "data": {
      "image/png": "[encoded data removed]",
      "text/plain": [
       "<Figure size 640x480 with 9 Axes>"
      ]
     },
     "metadata": {},
     "output_type": "display_data"
    }
   ],
   "source": [
    "df_test.hist(bins=50)\n",
    "plt.show()"
   ]
  },
  {
   "attachments": {},
   "cell_type": "markdown",
   "metadata": {},
   "source": [
    "# DATA PREP"
   ]
  },
  {
   "cell_type": "code",
   "execution_count": 460,
   "metadata": {},
   "outputs": [],
   "source": [
    "# Endre dato til kun år ? De 4 siste sifrene \n",
    "dato = df_test['dato']\n",
    "year_list = []\n",
    "\n",
    "for i in dato.values:\n",
    "    year_list.append(i[-4:])\n",
    "\n",
    "df_test['dato'] = year_list"
   ]
  },
  {
   "cell_type": "code",
   "execution_count": 461,
   "metadata": {},
   "outputs": [],
   "source": [
    "ss_features = ['postnr', 'orgnummer', 'tilsynsbesoektype', 'naeringskode1_kode', 'antallansatte', 'avg_rating', 'dif_rating']\n",
    "ss_scaler = StandardScaler()\n",
    "ss_scaler.fit(df_test[ss_features])\n",
    "transformed_ss = ss_scaler.transform(df_test[ss_features])\n",
    "df_test[ss_features] = transformed_ss"
   ]
  },
  {
   "attachments": {},
   "cell_type": "markdown",
   "metadata": {},
   "source": [
    "# TRAIN TEST SPLIT"
   ]
  },
  {
   "cell_type": "code",
   "execution_count": 464,
   "metadata": {},
   "outputs": [],
   "source": [
    "features_test = df_test[['postnr', 'dato', 'orgnummer', 'tilsynsbesoektype', 'naeringskode1_kode', 'antallansatte', 'avg_rating', 'dif_rating']]\n",
    "X = np.c_[features_test]\n",
    "y = np.c_[df_test['total_karakter']]"
   ]
  },
  {
   "cell_type": "code",
   "execution_count": 465,
   "metadata": {},
   "outputs": [
    {
     "name": "stdout",
     "output_type": "stream",
     "text": [
      "X len : 5841\n",
      "y len : 5841\n"
     ]
    }
   ],
   "source": [
    "print(f'X len : {len(X)}')\n",
    "print(f'y len : {len(y)}')"
   ]
  },
  {
   "cell_type": "code",
   "execution_count": 449,
   "metadata": {},
   "outputs": [
    {
     "name": "stdout",
     "output_type": "stream",
     "text": [
      "(5841, 8) (5841, 1)\n"
     ]
    }
   ],
   "source": [
    "print(X.data.shape,\n",
    "y.data.shape)"
   ]
  },
  {
   "cell_type": "code",
   "execution_count": 466,
   "metadata": {},
   "outputs": [],
   "source": [
    "X_train, X_test, y_train, y_test = train_test_split(X, y, test_size=0.2)"
   ]
  },
  {
   "cell_type": "code",
   "execution_count": 467,
   "metadata": {},
   "outputs": [
    {
     "name": "stdout",
     "output_type": "stream",
     "text": [
      "X_train len : 4672\n",
      "X_test len : 1169\n",
      "y_train len : 4672\n",
      "y_test len : 1169\n"
     ]
    }
   ],
   "source": [
    "print(f'X_train len : {len(X_train)}')\n",
    "print(f'X_test len : {len(X_test)}')\n",
    "print(f'y_train len : {len(y_train)}')\n",
    "print(f'y_test len : {len(y_test)}')"
   ]
  },
  {
   "cell_type": "code",
   "execution_count": 452,
   "metadata": {},
   "outputs": [
    {
     "name": "stdout",
     "output_type": "stream",
     "text": [
      "(4672, 8) (4672, 1)\n"
     ]
    }
   ],
   "source": [
    "print(X_train.shape, y_train.shape)"
   ]
  },
  {
   "attachments": {},
   "cell_type": "markdown",
   "metadata": {},
   "source": [
    "# Naiv score"
   ]
  },
  {
   "cell_type": "code",
   "execution_count": 468,
   "metadata": {},
   "outputs": [
    {
     "name": "stdout",
     "output_type": "stream",
     "text": [
      "y_pred_naiv : [[0.93471747]\n",
      " [0.93471747]\n",
      " [0.93471747]\n",
      " ...\n",
      " [0.93471747]\n",
      " [0.93471747]\n",
      " [0.93471747]]\n",
      "Naiv MSE : 0.9140641119852726\n",
      "Naiv MAE : 0.767837917609009\n"
     ]
    }
   ],
   "source": [
    "pred_naiv = np.mean(y_train)\n",
    "y_pred_naiv = np.full(y_test.shape, pred_naiv)\n",
    "print(f'y_pred_naiv : {y_pred_naiv}')\n",
    "\n",
    "mse_naiv = mean_squared_error(y_test, y_pred_naiv)\n",
    "print(f'Naiv MSE : {np.sqrt(mse_naiv)}') # 0.9006\n",
    "\n",
    "mae_naiv = mean_absolute_error(y_test, y_pred_naiv)\n",
    "print(f'Naiv MAE : {mae_naiv}') # 0.7660"
   ]
  },
  {
   "attachments": {},
   "cell_type": "markdown",
   "metadata": {},
   "source": [
    "# XGBoost Model"
   ]
  },
  {
   "cell_type": "code",
   "execution_count": 469,
   "metadata": {},
   "outputs": [
    {
     "name": "stdout",
     "output_type": "stream",
     "text": [
      "[0]\tvalidation_0-rmse:0.92397\n",
      "[1]\tvalidation_0-rmse:0.86955\n",
      "[2]\tvalidation_0-rmse:0.84009\n",
      "[3]\tvalidation_0-rmse:0.82337\n",
      "[4]\tvalidation_0-rmse:0.81144\n",
      "[5]\tvalidation_0-rmse:0.80655\n",
      "[6]\tvalidation_0-rmse:0.80455\n",
      "[7]\tvalidation_0-rmse:0.80445\n",
      "[8]\tvalidation_0-rmse:0.80408\n",
      "[9]\tvalidation_0-rmse:0.80185\n",
      "[10]\tvalidation_0-rmse:0.79996\n",
      "[11]\tvalidation_0-rmse:0.79875\n",
      "[12]\tvalidation_0-rmse:0.79694\n",
      "[13]\tvalidation_0-rmse:0.79867\n",
      "[14]\tvalidation_0-rmse:0.79901\n",
      "[15]\tvalidation_0-rmse:0.79859\n",
      "[16]\tvalidation_0-rmse:0.79830\n",
      "[17]\tvalidation_0-rmse:0.79805\n",
      "[18]\tvalidation_0-rmse:0.79740\n",
      "[19]\tvalidation_0-rmse:0.79736\n",
      "[20]\tvalidation_0-rmse:0.79687\n",
      "[21]\tvalidation_0-rmse:0.79719\n",
      "[22]\tvalidation_0-rmse:0.79763\n",
      "[23]\tvalidation_0-rmse:0.79960\n",
      "[24]\tvalidation_0-rmse:0.79800\n",
      "[25]\tvalidation_0-rmse:0.79849\n",
      "[26]\tvalidation_0-rmse:0.79694\n",
      "[27]\tvalidation_0-rmse:0.79678\n",
      "[28]\tvalidation_0-rmse:0.79546\n",
      "[29]\tvalidation_0-rmse:0.79533\n",
      "[30]\tvalidation_0-rmse:0.79730\n",
      "[31]\tvalidation_0-rmse:0.79717\n",
      "[32]\tvalidation_0-rmse:0.79656\n",
      "[33]\tvalidation_0-rmse:0.79663\n",
      "[34]\tvalidation_0-rmse:0.79604\n",
      "[35]\tvalidation_0-rmse:0.79566\n",
      "[36]\tvalidation_0-rmse:0.79517\n",
      "[37]\tvalidation_0-rmse:0.79545\n",
      "[38]\tvalidation_0-rmse:0.79443\n",
      "[39]\tvalidation_0-rmse:0.79486\n",
      "[40]\tvalidation_0-rmse:0.79540\n",
      "[41]\tvalidation_0-rmse:0.79517\n",
      "[42]\tvalidation_0-rmse:0.79533\n",
      "[43]\tvalidation_0-rmse:0.79594\n",
      "[44]\tvalidation_0-rmse:0.79586\n",
      "[45]\tvalidation_0-rmse:0.79601\n",
      "[46]\tvalidation_0-rmse:0.79610\n",
      "[47]\tvalidation_0-rmse:0.79690\n",
      "[48]\tvalidation_0-rmse:0.79591\n",
      "[49]\tvalidation_0-rmse:0.79658\n",
      "[50]\tvalidation_0-rmse:0.79651\n",
      "[51]\tvalidation_0-rmse:0.79646\n",
      "[52]\tvalidation_0-rmse:0.79705\n",
      "[53]\tvalidation_0-rmse:0.79775\n",
      "[54]\tvalidation_0-rmse:0.79751\n",
      "[55]\tvalidation_0-rmse:0.79834\n",
      "[56]\tvalidation_0-rmse:0.80027\n",
      "[57]\tvalidation_0-rmse:0.79912\n"
     ]
    }
   ],
   "source": [
    "regressor = xgb.XGBRegressor(\n",
    "    early_stopping_rounds = 20,\n",
    "    max_depth = 5\n",
    ")\n",
    "\n",
    "regressor.fit(X_train, y_train, eval_set = [(X_test, y_test)])\n",
    "importance_check = pd.DataFrame(regressor.feature_importances_.reshape(1,-1), columns = [['postnr', 'dato', 'orgnummer', 'tilsynsbesoektype', 'naeringskode1_kode', 'antallansatte', 'avg_rating', 'dif_rating']])\n"
   ]
  },
  {
   "cell_type": "code",
   "execution_count": 470,
   "metadata": {},
   "outputs": [
    {
     "data": {
      "image/png": "[encoded data removed]",
      "text/plain": [
       "<Figure size 640x480 with 1 Axes>"
      ]
     },
     "metadata": {},
     "output_type": "display_data"
    }
   ],
   "source": [
    "plt.barh(['postnr', 'dato', 'orgnummer', 'tilsynsbesoektype', 'naeringskode1_kode', 'antallansatte', 'avg_rating', 'dif_rating'], regressor.feature_importances_)\n",
    "plt.show()"
   ]
  },
  {
   "attachments": {},
   "cell_type": "markdown",
   "metadata": {},
   "source": [
    "# Scoring xg"
   ]
  },
  {
   "cell_type": "code",
   "execution_count": 471,
   "metadata": {},
   "outputs": [
    {
     "name": "stdout",
     "output_type": "stream",
     "text": [
      "Train R2 XG : 0.4455244959115683\n",
      "Train MSE XG : 0.6693501308580992\n",
      "Train MAE XG : 0.5216248810424051\n",
      "Test R2 XG : 0.24410244362941003\n",
      "Test MSE XG : 0.7944299246001356\n",
      "Train MAE XG : 0.6127805068075755\n"
     ]
    }
   ],
   "source": [
    "# Train xg\n",
    "r2_train_xg = regressor.score(X_train, y_train)\n",
    "print(f'Train R2 XG : {r2_train_xg}') # 6f 0.3071 / m.år 0.4545\n",
    "\n",
    "y_pred_train_xg = regressor.predict(X_train)\n",
    "mse_train_xg = mean_squared_error(y_train, y_pred_train_xg)\n",
    "print(f'Train MSE XG : {np.sqrt(mse_train_xg)}') # 6f 0.7480 / m.år 0.6641\n",
    "\n",
    "mae_train_xg = mean_absolute_error(y_train, y_pred_train_xg)\n",
    "print(f'Train MAE XG : {mae_train_xg}') # 6f 0.5854 / m.år 0.5156\n",
    "\n",
    "# Test xg\n",
    "r2_test_xg = regressor.score(X_test, y_test)\n",
    "print(f'Test R2 XG : {r2_test_xg}') # 6f 0.1754 / m.år 0.2766\n",
    "\n",
    "y_pred_test_xg = regressor.predict(X_test)\n",
    "mse_test_xg = mean_squared_error(y_test, y_pred_test_xg)\n",
    "print(f'Test MSE XG : {np.sqrt(mse_test_xg)}') # 6f 0.8305 / m.år 0.7755\n",
    "\n",
    "mae_test_xg = mean_absolute_error(y_test, y_pred_test_xg)\n",
    "print(f'Train MAE XG : {mae_test_xg}') # 6f 0.6631 / m.år 0.6029"
   ]
  },
  {
   "attachments": {},
   "cell_type": "markdown",
   "metadata": {},
   "source": [
    "# Linear Regression Model"
   ]
  },
  {
   "cell_type": "code",
   "execution_count": 472,
   "metadata": {},
   "outputs": [
    {
     "name": "stdout",
     "output_type": "stream",
     "text": [
      "Train R2 : 0.162397640396848\n",
      "Train MAE : 0.6606600211775829\n",
      "Train MSE : 0.8226803354544512\n",
      "Test R2 : 0.19524302646346026\n",
      "Test MAE : 0.6540670209348891\n",
      "Test MSE : 0.8197029507847381\n"
     ]
    }
   ],
   "source": [
    "lin_reg_model = LinearRegression()\n",
    "lin_reg_model.fit(X_test, y_test)\n",
    "\n",
    "## TRAIN\n",
    "\n",
    "r2_train = lin_reg_model.score(X_train, y_train)\n",
    "y_train_pred_linreg = lin_reg_model.predict(X_train)\n",
    "mae_train = mean_absolute_error(y_train, y_train_pred_linreg)\n",
    "mse_train = mean_squared_error(y_train, y_train_pred_linreg)\n",
    "print(f'Train R2 : {r2_train}') # 0.1616 / 6f 0.17036 / m.år 0.1595\n",
    "print(f'Train MAE : {mae_train}') # 0.6758 / 6f 0.6559 / m.år 0.6557\n",
    "print(f'Train MSE : {np.sqrt(mse_train)}') # 0.8256 / 6f 0.8185 / m.år 0.8244\n",
    "\n",
    "## TEST\n",
    "\n",
    "r2_test = lin_reg_model.score(X_test, y_test)\n",
    "y_test_pred_linreg = lin_reg_model.predict(X_test)\n",
    "mae_test = mean_absolute_error(y_test, y_test_pred_linreg)\n",
    "mse_test = mean_squared_error(y_test, y_test_pred_linreg)\n",
    "print(f'Test R2 : {r2_test}') # 0.1802 / 6f 0.1664 / m.år 0.2152\n",
    "print(f'Test MAE : {mae_test}') # 0.6662 / 6f 0.6802 / m.år 0.6399\n",
    "print(f'Test MSE : {np.sqrt(mse_test)}') # 0.8164 / 6f 0.8351 / m.år 0.8077"
   ]
  },
  {
   "attachments": {},
   "cell_type": "markdown",
   "metadata": {},
   "source": [
    "# Logistic Regression Model"
   ]
  },
  {
   "cell_type": "code",
   "execution_count": 473,
   "metadata": {},
   "outputs": [
    {
     "name": "stdout",
     "output_type": "stream",
     "text": [
      "Train accuracy : 0.540667808219178\n",
      "Train Precision : 0.0\n",
      "Train Recall : 0.0\n"
     ]
    },
    {
     "name": "stderr",
     "output_type": "stream",
     "text": [
      "C:\\Users\\STM\\AppData\\Roaming\\Python\\Python310\\site-packages\\sklearn\\utils\\validation.py:1141: DataConversionWarning: A column-vector y was passed when a 1d array was expected. Please change the shape of y to (n_samples, ), for example using ravel().\n",
      "  y = column_or_1d(y, warn=True)\n"
     ]
    },
    {
     "data": {
      "image/png": "[encoded data removed]",
      "text/plain": [
       "<Figure size 640x480 with 2 Axes>"
      ]
     },
     "metadata": {},
     "output_type": "display_data"
    }
   ],
   "source": [
    "# y_train = y_train.reshape(-1)\n",
    "log_reg_model = LogisticRegression(max_iter = 1000)\n",
    "log_reg_model.fit(X_train, y_train)\n",
    "\n",
    "y_pred_cm = log_reg_model.predict(X_train)\n",
    "#y_train_pred_prod = log_reg_model.predict_proba(X_train)\n",
    "#y_train_pred_prod_1 = y_train_pred_prod[:,1]\n",
    "#y_train_pred = y_train_pred_prod_1 > 0.1\n",
    "\n",
    "train_acc = accuracy_score(y_train, y_pred_cm)\n",
    "print(f'Train accuracy : {train_acc}')\n",
    "\n",
    "cm_train = confusion_matrix(y_train, y_pred_cm)\n",
    "\n",
    "tn_train = cm_train[0,0]\n",
    "fp_train = cm_train[1,1]\n",
    "fn_train = cm_train[2,2]\n",
    "tp_train = cm_train[3,3]\n",
    "\n",
    "precision_train = tp_train/(tp_train+fp_train)\n",
    "recall_train = tp_train/(tp_train+fn_train)\n",
    "print(f'Train Precision : {precision_train}')\n",
    "print(f'Train Recall : {recall_train}')\n",
    "\n",
    "ConfusionMatrixDisplay(cm_train).plot()\n",
    "plt.show()"
   ]
  },
  {
   "attachments": {},
   "cell_type": "markdown",
   "metadata": {},
   "source": [
    "# KNeighbors Regressor Model"
   ]
  },
  {
   "cell_type": "code",
   "execution_count": 477,
   "metadata": {},
   "outputs": [
    {
     "name": "stdout",
     "output_type": "stream",
     "text": [
      "Knn Train Score:\n",
      "R2_train : 0.19940418928952197\n",
      "MAE train : 0.6515860445205479\n",
      "MSE train : 0.8043014044149343\n",
      "Knn Test Score:\n",
      "R2_test : 0.18643182620523802\n",
      "MAE test : 0.6663301967493584\n",
      "MSEtest : 0.8241781555975886\n"
     ]
    }
   ],
   "source": [
    "model_knn = KNeighborsRegressor(n_neighbors=100)\n",
    "model_knn.fit(X_train, y_train)\n",
    "\n",
    "# KNN score\n",
    "# Train\n",
    "R2_train_knn = model_knn.score(X_train, y_train)\n",
    "y_pred_train_knn = model_knn.predict(X_train)\n",
    "mae_train_knn = mean_absolute_error(y_train, y_pred_train_knn)\n",
    "mse_train_knn = mean_squared_error(y_train, y_pred_train_knn)\n",
    "print(f'Knn Train Score:')\n",
    "print(f'R2_train : {R2_train_knn}') # 0.3681\n",
    "print(f'MAE train : {mae_train_knn}') # 0.5506\n",
    "print(f'MSE train : {np.sqrt(mse_train_knn)}') # 0.7171\n",
    "\n",
    "# Test\n",
    "R2_test_knn = model_knn.score(X_test, y_test)\n",
    "y_test_pred_knn = model_knn.predict(X_test)\n",
    "mae_test_knn = mean_absolute_error(y_test, y_test_pred_knn)\n",
    "mse_test_knn = mean_squared_error(y_test, y_test_pred_knn)\n",
    "print(f'Knn Test Score:')\n",
    "print(f'R2_test : {R2_test_knn}') # 0.1192\n",
    "print(f'MAE test : {mae_test_knn}') # 0.6579\n",
    "print(f'MSEtest : {np.sqrt(mse_test_knn)}') # 0.8453"
   ]
  }
 ],
 "metadata": {
  "kernelspec": {
   "display_name": "Python 3",
   "language": "python",
   "name": "python3"
  },
  "language_info": {
   "codemirror_mode": {
    "name": "ipython",
    "version": 3
   },
   "file_extension": ".py",
   "mimetype": "text/x-python",
   "name": "python",
   "nbconvert_exporter": "python",
   "pygments_lexer": "ipython3",
   "version": "3.10.8"
  },
  "orig_nbformat": 4,
  "vscode": {
   "interpreter": {
    "hash": "26de051ba29f2982a8de78e945f0abaf191376122a1563185a90213a26c5da77"
   }
  }
 },
 "nbformat": 4,
 "nbformat_minor": 2
}
