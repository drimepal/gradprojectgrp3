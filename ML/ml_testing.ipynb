{
 "cells": [
  {
   "cell_type": "code",
   "execution_count": 601,
   "metadata": {},
   "outputs": [],
   "source": [
    "import pandas as pd\n",
    "import numpy as np\n",
    "import matplotlib.pyplot as plt\n",
    "import xgboost as xgb\n",
    "from sklearn.preprocessing import StandardScaler\n",
    "from sklearn.neighbors import KNeighborsRegressor\n",
    "from sklearn.linear_model import LinearRegression, LogisticRegression \n",
    "from sklearn.model_selection import train_test_split\n",
    "from sklearn.metrics import mean_squared_error, mean_absolute_error\n",
    "from sklearn.metrics import confusion_matrix, ConfusionMatrixDisplay, precision_score, recall_score\n",
    "from sklearn.metrics import accuracy_score"
   ]
  },
  {
   "attachments": {},
   "cell_type": "markdown",
   "metadata": {},
   "source": [
    "# READ FROM DATABASE"
   ]
  },
  {
   "cell_type": "code",
   "execution_count": 602,
   "metadata": {},
   "outputs": [],
   "source": [
    "import psycopg2"
   ]
  },
  {
   "cell_type": "code",
   "execution_count": 603,
   "metadata": {},
   "outputs": [],
   "source": [
    "# jdbc:postgresql://pg-graduate-delt.postgres.database.azure.com:5432/{your_database}?user=snartimaal&password={your_password}&sslmode=require\n",
    "with psycopg2.connect(\n",
    "    database='pgsql-graduate-gruppe3',\n",
    "    user='snartimaal',\n",
    "    password='#st44p44nu',\n",
    "    host='pg-graduate-delt.postgres.database.azure.com'\n",
    ") as conn:\n",
    "    cur = conn.cursor()"
   ]
  },
  {
   "attachments": {},
   "cell_type": "markdown",
   "metadata": {},
   "source": [
    "### Mattilsynet "
   ]
  },
  {
   "cell_type": "code",
   "execution_count": 604,
   "metadata": {},
   "outputs": [
    {
     "name": "stderr",
     "output_type": "stream",
     "text": [
      "C:\\Users\\STM\\AppData\\Local\\Temp\\ipykernel_3804\\320550458.py:3: UserWarning: pandas only supports SQLAlchemy connectable (engine/connection) or database string URI or sqlite3 DBAPI2 connection. Other DBAPI2 objects are not tested. Please consider using SQLAlchemy.\n",
      "  df_sql_mat = pd.read_sql_query(\"SELECT m.orgnummer, m.postnr, m.total_karakter, m.dato, m.tilsynsbesoektype, cs.antallansatte, cs.naeringskode1_kode \\\n"
     ]
    }
   ],
   "source": [
    "try:\n",
    "    cur = conn.cursor()\n",
    "    df_sql_mat = pd.read_sql_query(\"SELECT m.orgnummer, m.postnr, m.total_karakter, m.dato, m.tilsynsbesoektype, cs.antallansatte, cs.naeringskode1_kode \\\n",
    "                                  FROM mattilsynet m \\\n",
    "                                  JOIN orgnumber_junction oj ON m.orgnummer = oj.orgnumber \\\n",
    "                                  JOIN company_subunit cs ON oj.orgnumber = cs.organisasjonsnummer ;\", \n",
    "                                  conn)\n",
    "except:\n",
    "    conn.rollback()\n",
    "    cur.close()"
   ]
  },
  {
   "attachments": {},
   "cell_type": "markdown",
   "metadata": {},
   "source": [
    "### Google Review"
   ]
  },
  {
   "cell_type": "code",
   "execution_count": 522,
   "metadata": {},
   "outputs": [
    {
     "name": "stderr",
     "output_type": "stream",
     "text": [
      "C:\\Users\\STM\\AppData\\Local\\Temp\\ipykernel_3804\\2155275846.py:3: UserWarning: pandas only supports SQLAlchemy connectable (engine/connection) or database string URI or sqlite3 DBAPI2 connection. Other DBAPI2 objects are not tested. Please consider using SQLAlchemy.\n",
      "  df_sql_reviews = pd.read_sql(\"SELECT gr.organisasjonsnummer AS orgnummer, gr.individual_rating \\\n"
     ]
    }
   ],
   "source": [
    "try:\n",
    "    cur = conn.cursor()\n",
    "    df_sql_reviews = pd.read_sql(\"SELECT gr.organisasjonsnummer AS orgnummer, gr.individual_rating \\\n",
    "                                 FROM google_review gr;\", \n",
    "                                 conn)\n",
    "except:\n",
    "    conn.rollback()\n",
    "    cur.close()\n"
   ]
  },
  {
   "cell_type": "code",
   "execution_count": 523,
   "metadata": {},
   "outputs": [],
   "source": [
    "avg_df = df_sql_reviews.groupby('orgnummer').mean()\n",
    "min_max_df = (df_sql_reviews.groupby('orgnummer').max()) - (df_sql_reviews.groupby('orgnummer').min())\n",
    "min_max_df['dif_rating'] = min_max_df.pop('individual_rating')\n",
    "avg_df['avg_rating'] = avg_df.pop('individual_rating')"
   ]
  },
  {
   "cell_type": "code",
   "execution_count": 524,
   "metadata": {},
   "outputs": [
    {
     "data": {
      "text/html": [
       "<div>\n",
       "<style scoped>\n",
       "    .dataframe tbody tr th:only-of-type {\n",
       "        vertical-align: middle;\n",
       "    }\n",
       "\n",
       "    .dataframe tbody tr th {\n",
       "        vertical-align: top;\n",
       "    }\n",
       "\n",
       "    .dataframe thead th {\n",
       "        text-align: right;\n",
       "    }\n",
       "</style>\n",
       "<table border=\"1\" class=\"dataframe\">\n",
       "  <thead>\n",
       "    <tr style=\"text-align: right;\">\n",
       "      <th></th>\n",
       "      <th>dif_rating</th>\n",
       "    </tr>\n",
       "    <tr>\n",
       "      <th>orgnummer</th>\n",
       "      <th></th>\n",
       "    </tr>\n",
       "  </thead>\n",
       "  <tbody>\n",
       "    <tr>\n",
       "      <th>811614742</th>\n",
       "      <td>3.0</td>\n",
       "    </tr>\n",
       "    <tr>\n",
       "      <th>812467832</th>\n",
       "      <td>1.0</td>\n",
       "    </tr>\n",
       "    <tr>\n",
       "      <th>812561952</th>\n",
       "      <td>4.0</td>\n",
       "    </tr>\n",
       "    <tr>\n",
       "      <th>812869922</th>\n",
       "      <td>4.0</td>\n",
       "    </tr>\n",
       "    <tr>\n",
       "      <th>812901842</th>\n",
       "      <td>2.0</td>\n",
       "    </tr>\n",
       "    <tr>\n",
       "      <th>...</th>\n",
       "      <td>...</td>\n",
       "    </tr>\n",
       "    <tr>\n",
       "      <th>999640516</th>\n",
       "      <td>4.0</td>\n",
       "    </tr>\n",
       "    <tr>\n",
       "      <th>999650236</th>\n",
       "      <td>0.0</td>\n",
       "    </tr>\n",
       "    <tr>\n",
       "      <th>999651380</th>\n",
       "      <td>2.0</td>\n",
       "    </tr>\n",
       "    <tr>\n",
       "      <th>999664113</th>\n",
       "      <td>4.0</td>\n",
       "    </tr>\n",
       "    <tr>\n",
       "      <th>999667171</th>\n",
       "      <td>1.0</td>\n",
       "    </tr>\n",
       "  </tbody>\n",
       "</table>\n",
       "<p>1850 rows × 1 columns</p>\n",
       "</div>"
      ],
      "text/plain": [
       "           dif_rating\n",
       "orgnummer            \n",
       "811614742         3.0\n",
       "812467832         1.0\n",
       "812561952         4.0\n",
       "812869922         4.0\n",
       "812901842         2.0\n",
       "...               ...\n",
       "999640516         4.0\n",
       "999650236         0.0\n",
       "999651380         2.0\n",
       "999664113         4.0\n",
       "999667171         1.0\n",
       "\n",
       "[1850 rows x 1 columns]"
      ]
     },
     "execution_count": 524,
     "metadata": {},
     "output_type": "execute_result"
    }
   ],
   "source": [
    "min_max_df"
   ]
  },
  {
   "cell_type": "code",
   "execution_count": 531,
   "metadata": {},
   "outputs": [],
   "source": [
    "df = pd.merge(df_sql_mat, avg_df, how='left', on='orgnummer')\n",
    "df = pd.merge(df, min_max_df, how='left', on='orgnummer')"
   ]
  },
  {
   "cell_type": "code",
   "execution_count": 532,
   "metadata": {},
   "outputs": [
    {
     "data": {
      "text/html": [
       "<div>\n",
       "<style scoped>\n",
       "    .dataframe tbody tr th:only-of-type {\n",
       "        vertical-align: middle;\n",
       "    }\n",
       "\n",
       "    .dataframe tbody tr th {\n",
       "        vertical-align: top;\n",
       "    }\n",
       "\n",
       "    .dataframe thead th {\n",
       "        text-align: right;\n",
       "    }\n",
       "</style>\n",
       "<table border=\"1\" class=\"dataframe\">\n",
       "  <thead>\n",
       "    <tr style=\"text-align: right;\">\n",
       "      <th></th>\n",
       "      <th>orgnummer</th>\n",
       "      <th>postnr</th>\n",
       "      <th>total_karakter</th>\n",
       "      <th>dato</th>\n",
       "      <th>tilsynsbesoektype</th>\n",
       "      <th>antallansatte</th>\n",
       "      <th>naeringskode1_kode</th>\n",
       "      <th>avg_rating</th>\n",
       "      <th>dif_rating</th>\n",
       "    </tr>\n",
       "  </thead>\n",
       "  <tbody>\n",
       "    <tr>\n",
       "      <th>0</th>\n",
       "      <td>915937144</td>\n",
       "      <td>368</td>\n",
       "      <td>2</td>\n",
       "      <td>21112022</td>\n",
       "      <td>1</td>\n",
       "      <td>69.0</td>\n",
       "      <td>56.101</td>\n",
       "      <td>4.4</td>\n",
       "      <td>2.0</td>\n",
       "    </tr>\n",
       "    <tr>\n",
       "      <th>1</th>\n",
       "      <td>974999439</td>\n",
       "      <td>366</td>\n",
       "      <td>0</td>\n",
       "      <td>23012020</td>\n",
       "      <td>0</td>\n",
       "      <td>17.0</td>\n",
       "      <td>47.241</td>\n",
       "      <td>4.0</td>\n",
       "      <td>2.0</td>\n",
       "    </tr>\n",
       "    <tr>\n",
       "      <th>2</th>\n",
       "      <td>915893848</td>\n",
       "      <td>369</td>\n",
       "      <td>0</td>\n",
       "      <td>14092017</td>\n",
       "      <td>1</td>\n",
       "      <td>25.0</td>\n",
       "      <td>56.101</td>\n",
       "      <td>4.6</td>\n",
       "      <td>1.0</td>\n",
       "    </tr>\n",
       "    <tr>\n",
       "      <th>3</th>\n",
       "      <td>919228660</td>\n",
       "      <td>178</td>\n",
       "      <td>0</td>\n",
       "      <td>21082018</td>\n",
       "      <td>1</td>\n",
       "      <td>7.0</td>\n",
       "      <td>56.101</td>\n",
       "      <td>4.8</td>\n",
       "      <td>1.0</td>\n",
       "    </tr>\n",
       "    <tr>\n",
       "      <th>4</th>\n",
       "      <td>912240770</td>\n",
       "      <td>1081</td>\n",
       "      <td>0</td>\n",
       "      <td>26112018</td>\n",
       "      <td>1</td>\n",
       "      <td>80.0</td>\n",
       "      <td>55.101</td>\n",
       "      <td>3.2</td>\n",
       "      <td>3.0</td>\n",
       "    </tr>\n",
       "    <tr>\n",
       "      <th>...</th>\n",
       "      <td>...</td>\n",
       "      <td>...</td>\n",
       "      <td>...</td>\n",
       "      <td>...</td>\n",
       "      <td>...</td>\n",
       "      <td>...</td>\n",
       "      <td>...</td>\n",
       "      <td>...</td>\n",
       "      <td>...</td>\n",
       "    </tr>\n",
       "    <tr>\n",
       "      <th>5836</th>\n",
       "      <td>915465870</td>\n",
       "      <td>194</td>\n",
       "      <td>0</td>\n",
       "      <td>19012023</td>\n",
       "      <td>1</td>\n",
       "      <td>34.0</td>\n",
       "      <td>56.101</td>\n",
       "      <td>NaN</td>\n",
       "      <td>NaN</td>\n",
       "    </tr>\n",
       "    <tr>\n",
       "      <th>5837</th>\n",
       "      <td>996480550</td>\n",
       "      <td>190</td>\n",
       "      <td>1</td>\n",
       "      <td>01092022</td>\n",
       "      <td>0</td>\n",
       "      <td>4.0</td>\n",
       "      <td>56.102</td>\n",
       "      <td>2.4</td>\n",
       "      <td>4.0</td>\n",
       "    </tr>\n",
       "    <tr>\n",
       "      <th>5838</th>\n",
       "      <td>913536835</td>\n",
       "      <td>194</td>\n",
       "      <td>0</td>\n",
       "      <td>09092022</td>\n",
       "      <td>0</td>\n",
       "      <td>4.0</td>\n",
       "      <td>56.101</td>\n",
       "      <td>5.0</td>\n",
       "      <td>0.0</td>\n",
       "    </tr>\n",
       "    <tr>\n",
       "      <th>5839</th>\n",
       "      <td>929774671</td>\n",
       "      <td>179</td>\n",
       "      <td>1</td>\n",
       "      <td>12122022</td>\n",
       "      <td>0</td>\n",
       "      <td>21.0</td>\n",
       "      <td>56.101</td>\n",
       "      <td>2.6</td>\n",
       "      <td>4.0</td>\n",
       "    </tr>\n",
       "    <tr>\n",
       "      <th>5840</th>\n",
       "      <td>915566197</td>\n",
       "      <td>673</td>\n",
       "      <td>0</td>\n",
       "      <td>22122022</td>\n",
       "      <td>1</td>\n",
       "      <td>4.0</td>\n",
       "      <td>56.102</td>\n",
       "      <td>4.6</td>\n",
       "      <td>1.0</td>\n",
       "    </tr>\n",
       "  </tbody>\n",
       "</table>\n",
       "<p>5841 rows × 9 columns</p>\n",
       "</div>"
      ],
      "text/plain": [
       "      orgnummer  postnr  total_karakter      dato  tilsynsbesoektype  \\\n",
       "0     915937144     368               2  21112022                  1   \n",
       "1     974999439     366               0  23012020                  0   \n",
       "2     915893848     369               0  14092017                  1   \n",
       "3     919228660     178               0  21082018                  1   \n",
       "4     912240770    1081               0  26112018                  1   \n",
       "...         ...     ...             ...       ...                ...   \n",
       "5836  915465870     194               0  19012023                  1   \n",
       "5837  996480550     190               1  01092022                  0   \n",
       "5838  913536835     194               0  09092022                  0   \n",
       "5839  929774671     179               1  12122022                  0   \n",
       "5840  915566197     673               0  22122022                  1   \n",
       "\n",
       "      antallansatte  naeringskode1_kode  avg_rating  dif_rating  \n",
       "0              69.0              56.101         4.4         2.0  \n",
       "1              17.0              47.241         4.0         2.0  \n",
       "2              25.0              56.101         4.6         1.0  \n",
       "3               7.0              56.101         4.8         1.0  \n",
       "4              80.0              55.101         3.2         3.0  \n",
       "...             ...                 ...         ...         ...  \n",
       "5836           34.0              56.101         NaN         NaN  \n",
       "5837            4.0              56.102         2.4         4.0  \n",
       "5838            4.0              56.101         5.0         0.0  \n",
       "5839           21.0              56.101         2.6         4.0  \n",
       "5840            4.0              56.102         4.6         1.0  \n",
       "\n",
       "[5841 rows x 9 columns]"
      ]
     },
     "execution_count": 532,
     "metadata": {},
     "output_type": "execute_result"
    }
   ],
   "source": [
    "df"
   ]
  },
  {
   "cell_type": "code",
   "execution_count": 533,
   "metadata": {},
   "outputs": [
    {
     "data": {
      "text/plain": [
       "orgnummer               0\n",
       "postnr                  0\n",
       "total_karakter          0\n",
       "dato                    0\n",
       "tilsynsbesoektype       0\n",
       "antallansatte           0\n",
       "naeringskode1_kode      0\n",
       "avg_rating            658\n",
       "dif_rating            658\n",
       "dtype: int64"
      ]
     },
     "execution_count": 533,
     "metadata": {},
     "output_type": "execute_result"
    }
   ],
   "source": [
    "df.isnull().sum()"
   ]
  },
  {
   "cell_type": "code",
   "execution_count": 546,
   "metadata": {},
   "outputs": [],
   "source": [
    "df_copy = df.copy()"
   ]
  },
  {
   "cell_type": "code",
   "execution_count": 547,
   "metadata": {},
   "outputs": [
    {
     "data": {
      "text/plain": [
       "4.0969129847578625"
      ]
     },
     "execution_count": 547,
     "metadata": {},
     "output_type": "execute_result"
    }
   ],
   "source": [
    "mean_avg = df_copy['avg_rating'].mean()\n",
    "mean_avg"
   ]
  },
  {
   "cell_type": "code",
   "execution_count": 551,
   "metadata": {},
   "outputs": [],
   "source": [
    "df_copy['avg_rating'] = df_copy['avg_rating'].fillna(value=mean_avg)\n"
   ]
  },
  {
   "cell_type": "code",
   "execution_count": 552,
   "metadata": {},
   "outputs": [],
   "source": [
    "mean_dif = df_copy['dif_rating'].mean()\n",
    "df_copy['dif_rating'] = df_copy['dif_rating'].fillna(value=mean_dif)"
   ]
  },
  {
   "cell_type": "code",
   "execution_count": 553,
   "metadata": {},
   "outputs": [
    {
     "data": {
      "text/html": [
       "<div>\n",
       "<style scoped>\n",
       "    .dataframe tbody tr th:only-of-type {\n",
       "        vertical-align: middle;\n",
       "    }\n",
       "\n",
       "    .dataframe tbody tr th {\n",
       "        vertical-align: top;\n",
       "    }\n",
       "\n",
       "    .dataframe thead th {\n",
       "        text-align: right;\n",
       "    }\n",
       "</style>\n",
       "<table border=\"1\" class=\"dataframe\">\n",
       "  <thead>\n",
       "    <tr style=\"text-align: right;\">\n",
       "      <th></th>\n",
       "      <th>orgnummer</th>\n",
       "      <th>postnr</th>\n",
       "      <th>total_karakter</th>\n",
       "      <th>dato</th>\n",
       "      <th>tilsynsbesoektype</th>\n",
       "      <th>antallansatte</th>\n",
       "      <th>naeringskode1_kode</th>\n",
       "      <th>avg_rating</th>\n",
       "      <th>dif_rating</th>\n",
       "    </tr>\n",
       "  </thead>\n",
       "  <tbody>\n",
       "    <tr>\n",
       "      <th>0</th>\n",
       "      <td>915937144</td>\n",
       "      <td>368</td>\n",
       "      <td>2</td>\n",
       "      <td>21112022</td>\n",
       "      <td>1</td>\n",
       "      <td>69.0</td>\n",
       "      <td>56.101</td>\n",
       "      <td>4.400000</td>\n",
       "      <td>2.000000</td>\n",
       "    </tr>\n",
       "    <tr>\n",
       "      <th>1</th>\n",
       "      <td>974999439</td>\n",
       "      <td>366</td>\n",
       "      <td>0</td>\n",
       "      <td>23012020</td>\n",
       "      <td>0</td>\n",
       "      <td>17.0</td>\n",
       "      <td>47.241</td>\n",
       "      <td>4.000000</td>\n",
       "      <td>2.000000</td>\n",
       "    </tr>\n",
       "    <tr>\n",
       "      <th>2</th>\n",
       "      <td>915893848</td>\n",
       "      <td>369</td>\n",
       "      <td>0</td>\n",
       "      <td>14092017</td>\n",
       "      <td>1</td>\n",
       "      <td>25.0</td>\n",
       "      <td>56.101</td>\n",
       "      <td>4.600000</td>\n",
       "      <td>1.000000</td>\n",
       "    </tr>\n",
       "    <tr>\n",
       "      <th>3</th>\n",
       "      <td>919228660</td>\n",
       "      <td>178</td>\n",
       "      <td>0</td>\n",
       "      <td>21082018</td>\n",
       "      <td>1</td>\n",
       "      <td>7.0</td>\n",
       "      <td>56.101</td>\n",
       "      <td>4.800000</td>\n",
       "      <td>1.000000</td>\n",
       "    </tr>\n",
       "    <tr>\n",
       "      <th>4</th>\n",
       "      <td>912240770</td>\n",
       "      <td>1081</td>\n",
       "      <td>0</td>\n",
       "      <td>26112018</td>\n",
       "      <td>1</td>\n",
       "      <td>80.0</td>\n",
       "      <td>55.101</td>\n",
       "      <td>3.200000</td>\n",
       "      <td>3.000000</td>\n",
       "    </tr>\n",
       "    <tr>\n",
       "      <th>...</th>\n",
       "      <td>...</td>\n",
       "      <td>...</td>\n",
       "      <td>...</td>\n",
       "      <td>...</td>\n",
       "      <td>...</td>\n",
       "      <td>...</td>\n",
       "      <td>...</td>\n",
       "      <td>...</td>\n",
       "      <td>...</td>\n",
       "    </tr>\n",
       "    <tr>\n",
       "      <th>5836</th>\n",
       "      <td>915465870</td>\n",
       "      <td>194</td>\n",
       "      <td>0</td>\n",
       "      <td>19012023</td>\n",
       "      <td>1</td>\n",
       "      <td>34.0</td>\n",
       "      <td>56.101</td>\n",
       "      <td>4.096913</td>\n",
       "      <td>2.154158</td>\n",
       "    </tr>\n",
       "    <tr>\n",
       "      <th>5837</th>\n",
       "      <td>996480550</td>\n",
       "      <td>190</td>\n",
       "      <td>1</td>\n",
       "      <td>01092022</td>\n",
       "      <td>0</td>\n",
       "      <td>4.0</td>\n",
       "      <td>56.102</td>\n",
       "      <td>2.400000</td>\n",
       "      <td>4.000000</td>\n",
       "    </tr>\n",
       "    <tr>\n",
       "      <th>5838</th>\n",
       "      <td>913536835</td>\n",
       "      <td>194</td>\n",
       "      <td>0</td>\n",
       "      <td>09092022</td>\n",
       "      <td>0</td>\n",
       "      <td>4.0</td>\n",
       "      <td>56.101</td>\n",
       "      <td>5.000000</td>\n",
       "      <td>0.000000</td>\n",
       "    </tr>\n",
       "    <tr>\n",
       "      <th>5839</th>\n",
       "      <td>929774671</td>\n",
       "      <td>179</td>\n",
       "      <td>1</td>\n",
       "      <td>12122022</td>\n",
       "      <td>0</td>\n",
       "      <td>21.0</td>\n",
       "      <td>56.101</td>\n",
       "      <td>2.600000</td>\n",
       "      <td>4.000000</td>\n",
       "    </tr>\n",
       "    <tr>\n",
       "      <th>5840</th>\n",
       "      <td>915566197</td>\n",
       "      <td>673</td>\n",
       "      <td>0</td>\n",
       "      <td>22122022</td>\n",
       "      <td>1</td>\n",
       "      <td>4.0</td>\n",
       "      <td>56.102</td>\n",
       "      <td>4.600000</td>\n",
       "      <td>1.000000</td>\n",
       "    </tr>\n",
       "  </tbody>\n",
       "</table>\n",
       "<p>5841 rows × 9 columns</p>\n",
       "</div>"
      ],
      "text/plain": [
       "      orgnummer  postnr  total_karakter      dato  tilsynsbesoektype  \\\n",
       "0     915937144     368               2  21112022                  1   \n",
       "1     974999439     366               0  23012020                  0   \n",
       "2     915893848     369               0  14092017                  1   \n",
       "3     919228660     178               0  21082018                  1   \n",
       "4     912240770    1081               0  26112018                  1   \n",
       "...         ...     ...             ...       ...                ...   \n",
       "5836  915465870     194               0  19012023                  1   \n",
       "5837  996480550     190               1  01092022                  0   \n",
       "5838  913536835     194               0  09092022                  0   \n",
       "5839  929774671     179               1  12122022                  0   \n",
       "5840  915566197     673               0  22122022                  1   \n",
       "\n",
       "      antallansatte  naeringskode1_kode  avg_rating  dif_rating  \n",
       "0              69.0              56.101    4.400000    2.000000  \n",
       "1              17.0              47.241    4.000000    2.000000  \n",
       "2              25.0              56.101    4.600000    1.000000  \n",
       "3               7.0              56.101    4.800000    1.000000  \n",
       "4              80.0              55.101    3.200000    3.000000  \n",
       "...             ...                 ...         ...         ...  \n",
       "5836           34.0              56.101    4.096913    2.154158  \n",
       "5837            4.0              56.102    2.400000    4.000000  \n",
       "5838            4.0              56.101    5.000000    0.000000  \n",
       "5839           21.0              56.101    2.600000    4.000000  \n",
       "5840            4.0              56.102    4.600000    1.000000  \n",
       "\n",
       "[5841 rows x 9 columns]"
      ]
     },
     "execution_count": 553,
     "metadata": {},
     "output_type": "execute_result"
    }
   ],
   "source": [
    "df_copy"
   ]
  },
  {
   "cell_type": "code",
   "execution_count": 555,
   "metadata": {},
   "outputs": [
    {
     "data": {
      "image/png": "[encoded data removed]",
      "text/plain": [
       "<Figure size 640x480 with 9 Axes>"
      ]
     },
     "metadata": {},
     "output_type": "display_data"
    }
   ],
   "source": [
    "df_copy.hist(bins=50)\n",
    "plt.show()"
   ]
  },
  {
   "attachments": {},
   "cell_type": "markdown",
   "metadata": {},
   "source": [
    "# DATA PREP"
   ]
  },
  {
   "cell_type": "code",
   "execution_count": 556,
   "metadata": {},
   "outputs": [],
   "source": [
    "# Endre dato til kun år ? De 4 siste sifrene \n",
    "dato = df_copy['dato']\n",
    "year_list = []\n",
    "\n",
    "for i in dato.values:\n",
    "    year_list.append(i[-4:])\n",
    "\n",
    "df_copy['year'] = year_list"
   ]
  },
  {
   "cell_type": "code",
   "execution_count": 557,
   "metadata": {},
   "outputs": [],
   "source": [
    "ss_features = ['postnr', 'orgnummer', 'tilsynsbesoektype', 'naeringskode1_kode', 'antallansatte', 'avg_rating', 'dif_rating']\n",
    "ss_scaler = StandardScaler()\n",
    "ss_scaler.fit(df_copy[ss_features])\n",
    "transformed_ss = ss_scaler.transform(df_copy[ss_features])\n",
    "df_copy[ss_features] = transformed_ss"
   ]
  },
  {
   "cell_type": "code",
   "execution_count": 558,
   "metadata": {},
   "outputs": [
    {
     "data": {
      "text/html": [
       "<div>\n",
       "<style scoped>\n",
       "    .dataframe tbody tr th:only-of-type {\n",
       "        vertical-align: middle;\n",
       "    }\n",
       "\n",
       "    .dataframe tbody tr th {\n",
       "        vertical-align: top;\n",
       "    }\n",
       "\n",
       "    .dataframe thead th {\n",
       "        text-align: right;\n",
       "    }\n",
       "</style>\n",
       "<table border=\"1\" class=\"dataframe\">\n",
       "  <thead>\n",
       "    <tr style=\"text-align: right;\">\n",
       "      <th></th>\n",
       "      <th>orgnummer</th>\n",
       "      <th>postnr</th>\n",
       "      <th>total_karakter</th>\n",
       "      <th>dato</th>\n",
       "      <th>tilsynsbesoektype</th>\n",
       "      <th>antallansatte</th>\n",
       "      <th>naeringskode1_kode</th>\n",
       "      <th>avg_rating</th>\n",
       "      <th>dif_rating</th>\n",
       "      <th>year</th>\n",
       "    </tr>\n",
       "  </thead>\n",
       "  <tbody>\n",
       "    <tr>\n",
       "      <th>0</th>\n",
       "      <td>-0.605357</td>\n",
       "      <td>0.009073</td>\n",
       "      <td>2</td>\n",
       "      <td>21112022</td>\n",
       "      <td>1.503764</td>\n",
       "      <td>0.897237</td>\n",
       "      <td>0.092761</td>\n",
       "      <td>0.407268</td>\n",
       "      <td>-0.117689</td>\n",
       "      <td>2022</td>\n",
       "    </tr>\n",
       "    <tr>\n",
       "      <th>1</th>\n",
       "      <td>0.667806</td>\n",
       "      <td>0.001201</td>\n",
       "      <td>0</td>\n",
       "      <td>23012020</td>\n",
       "      <td>-0.664998</td>\n",
       "      <td>-0.274427</td>\n",
       "      <td>-1.013360</td>\n",
       "      <td>-0.130225</td>\n",
       "      <td>-0.117689</td>\n",
       "      <td>2020</td>\n",
       "    </tr>\n",
       "    <tr>\n",
       "      <th>2</th>\n",
       "      <td>-0.606290</td>\n",
       "      <td>0.013008</td>\n",
       "      <td>0</td>\n",
       "      <td>14092017</td>\n",
       "      <td>1.503764</td>\n",
       "      <td>-0.094171</td>\n",
       "      <td>0.092761</td>\n",
       "      <td>0.676015</td>\n",
       "      <td>-0.881121</td>\n",
       "      <td>2017</td>\n",
       "    </tr>\n",
       "    <tr>\n",
       "      <th>3</th>\n",
       "      <td>-0.534404</td>\n",
       "      <td>-0.738743</td>\n",
       "      <td>0</td>\n",
       "      <td>21082018</td>\n",
       "      <td>1.503764</td>\n",
       "      <td>-0.499746</td>\n",
       "      <td>0.092761</td>\n",
       "      <td>0.944762</td>\n",
       "      <td>-0.881121</td>\n",
       "      <td>2018</td>\n",
       "    </tr>\n",
       "    <tr>\n",
       "      <th>4</th>\n",
       "      <td>-0.685037</td>\n",
       "      <td>2.815350</td>\n",
       "      <td>0</td>\n",
       "      <td>26112018</td>\n",
       "      <td>1.503764</td>\n",
       "      <td>1.145089</td>\n",
       "      <td>-0.032083</td>\n",
       "      <td>-1.205213</td>\n",
       "      <td>0.645743</td>\n",
       "      <td>2018</td>\n",
       "    </tr>\n",
       "    <tr>\n",
       "      <th>...</th>\n",
       "      <td>...</td>\n",
       "      <td>...</td>\n",
       "      <td>...</td>\n",
       "      <td>...</td>\n",
       "      <td>...</td>\n",
       "      <td>...</td>\n",
       "      <td>...</td>\n",
       "      <td>...</td>\n",
       "      <td>...</td>\n",
       "      <td>...</td>\n",
       "    </tr>\n",
       "    <tr>\n",
       "      <th>5836</th>\n",
       "      <td>-0.615516</td>\n",
       "      <td>-0.675769</td>\n",
       "      <td>0</td>\n",
       "      <td>19012023</td>\n",
       "      <td>1.503764</td>\n",
       "      <td>0.108617</td>\n",
       "      <td>0.092761</td>\n",
       "      <td>0.000000</td>\n",
       "      <td>0.000000</td>\n",
       "      <td>2023</td>\n",
       "    </tr>\n",
       "    <tr>\n",
       "      <th>5837</th>\n",
       "      <td>1.130859</td>\n",
       "      <td>-0.691513</td>\n",
       "      <td>1</td>\n",
       "      <td>01092022</td>\n",
       "      <td>-0.664998</td>\n",
       "      <td>-0.567342</td>\n",
       "      <td>0.092886</td>\n",
       "      <td>-2.280200</td>\n",
       "      <td>1.409174</td>\n",
       "      <td>2022</td>\n",
       "    </tr>\n",
       "    <tr>\n",
       "      <th>5838</th>\n",
       "      <td>-0.657099</td>\n",
       "      <td>-0.675769</td>\n",
       "      <td>0</td>\n",
       "      <td>09092022</td>\n",
       "      <td>-0.664998</td>\n",
       "      <td>-0.567342</td>\n",
       "      <td>0.092761</td>\n",
       "      <td>1.213509</td>\n",
       "      <td>-1.644552</td>\n",
       "      <td>2022</td>\n",
       "    </tr>\n",
       "    <tr>\n",
       "      <th>5839</th>\n",
       "      <td>-0.307071</td>\n",
       "      <td>-0.734807</td>\n",
       "      <td>1</td>\n",
       "      <td>12122022</td>\n",
       "      <td>-0.664998</td>\n",
       "      <td>-0.184299</td>\n",
       "      <td>0.092761</td>\n",
       "      <td>-2.011453</td>\n",
       "      <td>1.409174</td>\n",
       "      <td>2022</td>\n",
       "    </tr>\n",
       "    <tr>\n",
       "      <th>5840</th>\n",
       "      <td>-0.613353</td>\n",
       "      <td>1.209514</td>\n",
       "      <td>0</td>\n",
       "      <td>22122022</td>\n",
       "      <td>1.503764</td>\n",
       "      <td>-0.567342</td>\n",
       "      <td>0.092886</td>\n",
       "      <td>0.676015</td>\n",
       "      <td>-0.881121</td>\n",
       "      <td>2022</td>\n",
       "    </tr>\n",
       "  </tbody>\n",
       "</table>\n",
       "<p>5841 rows × 10 columns</p>\n",
       "</div>"
      ],
      "text/plain": [
       "      orgnummer    postnr  total_karakter      dato  tilsynsbesoektype  \\\n",
       "0     -0.605357  0.009073               2  21112022           1.503764   \n",
       "1      0.667806  0.001201               0  23012020          -0.664998   \n",
       "2     -0.606290  0.013008               0  14092017           1.503764   \n",
       "3     -0.534404 -0.738743               0  21082018           1.503764   \n",
       "4     -0.685037  2.815350               0  26112018           1.503764   \n",
       "...         ...       ...             ...       ...                ...   \n",
       "5836  -0.615516 -0.675769               0  19012023           1.503764   \n",
       "5837   1.130859 -0.691513               1  01092022          -0.664998   \n",
       "5838  -0.657099 -0.675769               0  09092022          -0.664998   \n",
       "5839  -0.307071 -0.734807               1  12122022          -0.664998   \n",
       "5840  -0.613353  1.209514               0  22122022           1.503764   \n",
       "\n",
       "      antallansatte  naeringskode1_kode  avg_rating  dif_rating  year  \n",
       "0          0.897237            0.092761    0.407268   -0.117689  2022  \n",
       "1         -0.274427           -1.013360   -0.130225   -0.117689  2020  \n",
       "2         -0.094171            0.092761    0.676015   -0.881121  2017  \n",
       "3         -0.499746            0.092761    0.944762   -0.881121  2018  \n",
       "4          1.145089           -0.032083   -1.205213    0.645743  2018  \n",
       "...             ...                 ...         ...         ...   ...  \n",
       "5836       0.108617            0.092761    0.000000    0.000000  2023  \n",
       "5837      -0.567342            0.092886   -2.280200    1.409174  2022  \n",
       "5838      -0.567342            0.092761    1.213509   -1.644552  2022  \n",
       "5839      -0.184299            0.092761   -2.011453    1.409174  2022  \n",
       "5840      -0.567342            0.092886    0.676015   -0.881121  2022  \n",
       "\n",
       "[5841 rows x 10 columns]"
      ]
     },
     "execution_count": 558,
     "metadata": {},
     "output_type": "execute_result"
    }
   ],
   "source": [
    "df_copy"
   ]
  },
  {
   "attachments": {},
   "cell_type": "markdown",
   "metadata": {},
   "source": [
    "# TRAIN TEST SPLIT"
   ]
  },
  {
   "attachments": {},
   "cell_type": "markdown",
   "metadata": {},
   "source": [
    "###\n",
    "features_test = df[['postnr', 'year', 'orgnummer', 'tilsynsbesoektype', 'naeringskode1_kode', 'antallansatte', 'avg_rating', 'dif_rating']]\n",
    "X = np.c_[features_test]\n",
    "y = np.c_[df['total_karakter']]\n",
    "\n",
    "print(f'X len : {len(X)}')\n",
    "print(f'y len : {len(y)}')\n",
    "\n",
    "print(X.data.shape,\n",
    "y.data.shape)\n",
    "\n",
    "X_train, X_test, y_train, y_test = train_test_split(X, y, test_size=0.2)\n",
    "###"
   ]
  },
  {
   "cell_type": "code",
   "execution_count": 573,
   "metadata": {},
   "outputs": [],
   "source": [
    "df_train = df_copy[df_copy['year'] < '2022']\n",
    "df_test = df_copy[df_copy['year'] >= '2022']"
   ]
  },
  {
   "cell_type": "code",
   "execution_count": 580,
   "metadata": {},
   "outputs": [],
   "source": [
    "X_train = np.c_[df_train[['postnr', 'year', 'orgnummer', 'tilsynsbesoektype', 'naeringskode1_kode', 'antallansatte', 'avg_rating', 'dif_rating']]]\n",
    "y_train = np.c_[df_train['total_karakter']]\n",
    "\n",
    "X_test = np.c_[df_test[['postnr', 'year', 'orgnummer', 'tilsynsbesoektype', 'naeringskode1_kode', 'antallansatte', 'avg_rating', 'dif_rating']]]\n",
    "y_test = np.c_[df_test['total_karakter']]"
   ]
  },
  {
   "cell_type": "code",
   "execution_count": 581,
   "metadata": {},
   "outputs": [
    {
     "name": "stdout",
     "output_type": "stream",
     "text": [
      "X_train len : 4239\n",
      "X_test len : 1602\n",
      "y_train len : 4239\n",
      "y_test len : 1602\n"
     ]
    }
   ],
   "source": [
    "print(f'X_train len : {len(X_train)}')\n",
    "print(f'X_test len : {len(X_test)}')\n",
    "print(f'y_train len : {len(y_train)}')\n",
    "print(f'y_test len : {len(y_test)}')"
   ]
  },
  {
   "cell_type": "code",
   "execution_count": 582,
   "metadata": {},
   "outputs": [
    {
     "name": "stdout",
     "output_type": "stream",
     "text": [
      "(4239, 8) (4239, 1)\n"
     ]
    }
   ],
   "source": [
    "print(X_train.shape, y_train.shape)"
   ]
  },
  {
   "attachments": {},
   "cell_type": "markdown",
   "metadata": {},
   "source": [
    "# Naiv score"
   ]
  },
  {
   "cell_type": "code",
   "execution_count": 583,
   "metadata": {},
   "outputs": [
    {
     "name": "stdout",
     "output_type": "stream",
     "text": [
      "y_pred_naiv : [[0.93866478]\n",
      " [0.93866478]\n",
      " [0.93866478]\n",
      " ...\n",
      " [0.93866478]\n",
      " [0.93866478]\n",
      " [0.93866478]]\n",
      "Naiv MSE : 0.8449077795580826\n",
      "Naiv MAE : 0.6735902191145239\n"
     ]
    }
   ],
   "source": [
    "pred_naiv = np.mean(y_train)\n",
    "y_pred_naiv = np.full(y_test.shape, pred_naiv)\n",
    "print(f'y_pred_naiv : {y_pred_naiv}')\n",
    "\n",
    "mse_naiv = mean_squared_error(y_test, y_pred_naiv)\n",
    "print(f'Naiv MSE : {np.sqrt(mse_naiv)}') # 0.9006\n",
    "\n",
    "mae_naiv = mean_absolute_error(y_test, y_pred_naiv)\n",
    "print(f'Naiv MAE : {mae_naiv}') # 0.7660"
   ]
  },
  {
   "attachments": {},
   "cell_type": "markdown",
   "metadata": {},
   "source": [
    "# XGBoost Model"
   ]
  },
  {
   "cell_type": "code",
   "execution_count": 585,
   "metadata": {},
   "outputs": [
    {
     "name": "stdout",
     "output_type": "stream",
     "text": [
      "[0]\tvalidation_0-rmse:0.87863\n",
      "[1]\tvalidation_0-rmse:0.83490\n",
      "[2]\tvalidation_0-rmse:0.81145\n",
      "[3]\tvalidation_0-rmse:0.79263\n",
      "[4]\tvalidation_0-rmse:0.79292\n",
      "[5]\tvalidation_0-rmse:0.78657\n",
      "[6]\tvalidation_0-rmse:0.78522\n",
      "[7]\tvalidation_0-rmse:0.78292\n",
      "[8]\tvalidation_0-rmse:0.78541\n",
      "[9]\tvalidation_0-rmse:0.78206\n",
      "[10]\tvalidation_0-rmse:0.78502\n",
      "[11]\tvalidation_0-rmse:0.78384\n",
      "[12]\tvalidation_0-rmse:0.78277\n",
      "[13]\tvalidation_0-rmse:0.78184\n",
      "[14]\tvalidation_0-rmse:0.78112\n",
      "[15]\tvalidation_0-rmse:0.78063\n",
      "[16]\tvalidation_0-rmse:0.78117\n",
      "[17]\tvalidation_0-rmse:0.78137\n",
      "[18]\tvalidation_0-rmse:0.78684\n",
      "[19]\tvalidation_0-rmse:0.78694\n",
      "[20]\tvalidation_0-rmse:0.78515\n",
      "[21]\tvalidation_0-rmse:0.78704\n",
      "[22]\tvalidation_0-rmse:0.79034\n",
      "[23]\tvalidation_0-rmse:0.79181\n",
      "[24]\tvalidation_0-rmse:0.79241\n",
      "[25]\tvalidation_0-rmse:0.79107\n",
      "[26]\tvalidation_0-rmse:0.79126\n",
      "[27]\tvalidation_0-rmse:0.79079\n",
      "[28]\tvalidation_0-rmse:0.79151\n",
      "[29]\tvalidation_0-rmse:0.79241\n",
      "[30]\tvalidation_0-rmse:0.79187\n",
      "[31]\tvalidation_0-rmse:0.79263\n",
      "[32]\tvalidation_0-rmse:0.79268\n",
      "[33]\tvalidation_0-rmse:0.79363\n",
      "[34]\tvalidation_0-rmse:0.79433\n"
     ]
    }
   ],
   "source": [
    "regressor = xgb.XGBRegressor(\n",
    "    early_stopping_rounds = 20,\n",
    "    max_depth = 5\n",
    ")\n",
    "\n",
    "regressor.fit(X_train, y_train, eval_set = [(X_test, y_test)])\n",
    "importance_check = pd.DataFrame(regressor.feature_importances_.reshape(1,-1), columns = [['postnr', 'year', 'orgnummer', 'tilsynsbesoektype', 'naeringskode1_kode', 'antallansatte', 'avg_rating', 'dif_rating']])\n"
   ]
  },
  {
   "cell_type": "code",
   "execution_count": 586,
   "metadata": {},
   "outputs": [
    {
     "data": {
      "image/png": "[encoded data removed]",
      "text/plain": [
       "<Figure size 640x480 with 1 Axes>"
      ]
     },
     "metadata": {},
     "output_type": "display_data"
    }
   ],
   "source": [
    "plt.barh(['postnr', 'year', 'orgnummer', 'tilsynsbesoektype', 'naeringskode1_kode', 'antallansatte', 'avg_rating', 'dif_rating'], regressor.feature_importances_)\n",
    "plt.show()"
   ]
  },
  {
   "attachments": {},
   "cell_type": "markdown",
   "metadata": {},
   "source": [
    "# Scoring xg"
   ]
  },
  {
   "cell_type": "code",
   "execution_count": 587,
   "metadata": {},
   "outputs": [
    {
     "name": "stdout",
     "output_type": "stream",
     "text": [
      "Train R2 XG : 0.3668804950652069\n",
      "Train MSE XG : 0.7340870844061301\n",
      "Train MAE XG : 0.5879490196488018\n",
      "Test R2 XG : 0.14634714670520244\n",
      "Test MSE XG : 0.780632591117538\n",
      "Train MAE XG : 0.5875221464792255\n"
     ]
    }
   ],
   "source": [
    "# Train xg\n",
    "r2_train_xg = regressor.score(X_train, y_train)\n",
    "print(f'Train R2 XG : {r2_train_xg}') # 6f 0.3071 / m.år 0.4545\n",
    "\n",
    "y_pred_train_xg = regressor.predict(X_train)\n",
    "mse_train_xg = mean_squared_error(y_train, y_pred_train_xg)\n",
    "print(f'Train MSE XG : {np.sqrt(mse_train_xg)}') # 6f 0.7480 / m.år 0.6641\n",
    "\n",
    "mae_train_xg = mean_absolute_error(y_train, y_pred_train_xg)\n",
    "print(f'Train MAE XG : {mae_train_xg}') # 6f 0.5854 / m.år 0.5156\n",
    "\n",
    "# Test xg\n",
    "r2_test_xg = regressor.score(X_test, y_test)\n",
    "print(f'Test R2 XG : {r2_test_xg}') # 6f 0.1754 / m.år 0.2766\n",
    "\n",
    "y_pred_test_xg = regressor.predict(X_test)\n",
    "mse_test_xg = mean_squared_error(y_test, y_pred_test_xg)\n",
    "print(f'Test MSE XG : {np.sqrt(mse_test_xg)}') # 6f 0.8305 / m.år 0.7755\n",
    "\n",
    "mae_test_xg = mean_absolute_error(y_test, y_pred_test_xg)\n",
    "print(f'Train MAE XG : {mae_test_xg}') # 6f 0.6631 / m.år 0.6029"
   ]
  },
  {
   "attachments": {},
   "cell_type": "markdown",
   "metadata": {},
   "source": [
    "# Linear Regression Model"
   ]
  },
  {
   "cell_type": "code",
   "execution_count": 588,
   "metadata": {},
   "outputs": [
    {
     "name": "stdout",
     "output_type": "stream",
     "text": [
      "Train R2 : -0.7417422165117709\n",
      "Train MAE : 0.9668683783960124\n",
      "Train MSE : 1.2175776728197942\n",
      "Test R2 : 0.1936395384606776\n",
      "Test MAE : 0.5748972856882084\n",
      "Test MSE : 0.7587009767914954\n"
     ]
    }
   ],
   "source": [
    "lin_reg_model = LinearRegression()\n",
    "lin_reg_model.fit(X_test, y_test)\n",
    "\n",
    "## TRAIN\n",
    "\n",
    "r2_train = lin_reg_model.score(X_train, y_train)\n",
    "y_train_pred_linreg = lin_reg_model.predict(X_train)\n",
    "mae_train = mean_absolute_error(y_train, y_train_pred_linreg)\n",
    "mse_train = mean_squared_error(y_train, y_train_pred_linreg)\n",
    "print(f'Train R2 : {r2_train}') # 0.1616 / 6f 0.17036 / m.år 0.1595\n",
    "print(f'Train MAE : {mae_train}') # 0.6758 / 6f 0.6559 / m.år 0.6557\n",
    "print(f'Train MSE : {np.sqrt(mse_train)}') # 0.8256 / 6f 0.8185 / m.år 0.8244\n",
    "\n",
    "## TEST\n",
    "\n",
    "r2_test = lin_reg_model.score(X_test, y_test)\n",
    "y_test_pred_linreg = lin_reg_model.predict(X_test)\n",
    "mae_test = mean_absolute_error(y_test, y_test_pred_linreg)\n",
    "mse_test = mean_squared_error(y_test, y_test_pred_linreg)\n",
    "print(f'Test R2 : {r2_test}') # 0.1802 / 6f 0.1664 / m.år 0.2152\n",
    "print(f'Test MAE : {mae_test}') # 0.6662 / 6f 0.6802 / m.år 0.6399\n",
    "print(f'Test MSE : {np.sqrt(mse_test)}') # 0.8164 / 6f 0.8351 / m.år 0.8077"
   ]
  },
  {
   "attachments": {},
   "cell_type": "markdown",
   "metadata": {},
   "source": [
    "# Logistic Regression Model"
   ]
  },
  {
   "cell_type": "code",
   "execution_count": 589,
   "metadata": {},
   "outputs": [
    {
     "name": "stdout",
     "output_type": "stream",
     "text": [
      "Train accuracy : 0.5265392781316348\n",
      "Train Precision : 0.0\n",
      "Train Recall : 0.0\n"
     ]
    },
    {
     "name": "stderr",
     "output_type": "stream",
     "text": [
      "C:\\Users\\STM\\AppData\\Roaming\\Python\\Python310\\site-packages\\sklearn\\utils\\validation.py:1141: DataConversionWarning: A column-vector y was passed when a 1d array was expected. Please change the shape of y to (n_samples, ), for example using ravel().\n",
      "  y = column_or_1d(y, warn=True)\n"
     ]
    },
    {
     "data": {
      "image/png": "[encoded data removed]",
      "text/plain": [
       "<Figure size 640x480 with 2 Axes>"
      ]
     },
     "metadata": {},
     "output_type": "display_data"
    }
   ],
   "source": [
    "# y_train = y_train.reshape(-1)\n",
    "log_reg_model = LogisticRegression(max_iter = 1000)\n",
    "log_reg_model.fit(X_train, y_train)\n",
    "\n",
    "y_pred_cm = log_reg_model.predict(X_train)\n",
    "#y_train_pred_prod = log_reg_model.predict_proba(X_train)\n",
    "#y_train_pred_prod_1 = y_train_pred_prod[:,1]\n",
    "#y_train_pred = y_train_pred_prod_1 > 0.1\n",
    "\n",
    "train_acc = accuracy_score(y_train, y_pred_cm)\n",
    "print(f'Train accuracy : {train_acc}')\n",
    "\n",
    "cm_train = confusion_matrix(y_train, y_pred_cm)\n",
    "\n",
    "tn_train = cm_train[0,0]\n",
    "fp_train = cm_train[1,1]\n",
    "fn_train = cm_train[2,2]\n",
    "tp_train = cm_train[3,3]\n",
    "\n",
    "precision_train = tp_train/(tp_train+fp_train)\n",
    "recall_train = tp_train/(tp_train+fn_train)\n",
    "print(f'Train Precision : {precision_train}')\n",
    "print(f'Train Recall : {recall_train}')\n",
    "\n",
    "ConfusionMatrixDisplay(cm_train).plot()\n",
    "plt.show()"
   ]
  },
  {
   "attachments": {},
   "cell_type": "markdown",
   "metadata": {},
   "source": [
    "# KNeighbors Regressor Model"
   ]
  },
  {
   "cell_type": "code",
   "execution_count": 590,
   "metadata": {},
   "outputs": [
    {
     "name": "stdout",
     "output_type": "stream",
     "text": [
      "Knn Train Score:\n",
      "R2_train : 0.27395495489369526\n",
      "MAE train : 0.6334827396398521\n",
      "MSE train : 0.7861157895957684\n",
      "Knn Test Score:\n",
      "R2_test : 0.12307808361020911\n",
      "MAE test : 0.6164377861007074\n",
      "MSEtest : 0.791200390535215\n"
     ]
    }
   ],
   "source": [
    "model_knn = KNeighborsRegressor(n_neighbors=15)\n",
    "model_knn.fit(X_train, y_train)\n",
    "\n",
    "# KNN score\n",
    "# Train\n",
    "R2_train_knn = model_knn.score(X_train, y_train)\n",
    "y_pred_train_knn = model_knn.predict(X_train)\n",
    "mae_train_knn = mean_absolute_error(y_train, y_pred_train_knn)\n",
    "mse_train_knn = mean_squared_error(y_train, y_pred_train_knn)\n",
    "print(f'Knn Train Score:')\n",
    "print(f'R2_train : {R2_train_knn}') # 0.3681\n",
    "print(f'MAE train : {mae_train_knn}') # 0.5506\n",
    "print(f'MSE train : {np.sqrt(mse_train_knn)}') # 0.7171\n",
    "\n",
    "# Test\n",
    "R2_test_knn = model_knn.score(X_test, y_test)\n",
    "y_test_pred_knn = model_knn.predict(X_test)\n",
    "mae_test_knn = mean_absolute_error(y_test, y_test_pred_knn)\n",
    "mse_test_knn = mean_squared_error(y_test, y_test_pred_knn)\n",
    "print(f'Knn Test Score:')\n",
    "print(f'R2_test : {R2_test_knn}') # 0.1192\n",
    "print(f'MAE test : {mae_test_knn}') # 0.6579\n",
    "print(f'MSEtest : {np.sqrt(mse_test_knn)}') # 0.8453"
   ]
  }
 ],
 "metadata": {
  "kernelspec": {
   "display_name": "Python 3",
   "language": "python",
   "name": "python3"
  },
  "language_info": {
   "codemirror_mode": {
    "name": "ipython",
    "version": 3
   },
   "file_extension": ".py",
   "mimetype": "text/x-python",
   "name": "python",
   "nbconvert_exporter": "python",
   "pygments_lexer": "ipython3",
   "version": "3.10.8"
  },
  "orig_nbformat": 4,
  "vscode": {
   "interpreter": {
    "hash": "26de051ba29f2982a8de78e945f0abaf191376122a1563185a90213a26c5da77"
   }
  }
 },
 "nbformat": 4,
 "nbformat_minor": 2
}
