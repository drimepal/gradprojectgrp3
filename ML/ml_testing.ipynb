{
 "cells": [
  {
   "cell_type": "code",
   "execution_count": 142,
   "metadata": {},
   "outputs": [],
   "source": [
    "import pandas as pd\n",
    "import numpy as np\n",
    "import matplotlib.pyplot as plt\n",
    "import xgboost as xgb\n",
    "from sklearn.preprocessing import StandardScaler\n",
    "from sklearn.neighbors import KNeighborsRegressor\n",
    "from sklearn.linear_model import LinearRegression, LogisticRegression \n",
    "from sklearn.model_selection import train_test_split\n",
    "from sklearn.metrics import mean_squared_error, mean_absolute_error\n",
    "from sklearn.metrics import confusion_matrix, ConfusionMatrixDisplay, precision_score, recall_score\n",
    "from sklearn.metrics import accuracy_score"
   ]
  },
  {
   "attachments": {},
   "cell_type": "markdown",
   "metadata": {},
   "source": [
    "# READ FROM DATABASE"
   ]
  },
  {
   "cell_type": "code",
   "execution_count": 143,
   "metadata": {},
   "outputs": [],
   "source": [
    "import psycopg2"
   ]
  },
  {
   "cell_type": "code",
   "execution_count": 144,
   "metadata": {},
   "outputs": [],
   "source": [
    "# jdbc:postgresql://pg-graduate-delt.postgres.database.azure.com:5432/{your_database}?user=snartimaal&password={your_password}&sslmode=require\n",
    "with psycopg2.connect(\n",
    "    database='pgsql-graduate-gruppe3',\n",
    "    user='snartimaal',\n",
    "    password='#st44p44nu',\n",
    "    host='pg-graduate-delt.postgres.database.azure.com'\n",
    ") as conn:\n",
    "    cur = conn.cursor()"
   ]
  },
  {
   "cell_type": "code",
   "execution_count": 145,
   "metadata": {},
   "outputs": [
    {
     "name": "stderr",
     "output_type": "stream",
     "text": [
      "C:\\Users\\STM\\AppData\\Local\\Temp\\ipykernel_3804\\860057548.py:3: UserWarning: pandas only supports SQLAlchemy connectable (engine/connection) or database string URI or sqlite3 DBAPI2 connection. Other DBAPI2 objects are not tested. Please consider using SQLAlchemy.\n",
      "  sql_query = pd.read_sql_query(\"SELECT m.postnr, m.dato, m.orgnummer, m.tilsynsbesoektype, m.total_karakter, c_sub.naeringskode1_kode, c_sub.antallansatte \\\n"
     ]
    }
   ],
   "source": [
    "try:\n",
    "    cur = conn.cursor()\n",
    "    sql_query = pd.read_sql_query(\"SELECT m.postnr, m.dato, m.orgnummer, m.tilsynsbesoektype, m.total_karakter, c_sub.naeringskode1_kode, c_sub.antallansatte \\\n",
    "                                  FROM mattilsynet m \\\n",
    "                                  JOIN company_subunit c_sub ON m.orgnummer = c_sub.organisasjonsnummer;\", \n",
    "                                  conn)\n",
    "    df_test = pd.DataFrame(sql_query, columns=['postnr', 'dato', 'orgnummer', 'tilsynsbesoektype', 'total_karakter', 'naeringskode1_kode', 'antallansatte'])\n",
    "except:\n",
    "    conn.rollback()\n",
    "    cur.close()"
   ]
  },
  {
   "cell_type": "code",
   "execution_count": 146,
   "metadata": {},
   "outputs": [
    {
     "data": {
      "text/html": [
       "<div>\n",
       "<style scoped>\n",
       "    .dataframe tbody tr th:only-of-type {\n",
       "        vertical-align: middle;\n",
       "    }\n",
       "\n",
       "    .dataframe tbody tr th {\n",
       "        vertical-align: top;\n",
       "    }\n",
       "\n",
       "    .dataframe thead th {\n",
       "        text-align: right;\n",
       "    }\n",
       "</style>\n",
       "<table border=\"1\" class=\"dataframe\">\n",
       "  <thead>\n",
       "    <tr style=\"text-align: right;\">\n",
       "      <th></th>\n",
       "      <th>postnr</th>\n",
       "      <th>dato</th>\n",
       "      <th>orgnummer</th>\n",
       "      <th>tilsynsbesoektype</th>\n",
       "      <th>total_karakter</th>\n",
       "      <th>naeringskode1_kode</th>\n",
       "      <th>antallansatte</th>\n",
       "    </tr>\n",
       "  </thead>\n",
       "  <tbody>\n",
       "    <tr>\n",
       "      <th>0</th>\n",
       "      <td>368</td>\n",
       "      <td>21112022</td>\n",
       "      <td>915937144</td>\n",
       "      <td>1</td>\n",
       "      <td>2</td>\n",
       "      <td>56.101</td>\n",
       "      <td>69.0</td>\n",
       "    </tr>\n",
       "    <tr>\n",
       "      <th>1</th>\n",
       "      <td>366</td>\n",
       "      <td>23012020</td>\n",
       "      <td>974999439</td>\n",
       "      <td>0</td>\n",
       "      <td>0</td>\n",
       "      <td>47.241</td>\n",
       "      <td>17.0</td>\n",
       "    </tr>\n",
       "    <tr>\n",
       "      <th>2</th>\n",
       "      <td>369</td>\n",
       "      <td>14092017</td>\n",
       "      <td>915893848</td>\n",
       "      <td>1</td>\n",
       "      <td>0</td>\n",
       "      <td>56.101</td>\n",
       "      <td>25.0</td>\n",
       "    </tr>\n",
       "    <tr>\n",
       "      <th>3</th>\n",
       "      <td>178</td>\n",
       "      <td>21082018</td>\n",
       "      <td>919228660</td>\n",
       "      <td>1</td>\n",
       "      <td>0</td>\n",
       "      <td>56.101</td>\n",
       "      <td>7.0</td>\n",
       "    </tr>\n",
       "    <tr>\n",
       "      <th>4</th>\n",
       "      <td>1081</td>\n",
       "      <td>26112018</td>\n",
       "      <td>912240770</td>\n",
       "      <td>1</td>\n",
       "      <td>0</td>\n",
       "      <td>55.101</td>\n",
       "      <td>80.0</td>\n",
       "    </tr>\n",
       "    <tr>\n",
       "      <th>...</th>\n",
       "      <td>...</td>\n",
       "      <td>...</td>\n",
       "      <td>...</td>\n",
       "      <td>...</td>\n",
       "      <td>...</td>\n",
       "      <td>...</td>\n",
       "      <td>...</td>\n",
       "    </tr>\n",
       "    <tr>\n",
       "      <th>5836</th>\n",
       "      <td>194</td>\n",
       "      <td>19012023</td>\n",
       "      <td>915465870</td>\n",
       "      <td>1</td>\n",
       "      <td>0</td>\n",
       "      <td>56.101</td>\n",
       "      <td>34.0</td>\n",
       "    </tr>\n",
       "    <tr>\n",
       "      <th>5837</th>\n",
       "      <td>190</td>\n",
       "      <td>01092022</td>\n",
       "      <td>996480550</td>\n",
       "      <td>0</td>\n",
       "      <td>1</td>\n",
       "      <td>56.102</td>\n",
       "      <td>4.0</td>\n",
       "    </tr>\n",
       "    <tr>\n",
       "      <th>5838</th>\n",
       "      <td>194</td>\n",
       "      <td>09092022</td>\n",
       "      <td>913536835</td>\n",
       "      <td>0</td>\n",
       "      <td>0</td>\n",
       "      <td>56.101</td>\n",
       "      <td>4.0</td>\n",
       "    </tr>\n",
       "    <tr>\n",
       "      <th>5839</th>\n",
       "      <td>179</td>\n",
       "      <td>12122022</td>\n",
       "      <td>929774671</td>\n",
       "      <td>0</td>\n",
       "      <td>1</td>\n",
       "      <td>56.101</td>\n",
       "      <td>21.0</td>\n",
       "    </tr>\n",
       "    <tr>\n",
       "      <th>5840</th>\n",
       "      <td>673</td>\n",
       "      <td>22122022</td>\n",
       "      <td>915566197</td>\n",
       "      <td>1</td>\n",
       "      <td>0</td>\n",
       "      <td>56.102</td>\n",
       "      <td>4.0</td>\n",
       "    </tr>\n",
       "  </tbody>\n",
       "</table>\n",
       "<p>5841 rows × 7 columns</p>\n",
       "</div>"
      ],
      "text/plain": [
       "      postnr      dato  orgnummer  tilsynsbesoektype  total_karakter  \\\n",
       "0        368  21112022  915937144                  1               2   \n",
       "1        366  23012020  974999439                  0               0   \n",
       "2        369  14092017  915893848                  1               0   \n",
       "3        178  21082018  919228660                  1               0   \n",
       "4       1081  26112018  912240770                  1               0   \n",
       "...      ...       ...        ...                ...             ...   \n",
       "5836     194  19012023  915465870                  1               0   \n",
       "5837     190  01092022  996480550                  0               1   \n",
       "5838     194  09092022  913536835                  0               0   \n",
       "5839     179  12122022  929774671                  0               1   \n",
       "5840     673  22122022  915566197                  1               0   \n",
       "\n",
       "      naeringskode1_kode  antallansatte  \n",
       "0                 56.101           69.0  \n",
       "1                 47.241           17.0  \n",
       "2                 56.101           25.0  \n",
       "3                 56.101            7.0  \n",
       "4                 55.101           80.0  \n",
       "...                  ...            ...  \n",
       "5836              56.101           34.0  \n",
       "5837              56.102            4.0  \n",
       "5838              56.101            4.0  \n",
       "5839              56.101           21.0  \n",
       "5840              56.102            4.0  \n",
       "\n",
       "[5841 rows x 7 columns]"
      ]
     },
     "execution_count": 146,
     "metadata": {},
     "output_type": "execute_result"
    }
   ],
   "source": [
    "df_test"
   ]
  },
  {
   "cell_type": "code",
   "execution_count": 147,
   "metadata": {},
   "outputs": [
    {
     "data": {
      "image/png": "[encoded data removed]",
      "text/plain": [
       "<Figure size 640x480 with 6 Axes>"
      ]
     },
     "metadata": {},
     "output_type": "display_data"
    }
   ],
   "source": [
    "df_test.hist(bins=50)\n",
    "plt.show()"
   ]
  },
  {
   "attachments": {},
   "cell_type": "markdown",
   "metadata": {},
   "source": [
    "# DATA PREP"
   ]
  },
  {
   "cell_type": "code",
   "execution_count": 148,
   "metadata": {},
   "outputs": [],
   "source": [
    "# Endre dato til kun år ? De 4 siste sifrene \n",
    "dato = df_test['dato']\n",
    "year_list = []\n",
    "\n",
    "for i in dato.values:\n",
    "    year_list.append(i[-4:])\n",
    "\n",
    "df_test['year'] = year_list"
   ]
  },
  {
   "cell_type": "code",
   "execution_count": 149,
   "metadata": {},
   "outputs": [
    {
     "data": {
      "text/html": [
       "<div>\n",
       "<style scoped>\n",
       "    .dataframe tbody tr th:only-of-type {\n",
       "        vertical-align: middle;\n",
       "    }\n",
       "\n",
       "    .dataframe tbody tr th {\n",
       "        vertical-align: top;\n",
       "    }\n",
       "\n",
       "    .dataframe thead th {\n",
       "        text-align: right;\n",
       "    }\n",
       "</style>\n",
       "<table border=\"1\" class=\"dataframe\">\n",
       "  <thead>\n",
       "    <tr style=\"text-align: right;\">\n",
       "      <th></th>\n",
       "      <th>postnr</th>\n",
       "      <th>dato</th>\n",
       "      <th>orgnummer</th>\n",
       "      <th>tilsynsbesoektype</th>\n",
       "      <th>total_karakter</th>\n",
       "      <th>naeringskode1_kode</th>\n",
       "      <th>antallansatte</th>\n",
       "      <th>year</th>\n",
       "    </tr>\n",
       "  </thead>\n",
       "  <tbody>\n",
       "    <tr>\n",
       "      <th>0</th>\n",
       "      <td>368</td>\n",
       "      <td>21112022</td>\n",
       "      <td>915937144</td>\n",
       "      <td>1</td>\n",
       "      <td>2</td>\n",
       "      <td>56.101</td>\n",
       "      <td>69.0</td>\n",
       "      <td>2022</td>\n",
       "    </tr>\n",
       "    <tr>\n",
       "      <th>1</th>\n",
       "      <td>366</td>\n",
       "      <td>23012020</td>\n",
       "      <td>974999439</td>\n",
       "      <td>0</td>\n",
       "      <td>0</td>\n",
       "      <td>47.241</td>\n",
       "      <td>17.0</td>\n",
       "      <td>2020</td>\n",
       "    </tr>\n",
       "    <tr>\n",
       "      <th>2</th>\n",
       "      <td>369</td>\n",
       "      <td>14092017</td>\n",
       "      <td>915893848</td>\n",
       "      <td>1</td>\n",
       "      <td>0</td>\n",
       "      <td>56.101</td>\n",
       "      <td>25.0</td>\n",
       "      <td>2017</td>\n",
       "    </tr>\n",
       "    <tr>\n",
       "      <th>3</th>\n",
       "      <td>178</td>\n",
       "      <td>21082018</td>\n",
       "      <td>919228660</td>\n",
       "      <td>1</td>\n",
       "      <td>0</td>\n",
       "      <td>56.101</td>\n",
       "      <td>7.0</td>\n",
       "      <td>2018</td>\n",
       "    </tr>\n",
       "    <tr>\n",
       "      <th>4</th>\n",
       "      <td>1081</td>\n",
       "      <td>26112018</td>\n",
       "      <td>912240770</td>\n",
       "      <td>1</td>\n",
       "      <td>0</td>\n",
       "      <td>55.101</td>\n",
       "      <td>80.0</td>\n",
       "      <td>2018</td>\n",
       "    </tr>\n",
       "    <tr>\n",
       "      <th>...</th>\n",
       "      <td>...</td>\n",
       "      <td>...</td>\n",
       "      <td>...</td>\n",
       "      <td>...</td>\n",
       "      <td>...</td>\n",
       "      <td>...</td>\n",
       "      <td>...</td>\n",
       "      <td>...</td>\n",
       "    </tr>\n",
       "    <tr>\n",
       "      <th>5836</th>\n",
       "      <td>194</td>\n",
       "      <td>19012023</td>\n",
       "      <td>915465870</td>\n",
       "      <td>1</td>\n",
       "      <td>0</td>\n",
       "      <td>56.101</td>\n",
       "      <td>34.0</td>\n",
       "      <td>2023</td>\n",
       "    </tr>\n",
       "    <tr>\n",
       "      <th>5837</th>\n",
       "      <td>190</td>\n",
       "      <td>01092022</td>\n",
       "      <td>996480550</td>\n",
       "      <td>0</td>\n",
       "      <td>1</td>\n",
       "      <td>56.102</td>\n",
       "      <td>4.0</td>\n",
       "      <td>2022</td>\n",
       "    </tr>\n",
       "    <tr>\n",
       "      <th>5838</th>\n",
       "      <td>194</td>\n",
       "      <td>09092022</td>\n",
       "      <td>913536835</td>\n",
       "      <td>0</td>\n",
       "      <td>0</td>\n",
       "      <td>56.101</td>\n",
       "      <td>4.0</td>\n",
       "      <td>2022</td>\n",
       "    </tr>\n",
       "    <tr>\n",
       "      <th>5839</th>\n",
       "      <td>179</td>\n",
       "      <td>12122022</td>\n",
       "      <td>929774671</td>\n",
       "      <td>0</td>\n",
       "      <td>1</td>\n",
       "      <td>56.101</td>\n",
       "      <td>21.0</td>\n",
       "      <td>2022</td>\n",
       "    </tr>\n",
       "    <tr>\n",
       "      <th>5840</th>\n",
       "      <td>673</td>\n",
       "      <td>22122022</td>\n",
       "      <td>915566197</td>\n",
       "      <td>1</td>\n",
       "      <td>0</td>\n",
       "      <td>56.102</td>\n",
       "      <td>4.0</td>\n",
       "      <td>2022</td>\n",
       "    </tr>\n",
       "  </tbody>\n",
       "</table>\n",
       "<p>5841 rows × 8 columns</p>\n",
       "</div>"
      ],
      "text/plain": [
       "      postnr      dato  orgnummer  tilsynsbesoektype  total_karakter  \\\n",
       "0        368  21112022  915937144                  1               2   \n",
       "1        366  23012020  974999439                  0               0   \n",
       "2        369  14092017  915893848                  1               0   \n",
       "3        178  21082018  919228660                  1               0   \n",
       "4       1081  26112018  912240770                  1               0   \n",
       "...      ...       ...        ...                ...             ...   \n",
       "5836     194  19012023  915465870                  1               0   \n",
       "5837     190  01092022  996480550                  0               1   \n",
       "5838     194  09092022  913536835                  0               0   \n",
       "5839     179  12122022  929774671                  0               1   \n",
       "5840     673  22122022  915566197                  1               0   \n",
       "\n",
       "      naeringskode1_kode  antallansatte  year  \n",
       "0                 56.101           69.0  2022  \n",
       "1                 47.241           17.0  2020  \n",
       "2                 56.101           25.0  2017  \n",
       "3                 56.101            7.0  2018  \n",
       "4                 55.101           80.0  2018  \n",
       "...                  ...            ...   ...  \n",
       "5836              56.101           34.0  2023  \n",
       "5837              56.102            4.0  2022  \n",
       "5838              56.101            4.0  2022  \n",
       "5839              56.101           21.0  2022  \n",
       "5840              56.102            4.0  2022  \n",
       "\n",
       "[5841 rows x 8 columns]"
      ]
     },
     "execution_count": 149,
     "metadata": {},
     "output_type": "execute_result"
    }
   ],
   "source": [
    "df_test"
   ]
  },
  {
   "cell_type": "code",
   "execution_count": 150,
   "metadata": {},
   "outputs": [],
   "source": [
    "ss_features = ['postnr', 'orgnummer', 'tilsynsbesoektype', 'naeringskode1_kode', 'antallansatte']\n",
    "ss_scaler = StandardScaler()\n",
    "ss_scaler.fit(df_test[ss_features])\n",
    "transformed_ss = ss_scaler.transform(df_test[ss_features])\n",
    "df_test[ss_features] = transformed_ss"
   ]
  },
  {
   "attachments": {},
   "cell_type": "markdown",
   "metadata": {},
   "source": [
    "# TRAIN TEST SPLIT"
   ]
  },
  {
   "cell_type": "code",
   "execution_count": 151,
   "metadata": {},
   "outputs": [],
   "source": [
    "features_test = df_test[['postnr', 'year', 'orgnummer', 'tilsynsbesoektype', 'naeringskode1_kode', 'antallansatte']]\n",
    "X = np.c_[features_test]\n",
    "y = np.c_[df_test['total_karakter']]"
   ]
  },
  {
   "cell_type": "code",
   "execution_count": 152,
   "metadata": {},
   "outputs": [
    {
     "name": "stdout",
     "output_type": "stream",
     "text": [
      "X len : 5841\n",
      "y len : 5841\n"
     ]
    }
   ],
   "source": [
    "print(f'X len : {len(X)}')\n",
    "print(f'y len : {len(y)}')"
   ]
  },
  {
   "cell_type": "code",
   "execution_count": 153,
   "metadata": {},
   "outputs": [
    {
     "name": "stdout",
     "output_type": "stream",
     "text": [
      "(5841, 6) (5841, 1)\n"
     ]
    }
   ],
   "source": [
    "print(X.data.shape,\n",
    "y.data.shape)"
   ]
  },
  {
   "cell_type": "code",
   "execution_count": 154,
   "metadata": {},
   "outputs": [],
   "source": [
    "X_train, X_test, y_train, y_test = train_test_split(X, y, test_size=0.2)"
   ]
  },
  {
   "cell_type": "code",
   "execution_count": 155,
   "metadata": {},
   "outputs": [
    {
     "name": "stdout",
     "output_type": "stream",
     "text": [
      "X_train len : 4672\n",
      "X_test len : 1169\n",
      "y_train len : 4672\n",
      "y_test len : 1169\n"
     ]
    }
   ],
   "source": [
    "print(f'X_train len : {len(X_train)}')\n",
    "print(f'X_test len : {len(X_test)}')\n",
    "print(f'y_train len : {len(y_train)}')\n",
    "print(f'y_test len : {len(y_test)}')"
   ]
  },
  {
   "cell_type": "code",
   "execution_count": 156,
   "metadata": {},
   "outputs": [
    {
     "name": "stdout",
     "output_type": "stream",
     "text": [
      "(4672, 6) (4672, 1)\n"
     ]
    }
   ],
   "source": [
    "print(X_train.shape, y_train.shape)"
   ]
  },
  {
   "attachments": {},
   "cell_type": "markdown",
   "metadata": {},
   "source": [
    "# Naiv score"
   ]
  },
  {
   "cell_type": "code",
   "execution_count": 157,
   "metadata": {},
   "outputs": [
    {
     "name": "stdout",
     "output_type": "stream",
     "text": [
      "y_pred_naiv : 1169\n",
      "Naiv MSE : 0.9008786356847768\n",
      "Naiv MAE : 0.7519331444742609\n"
     ]
    }
   ],
   "source": [
    "pred_naiv = np.mean(y_train)\n",
    "y_pred_naiv = np.full(y_test.shape, pred_naiv)\n",
    "print(f'y_pred_naiv : {len(y_pred_naiv)}') # 1169\n",
    "\n",
    "mse_naiv = mean_squared_error(y_test, y_pred_naiv)\n",
    "print(f'Naiv MSE : {np.sqrt(mse_naiv)}') # 0.9147\n",
    "\n",
    "mae_naiv = mean_absolute_error(y_test, y_pred_naiv)\n",
    "print(f'Naiv MAE : {mae_naiv}') # 0.7819"
   ]
  },
  {
   "attachments": {},
   "cell_type": "markdown",
   "metadata": {},
   "source": [
    "# XGBoost Model"
   ]
  },
  {
   "cell_type": "code",
   "execution_count": 158,
   "metadata": {},
   "outputs": [
    {
     "name": "stdout",
     "output_type": "stream",
     "text": [
      "[0]\tvalidation_0-rmse:0.90583\n",
      "[1]\tvalidation_0-rmse:0.84910\n",
      "[2]\tvalidation_0-rmse:0.81984\n",
      "[3]\tvalidation_0-rmse:0.80470\n",
      "[4]\tvalidation_0-rmse:0.79506\n",
      "[5]\tvalidation_0-rmse:0.78977\n",
      "[6]\tvalidation_0-rmse:0.78585\n",
      "[7]\tvalidation_0-rmse:0.78437\n",
      "[8]\tvalidation_0-rmse:0.78444\n",
      "[9]\tvalidation_0-rmse:0.78334\n",
      "[10]\tvalidation_0-rmse:0.78387\n",
      "[11]\tvalidation_0-rmse:0.78375\n",
      "[12]\tvalidation_0-rmse:0.78353\n",
      "[13]\tvalidation_0-rmse:0.78380\n",
      "[14]\tvalidation_0-rmse:0.78376\n",
      "[15]\tvalidation_0-rmse:0.78440\n",
      "[16]\tvalidation_0-rmse:0.78282\n",
      "[17]\tvalidation_0-rmse:0.78360\n",
      "[18]\tvalidation_0-rmse:0.78311\n",
      "[19]\tvalidation_0-rmse:0.78204\n",
      "[20]\tvalidation_0-rmse:0.78285\n",
      "[21]\tvalidation_0-rmse:0.78263\n",
      "[22]\tvalidation_0-rmse:0.78288\n",
      "[23]\tvalidation_0-rmse:0.78229\n",
      "[24]\tvalidation_0-rmse:0.78063\n",
      "[25]\tvalidation_0-rmse:0.78039\n",
      "[26]\tvalidation_0-rmse:0.78137\n",
      "[27]\tvalidation_0-rmse:0.78143\n",
      "[28]\tvalidation_0-rmse:0.78007\n",
      "[29]\tvalidation_0-rmse:0.77919\n",
      "[30]\tvalidation_0-rmse:0.77976\n",
      "[31]\tvalidation_0-rmse:0.78104\n",
      "[32]\tvalidation_0-rmse:0.78037\n",
      "[33]\tvalidation_0-rmse:0.78011\n",
      "[34]\tvalidation_0-rmse:0.78024\n",
      "[35]\tvalidation_0-rmse:0.78075\n",
      "[36]\tvalidation_0-rmse:0.78071\n",
      "[37]\tvalidation_0-rmse:0.78104\n",
      "[38]\tvalidation_0-rmse:0.78080\n",
      "[39]\tvalidation_0-rmse:0.78236\n",
      "[40]\tvalidation_0-rmse:0.78258\n",
      "[41]\tvalidation_0-rmse:0.78345\n",
      "[42]\tvalidation_0-rmse:0.78376\n",
      "[43]\tvalidation_0-rmse:0.78327\n",
      "[44]\tvalidation_0-rmse:0.78290\n",
      "[45]\tvalidation_0-rmse:0.78301\n",
      "[46]\tvalidation_0-rmse:0.78316\n",
      "[47]\tvalidation_0-rmse:0.78322\n",
      "[48]\tvalidation_0-rmse:0.78264\n",
      "[49]\tvalidation_0-rmse:0.78210\n"
     ]
    }
   ],
   "source": [
    "regressor = xgb.XGBRegressor(\n",
    "    early_stopping_rounds = 20,\n",
    "    max_depth = 5\n",
    ")\n",
    "\n",
    "regressor.fit(X_train, y_train, eval_set = [(X_test, y_test)])\n",
    "importance_check = pd.DataFrame(regressor.feature_importances_.reshape(1,-1), columns = [['postnr', 'year', 'orgnummer', 'tilsynsbesoektype', 'naeringskode1_kode', 'antallansatte']])\n"
   ]
  },
  {
   "cell_type": "code",
   "execution_count": 159,
   "metadata": {},
   "outputs": [
    {
     "data": {
      "image/png": "[encoded data removed]",
      "text/plain": [
       "<Figure size 640x480 with 1 Axes>"
      ]
     },
     "metadata": {},
     "output_type": "display_data"
    }
   ],
   "source": [
    "plt.barh(['postnr', 'year', 'orgnummer', 'tilsynsbesoektype', 'naeringskode1_kode', 'antallansatte'], regressor.feature_importances_)\n",
    "plt.show()"
   ]
  },
  {
   "attachments": {},
   "cell_type": "markdown",
   "metadata": {},
   "source": [
    "# Scoring xg"
   ]
  },
  {
   "cell_type": "code",
   "execution_count": 160,
   "metadata": {},
   "outputs": [
    {
     "name": "stdout",
     "output_type": "stream",
     "text": [
      "Train R2 XG : 0.3934382950592954\n",
      "Train MSE XG : 0.7026657731759588\n",
      "Train MAE XG : 0.5508137099567062\n",
      "Test R2 XG : 0.25165324117968413\n",
      "Test MSE XG : 0.7791889382623812\n",
      "Train MAE XG : 0.6203760643297658\n"
     ]
    }
   ],
   "source": [
    "# Train xg\n",
    "r2_train_xg = regressor.score(X_train, y_train)\n",
    "print(f'Train R2 XG : {r2_train_xg}') # 6f 0.3071 / m.år 0.4545\n",
    "\n",
    "y_pred_train_xg = regressor.predict(X_train)\n",
    "mse_train_xg = mean_squared_error(y_train, y_pred_train_xg)\n",
    "print(f'Train MSE XG : {np.sqrt(mse_train_xg)}') # 6f 0.7480 / m.år 0.6641\n",
    "\n",
    "mae_train_xg = mean_absolute_error(y_train, y_pred_train_xg)\n",
    "print(f'Train MAE XG : {mae_train_xg}') # 6f 0.5854 / m.år 0.5156\n",
    "\n",
    "# Test xg\n",
    "r2_test_xg = regressor.score(X_test, y_test)\n",
    "print(f'Test R2 XG : {r2_test_xg}') # 6f 0.1754 / m.år 0.2766\n",
    "\n",
    "y_pred_test_xg = regressor.predict(X_test)\n",
    "mse_test_xg = mean_squared_error(y_test, y_pred_test_xg)\n",
    "print(f'Test MSE XG : {np.sqrt(mse_test_xg)}') # 6f 0.8305 / m.år 0.7755\n",
    "\n",
    "mae_test_xg = mean_absolute_error(y_test, y_pred_test_xg)\n",
    "print(f'Train MAE XG : {mae_test_xg}') # 6f 0.6631 / m.år 0.6029"
   ]
  },
  {
   "attachments": {},
   "cell_type": "markdown",
   "metadata": {},
   "source": [
    "# Linear Regression Model"
   ]
  },
  {
   "cell_type": "code",
   "execution_count": 161,
   "metadata": {},
   "outputs": [
    {
     "name": "stdout",
     "output_type": "stream",
     "text": [
      "Train R2 : 0.16774089969927775\n",
      "Train MAE : 0.6484737999621969\n",
      "Train MSE : 0.8230772198934848\n",
      "Test R2 : 0.19744896276802726\n",
      "Test MAE : 0.6379379199281667\n",
      "Test MSE : 0.8069147749221631\n"
     ]
    }
   ],
   "source": [
    "lin_reg_model = LinearRegression()\n",
    "lin_reg_model.fit(X_test, y_test)\n",
    "\n",
    "## TRAIN\n",
    "\n",
    "r2_train = lin_reg_model.score(X_train, y_train)\n",
    "y_train_pred_linreg = lin_reg_model.predict(X_train)\n",
    "mae_train = mean_absolute_error(y_train, y_train_pred_linreg)\n",
    "mse_train = mean_squared_error(y_train, y_train_pred_linreg)\n",
    "print(f'Train R2 : {r2_train}') # 0.1616 / 6f 0.17036 / m.år 0.1595\n",
    "print(f'Train MAE : {mae_train}') # 0.6758 / 6f 0.6559 / m.år 0.6557\n",
    "print(f'Train MSE : {np.sqrt(mse_train)}') # 0.8256 / 6f 0.8185 / m.år 0.8244\n",
    "\n",
    "## TEST\n",
    "\n",
    "r2_test = lin_reg_model.score(X_test, y_test)\n",
    "y_test_pred_linreg = lin_reg_model.predict(X_test)\n",
    "mae_test = mean_absolute_error(y_test, y_test_pred_linreg)\n",
    "mse_test = mean_squared_error(y_test, y_test_pred_linreg)\n",
    "print(f'Test R2 : {r2_test}') # 0.1802 / 6f 0.1664 / m.år 0.2152\n",
    "print(f'Test MAE : {mae_test}') # 0.6662 / 6f 0.6802 / m.år 0.6399\n",
    "print(f'Test MSE : {np.sqrt(mse_test)}') # 0.8164 / 6f 0.8351 / m.år 0.8077"
   ]
  },
  {
   "attachments": {},
   "cell_type": "markdown",
   "metadata": {},
   "source": [
    "# Logistic Regression Model"
   ]
  },
  {
   "cell_type": "code",
   "execution_count": 162,
   "metadata": {},
   "outputs": [
    {
     "name": "stdout",
     "output_type": "stream",
     "text": [
      "Train accuracy : 0.5376712328767124\n",
      "Train Precision : 0.6453252032520326\n",
      "Train Recall : 0.9984276729559748\n"
     ]
    },
    {
     "name": "stderr",
     "output_type": "stream",
     "text": [
      "C:\\Users\\STM\\AppData\\Roaming\\Python\\Python310\\site-packages\\sklearn\\utils\\validation.py:1141: DataConversionWarning: A column-vector y was passed when a 1d array was expected. Please change the shape of y to (n_samples, ), for example using ravel().\n",
      "  y = column_or_1d(y, warn=True)\n"
     ]
    },
    {
     "data": {
      "image/png": "[encoded data removed]",
      "text/plain": [
       "<Figure size 640x480 with 2 Axes>"
      ]
     },
     "metadata": {},
     "output_type": "display_data"
    }
   ],
   "source": [
    "# y_train = y_train.reshape(-1)\n",
    "log_reg_model = LogisticRegression(max_iter = 1000)\n",
    "log_reg_model.fit(X_train, y_train)\n",
    "\n",
    "y_pred_cm = log_reg_model.predict(X_train)\n",
    "#y_train_pred_prod = log_reg_model.predict_proba(X_train)\n",
    "#y_train_pred_prod_1 = y_train_pred_prod[:,1]\n",
    "#y_train_pred = y_train_pred_prod_1 > 0.1\n",
    "\n",
    "train_acc = accuracy_score(y_train, y_pred_cm)\n",
    "print(f'Train accuracy : {train_acc}')\n",
    "\n",
    "cm_train = confusion_matrix(y_train, y_pred_cm)\n",
    "\n",
    "tn_train = cm_train[0,0]\n",
    "fp_train = cm_train[0,1]\n",
    "fn_train = cm_train[1,0]\n",
    "tp_train = cm_train[1,1]\n",
    "\n",
    "precision_train = tp_train/(tp_train+fp_train)\n",
    "recall_train = tp_train/(tp_train+fn_train)\n",
    "print(f'Train Precision : {precision_train}')\n",
    "print(f'Train Recall : {recall_train}')\n",
    "\n",
    "ConfusionMatrixDisplay(cm_train).plot()\n",
    "plt.show()"
   ]
  },
  {
   "attachments": {},
   "cell_type": "markdown",
   "metadata": {},
   "source": [
    "# KNeighbors Regressor Model"
   ]
  },
  {
   "cell_type": "code",
   "execution_count": 164,
   "metadata": {},
   "outputs": [
    {
     "name": "stdout",
     "output_type": "stream",
     "text": [
      "Knn Train Score:\n",
      "R2_train : 0.5760575159926113\n",
      "MAE train : 0.394798801369863\n",
      "MSE train : 0.5874417050646942\n",
      "Knn Test Score:\n",
      "R2_test : -0.11396697375470599\n",
      "MAE test : 0.7014542343883661\n",
      "MSEtest : 0.9506649781967824\n"
     ]
    }
   ],
   "source": [
    "model_knn = KNeighborsRegressor(n_neighbors=2)\n",
    "model_knn.fit(X_train, y_train)\n",
    "\n",
    "# KNN score\n",
    "# Train\n",
    "R2_train_knn = model_knn.score(X_train, y_train)\n",
    "y_pred_train_knn = model_knn.predict(X_train)\n",
    "mae_train_knn = mean_absolute_error(y_train, y_pred_train_knn)\n",
    "mse_train_knn = mean_squared_error(y_train, y_pred_train_knn)\n",
    "print(f'Knn Train Score:')\n",
    "print(f'R2_train : {R2_train_knn}') # \n",
    "print(f'MAE train : {mae_train_knn}') # \n",
    "print(f'MSE train : {np.sqrt(mse_train_knn)}') # \n",
    "\n",
    "# Test\n",
    "R2_test_knn = model_knn.score(X_test, y_test)\n",
    "y_test_pred_knn = model_knn.predict(X_test)\n",
    "mae_test_knn = mean_absolute_error(y_test, y_test_pred_knn)\n",
    "mse_test_knn = mean_squared_error(y_test, y_test_pred_knn)\n",
    "print(f'Knn Test Score:')\n",
    "print(f'R2_test : {R2_test_knn}') # \n",
    "print(f'MAE test : {mae_test_knn}') # \n",
    "print(f'MSEtest : {np.sqrt(mse_test_knn)}') # "
   ]
  }
 ],
 "metadata": {
  "kernelspec": {
   "display_name": "Python 3",
   "language": "python",
   "name": "python3"
  },
  "language_info": {
   "codemirror_mode": {
    "name": "ipython",
    "version": 3
   },
   "file_extension": ".py",
   "mimetype": "text/x-python",
   "name": "python",
   "nbconvert_exporter": "python",
   "pygments_lexer": "ipython3",
   "version": "3.10.8"
  },
  "orig_nbformat": 4,
  "vscode": {
   "interpreter": {
    "hash": "26de051ba29f2982a8de78e945f0abaf191376122a1563185a90213a26c5da77"
   }
  }
 },
 "nbformat": 4,
 "nbformat_minor": 2
}
