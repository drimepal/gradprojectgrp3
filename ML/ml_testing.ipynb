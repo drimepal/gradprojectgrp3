{
 "cells": [
  {
   "cell_type": "code",
   "execution_count": 1,
   "metadata": {},
   "outputs": [],
   "source": [
    "import pandas as pd\n",
    "import numpy as np\n",
    "import matplotlib.pyplot as plt\n",
    "import xgboost as xgb\n",
    "from sklearn.model_selection import train_test_split\n",
    "from sklearn.metrics import mean_squared_error, mean_absolute_error\n"
   ]
  },
  {
   "attachments": {},
   "cell_type": "markdown",
   "metadata": {},
   "source": [
    "# READ FROM DATABASE"
   ]
  },
  {
   "cell_type": "code",
   "execution_count": 2,
   "metadata": {},
   "outputs": [],
   "source": [
    "import psycopg2"
   ]
  },
  {
   "cell_type": "code",
   "execution_count": 3,
   "metadata": {},
   "outputs": [],
   "source": [
    "# jdbc:postgresql://pg-graduate-delt.postgres.database.azure.com:5432/{your_database}?user=snartimaal&password={your_password}&sslmode=require\n",
    "with psycopg2.connect(\n",
    "    database='pgsql-graduate-gruppe3',\n",
    "    user='snartimaal',\n",
    "    password='#st44p44nu',\n",
    "    host='pg-graduate-delt.postgres.database.azure.com'\n",
    ") as conn:\n",
    "    cur = conn.cursor()"
   ]
  },
  {
   "cell_type": "code",
   "execution_count": 4,
   "metadata": {},
   "outputs": [
    {
     "name": "stderr",
     "output_type": "stream",
     "text": [
      "C:\\Users\\STM\\AppData\\Local\\Temp\\ipykernel_3804\\1288020511.py:3: UserWarning: pandas only supports SQLAlchemy connectable (engine/connection) or database string URI or sqlite3 DBAPI2 connection. Other DBAPI2 objects are not tested. Please consider using SQLAlchemy.\n",
      "  sql_query = pd.read_sql_query(\"SELECT m.postnr, m.dato, m.orgnummer, m.tilsynsbesoektype, m.total_karakter, c_sub.naeringskode1_kode \\\n"
     ]
    }
   ],
   "source": [
    "try:\n",
    "    cur = conn.cursor()\n",
    "    sql_query = pd.read_sql_query(\"SELECT m.postnr, m.dato, m.orgnummer, m.tilsynsbesoektype, m.total_karakter, c_sub.naeringskode1_kode, c_sub. \\\n",
    "                                  FROM mattilsynet m \\\n",
    "                                  JOIN company_subunit c_sub ON m.orgnummer = c_sub.organisasjonsnummer;\", \n",
    "                                  conn)\n",
    "    df_test = pd.DataFrame(sql_query, columns=['postnr', 'dato', 'orgnummer', 'tilsynsbesoektype', 'total_karakter', 'naeringskode1_kode'])\n",
    "except:\n",
    "    conn.rollback()\n",
    "    cur.close()"
   ]
  },
  {
   "cell_type": "code",
   "execution_count": 5,
   "metadata": {},
   "outputs": [],
   "source": [
    "features_test = df_test[['postnr', 'dato', 'orgnummer', 'tilsynsbesoektype', 'naeringskode1_kode']]\n",
    "X = np.c_[features_test]\n",
    "y = np.c_[df_test['total_karakter']]"
   ]
  },
  {
   "cell_type": "code",
   "execution_count": 6,
   "metadata": {},
   "outputs": [
    {
     "name": "stdout",
     "output_type": "stream",
     "text": [
      "X len : 5841\n",
      "y len : 5841\n"
     ]
    }
   ],
   "source": [
    "print(f'X len : {len(X)}')\n",
    "print(f'y len : {len(y)}')"
   ]
  },
  {
   "cell_type": "code",
   "execution_count": 7,
   "metadata": {},
   "outputs": [
    {
     "name": "stdout",
     "output_type": "stream",
     "text": [
      "(5841, 5) (5841, 1)\n"
     ]
    }
   ],
   "source": [
    "print(X.data.shape,\n",
    "y.data.shape)"
   ]
  },
  {
   "cell_type": "code",
   "execution_count": 8,
   "metadata": {},
   "outputs": [],
   "source": [
    "X_train, X_test, y_train, y_test = train_test_split(X, y, test_size=0.2)"
   ]
  },
  {
   "cell_type": "code",
   "execution_count": 9,
   "metadata": {},
   "outputs": [
    {
     "name": "stdout",
     "output_type": "stream",
     "text": [
      "X_train len : 4672\n",
      "X_test len : 1169\n",
      "y_train len : 4672\n",
      "y_test len : 1169\n"
     ]
    }
   ],
   "source": [
    "print(f'X_train len : {len(X_train)}')\n",
    "print(f'X_test len : {len(X_test)}')\n",
    "print(f'y_train len : {len(y_train)}')\n",
    "print(f'y_test len : {len(y_test)}')"
   ]
  },
  {
   "attachments": {},
   "cell_type": "markdown",
   "metadata": {},
   "source": [
    "# Naiv score"
   ]
  },
  {
   "cell_type": "code",
   "execution_count": 10,
   "metadata": {},
   "outputs": [
    {
     "name": "stdout",
     "output_type": "stream",
     "text": [
      "y_pred_naiv : 1169\n",
      "Naiv MSE : 0.8857281678310638\n",
      "Naiv MAE : 0.7442699605681006\n"
     ]
    }
   ],
   "source": [
    "pred_naiv = np.mean(y_train)\n",
    "y_pred_naiv = np.full(y_test.shape, pred_naiv)\n",
    "print(f'y_pred_naiv : {len(y_pred_naiv)}')\n",
    "\n",
    "mse_naiv = mean_squared_error(y_test, y_pred_naiv)\n",
    "print(f'Naiv MSE : {np.sqrt(mse_naiv)}')\n",
    "\n",
    "mae_naiv = mean_absolute_error(y_test, y_pred_naiv)\n",
    "print(f'Naiv MAE : {mae_naiv}') "
   ]
  },
  {
   "attachments": {},
   "cell_type": "markdown",
   "metadata": {},
   "source": [
    "# XGBoost Model"
   ]
  },
  {
   "cell_type": "code",
   "execution_count": 12,
   "metadata": {},
   "outputs": [
    {
     "name": "stdout",
     "output_type": "stream",
     "text": [
      "[0]\tvalidation_0-rmse:0.89169\n",
      "[1]\tvalidation_0-rmse:0.84235\n",
      "[2]\tvalidation_0-rmse:0.81830\n",
      "[3]\tvalidation_0-rmse:0.80731\n",
      "[4]\tvalidation_0-rmse:0.80147\n",
      "[5]\tvalidation_0-rmse:0.80388\n",
      "[6]\tvalidation_0-rmse:0.80560\n",
      "[7]\tvalidation_0-rmse:0.81075\n",
      "[8]\tvalidation_0-rmse:0.81338\n",
      "[9]\tvalidation_0-rmse:0.81416\n",
      "[10]\tvalidation_0-rmse:0.81452\n",
      "[11]\tvalidation_0-rmse:0.81668\n",
      "[12]\tvalidation_0-rmse:0.81809\n",
      "[13]\tvalidation_0-rmse:0.81898\n",
      "[14]\tvalidation_0-rmse:0.81945\n",
      "[15]\tvalidation_0-rmse:0.81974\n",
      "[16]\tvalidation_0-rmse:0.82336\n",
      "[17]\tvalidation_0-rmse:0.82285\n",
      "[18]\tvalidation_0-rmse:0.82490\n",
      "[19]\tvalidation_0-rmse:0.82528\n",
      "[20]\tvalidation_0-rmse:0.82707\n",
      "[21]\tvalidation_0-rmse:0.82859\n",
      "[22]\tvalidation_0-rmse:0.82896\n",
      "[23]\tvalidation_0-rmse:0.82940\n",
      "[24]\tvalidation_0-rmse:0.82938\n"
     ]
    }
   ],
   "source": [
    "regressor = xgb.XGBRegressor(\n",
    "    early_stopping_rounds = 20,\n",
    "    max_depth = 10\n",
    ")\n",
    "\n",
    "regressor.fit(X_train, y_train, eval_set = [(X_test, y_test)])\n",
    "importance_check = pd.DataFrame(regressor.feature_importances_.reshape(1,-1), columns = [['postnr', 'dato', 'orgnummer', 'tilsynsbesoektype', 'naeringskode1_kode']])\n"
   ]
  },
  {
   "cell_type": "code",
   "execution_count": 13,
   "metadata": {},
   "outputs": [
    {
     "data": {
      "image/png": "[encoded data removed]",
      "text/plain": [
       "<Figure size 640x480 with 1 Axes>"
      ]
     },
     "metadata": {},
     "output_type": "display_data"
    }
   ],
   "source": [
    "plt.barh(['postnr', 'dato', 'orgnummer', 'tilsynsbesoektype', 'naeringskode1_kode'], regressor.feature_importances_)\n",
    "plt.show()"
   ]
  },
  {
   "attachments": {},
   "cell_type": "markdown",
   "metadata": {},
   "source": [
    "# Scoring xg"
   ]
  },
  {
   "cell_type": "code",
   "execution_count": 14,
   "metadata": {},
   "outputs": [
    {
     "name": "stdout",
     "output_type": "stream",
     "text": [
      "Train R2 XG : 0.48599713132742806\n",
      "Train MSE XG : 0.6495163335347284\n",
      "Train MAE XG : 0.49809098763515763\n",
      "Test R2 XG : 0.1811672180836833\n",
      "Test MSE XG : 0.8014731904381543\n",
      "Train MAE XG : 0.6227289195418664\n"
     ]
    }
   ],
   "source": [
    "# Train xg\n",
    "r2_train_xg = regressor.score(X_train, y_train)\n",
    "print(f'Train R2 XG : {r2_train_xg}')\n",
    "\n",
    "y_pred_train_xg = regressor.predict(X_train)\n",
    "mse_train_xg = mean_squared_error(y_train, y_pred_train_xg)\n",
    "print(f'Train MSE XG : {np.sqrt(mse_train_xg)}')\n",
    "\n",
    "mae_train_xg = mean_absolute_error(y_train, y_pred_train_xg)\n",
    "print(f'Train MAE XG : {mae_train_xg}') \n",
    "\n",
    "# Test xg\n",
    "r2_test_xg = regressor.score(X_test, y_test)\n",
    "print(f'Test R2 XG : {r2_test_xg}') \n",
    "\n",
    "y_pred_test_xg = regressor.predict(X_test)\n",
    "mse_test_xg = mean_squared_error(y_test, y_pred_test_xg)\n",
    "print(f'Test MSE XG : {np.sqrt(mse_test_xg)}') \n",
    "\n",
    "mae_test_xg = mean_absolute_error(y_test, y_pred_test_xg)\n",
    "print(f'Train MAE XG : {mae_test_xg}')"
   ]
  }
 ],
 "metadata": {
  "kernelspec": {
   "display_name": "Python 3",
   "language": "python",
   "name": "python3"
  },
  "language_info": {
   "codemirror_mode": {
    "name": "ipython",
    "version": 3
   },
   "file_extension": ".py",
   "mimetype": "text/x-python",
   "name": "python",
   "nbconvert_exporter": "python",
   "pygments_lexer": "ipython3",
   "version": "3.10.8"
  },
  "orig_nbformat": 4,
  "vscode": {
   "interpreter": {
    "hash": "26de051ba29f2982a8de78e945f0abaf191376122a1563185a90213a26c5da77"
   }
  }
 },
 "nbformat": 4,
 "nbformat_minor": 2
}
