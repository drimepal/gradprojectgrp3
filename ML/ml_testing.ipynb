{
 "cells": [
  {
   "cell_type": "code",
   "execution_count": 1,
   "metadata": {},
   "outputs": [],
   "source": [
    "import pandas as pd\n",
    "import numpy as np\n",
    "import matplotlib.pyplot as plt\n",
    "import xgboost as xgb\n",
    "from sklearn.model_selection import train_test_split\n",
    "from sklearn.metrics import mean_squared_error, mean_absolute_error\n"
   ]
  },
  {
   "cell_type": "code",
   "execution_count": 3,
   "metadata": {},
   "outputs": [],
   "source": [
    "df_mat = pd.read_csv(r'..\\Data\\Extracted\\mattilsynet_csv.csv')\n",
    "df_bron = pd.read_csv(r'..\\Data\\Extracted\\bronnoysund_company_data.csv')"
   ]
  },
  {
   "cell_type": "code",
   "execution_count": 4,
   "metadata": {},
   "outputs": [
    {
     "data": {
      "text/plain": [
       "Index(['Unnamed: 0', 'tilsynsobjektid', 'org_navn', 'orgnummer', 'adresse',\n",
       "       'postnr', 'poststed', 'kategori1', 'kategori2', 'kategori3',\n",
       "       'kategori4', 'karakter1', 'karakter2', 'karakter3', 'karakter4',\n",
       "       'total_karakter', 'dato', 'tilsynsbesoektype', 'tilsynid', 'sakref',\n",
       "       'status'],\n",
       "      dtype='object')"
      ]
     },
     "execution_count": 4,
     "metadata": {},
     "output_type": "execute_result"
    }
   ],
   "source": [
    "df_mat.columns"
   ]
  },
  {
   "cell_type": "code",
   "execution_count": 5,
   "metadata": {},
   "outputs": [
    {
     "data": {
      "text/plain": [
       "Index(['Unnamed: 0', 'organisasjonsnummer', 'navn', 'hjemmeside',\n",
       "       'registreringsdatoEnhetsregisteret', 'registrertIMvaregisteret',\n",
       "       'antallAnsatte', 'overordnetEnhet', 'oppstartsdato',\n",
       "       'organisasjonsform_kode', 'organisasjonsform_beskrivelse',\n",
       "       'organisasjonsform__links_self_href', 'postadresse_land',\n",
       "       'postadresse_landkode', 'postadresse_postnummer',\n",
       "       'postadresse_poststed', 'postadresse_adresse', 'postadresse_kommune',\n",
       "       'postadresse_kommunenummer', 'naeringskode1_beskrivelse',\n",
       "       'naeringskode1_kode', 'beliggenhetsadresse_land',\n",
       "       'beliggenhetsadresse_landkode', 'beliggenhetsadresse_postnummer',\n",
       "       'beliggenhetsadresse_poststed', 'beliggenhetsadresse_adresse',\n",
       "       'beliggenhetsadresse_kommune', 'beliggenhetsadresse_kommunenummer',\n",
       "       'links_self_href', 'links_overordnetEnhet_href', 'datoEierskifte',\n",
       "       'naeringskode2_beskrivelse', 'naeringskode2_kode',\n",
       "       'naeringskode3_beskrivelse', 'naeringskode3_kode',\n",
       "       'naeringskode2_hjelpeenhetskode', 'slettedato', 'nedleggelsesdato'],\n",
       "      dtype='object')"
      ]
     },
     "execution_count": 5,
     "metadata": {},
     "output_type": "execute_result"
    }
   ],
   "source": [
    "df_bron.columns"
   ]
  },
  {
   "cell_type": "code",
   "execution_count": 6,
   "metadata": {},
   "outputs": [],
   "source": [
    "features_mat = df_mat[['postnr', 'dato', 'orgnummer']]\n",
    "X_mat = np.c_[features_mat]\n",
    "y_mat = np.c_[df_mat['total_karakter']]"
   ]
  },
  {
   "cell_type": "code",
   "execution_count": 7,
   "metadata": {},
   "outputs": [
    {
     "name": "stdout",
     "output_type": "stream",
     "text": [
      "X_mat len : 5897\n",
      "y_mat len : 5897\n"
     ]
    }
   ],
   "source": [
    "print(f'X_mat len : {len(X_mat)}')\n",
    "print(f'y_mat len : {len(y_mat)}')"
   ]
  },
  {
   "cell_type": "code",
   "execution_count": 8,
   "metadata": {},
   "outputs": [
    {
     "name": "stdout",
     "output_type": "stream",
     "text": [
      "[[      461  27042016 971761539]\n",
      " [      461  19112019 971761539]\n",
      " [      477  22032018 917686149]\n",
      " ...\n",
      " [      194   9092022 913536835]\n",
      " [      179  12122022 929774671]\n",
      " [      673  22122022 915566197]]\n",
      "[[1]\n",
      " [1]\n",
      " [0]\n",
      " ...\n",
      " [0]\n",
      " [1]\n",
      " [0]]\n"
     ]
    }
   ],
   "source": [
    "print(X_mat)\n",
    "print(y_mat)"
   ]
  },
  {
   "cell_type": "code",
   "execution_count": 9,
   "metadata": {},
   "outputs": [
    {
     "name": "stdout",
     "output_type": "stream",
     "text": [
      "(5897, 3) (5897, 1)\n"
     ]
    }
   ],
   "source": [
    "print(X_mat.data.shape,\n",
    "y_mat.data.shape)"
   ]
  },
  {
   "cell_type": "code",
   "execution_count": 10,
   "metadata": {},
   "outputs": [],
   "source": [
    "X_mat_train, X_mat_test, y_mat_train, y_mat_test = train_test_split(X_mat, y_mat, test_size=0.2)"
   ]
  },
  {
   "cell_type": "code",
   "execution_count": 11,
   "metadata": {},
   "outputs": [
    {
     "name": "stdout",
     "output_type": "stream",
     "text": [
      "X_mat_train len : 4717\n",
      "X_mat_test len : 1180\n",
      "y_mat_train len : 4717\n",
      "y_mat_test len : 1180\n"
     ]
    }
   ],
   "source": [
    "print(f'X_mat_train len : {len(X_mat_train)}')\n",
    "print(f'X_mat_test len : {len(X_mat_test)}')\n",
    "print(f'y_mat_train len : {len(y_mat_train)}')\n",
    "print(f'y_mat_test len : {len(y_mat_test)}')"
   ]
  },
  {
   "attachments": {},
   "cell_type": "markdown",
   "metadata": {},
   "source": [
    "# Naiv score"
   ]
  },
  {
   "cell_type": "code",
   "execution_count": 12,
   "metadata": {},
   "outputs": [
    {
     "name": "stdout",
     "output_type": "stream",
     "text": [
      "y_pred_naiv : 1180\n",
      "Naiv MSE : 0.9041206631059148\n",
      "Naiv MAE : 0.7558019496735572\n"
     ]
    }
   ],
   "source": [
    "pred_naiv = np.mean(y_mat_train)\n",
    "y_pred_naiv = np.full(y_mat_test.shape, pred_naiv)\n",
    "print(f'y_pred_naiv : {len(y_pred_naiv)}')\n",
    "\n",
    "mse_naiv = mean_squared_error(y_mat_test, y_pred_naiv)\n",
    "print(f'Naiv MSE : {np.sqrt(mse_naiv)}') # 111.1814\n",
    "\n",
    "mae_naiv = mean_absolute_error(y_mat_test, y_pred_naiv)\n",
    "print(f'Naiv MAE : {mae_naiv}') # 57.6039"
   ]
  },
  {
   "cell_type": "code",
   "execution_count": 13,
   "metadata": {},
   "outputs": [
    {
     "name": "stdout",
     "output_type": "stream",
     "text": [
      "(4717, 3)\n",
      "(4717, 1)\n"
     ]
    }
   ],
   "source": [
    "print(X_mat_train.data.shape)\n",
    "print(y_mat_train.data.shape)"
   ]
  },
  {
   "attachments": {},
   "cell_type": "markdown",
   "metadata": {},
   "source": [
    "# XGBoost Model"
   ]
  },
  {
   "cell_type": "code",
   "execution_count": 14,
   "metadata": {},
   "outputs": [
    {
     "name": "stdout",
     "output_type": "stream",
     "text": [
      "[0]\tvalidation_0-rmse:0.96457\n",
      "[1]\tvalidation_0-rmse:0.93551\n",
      "[2]\tvalidation_0-rmse:0.92113\n",
      "[3]\tvalidation_0-rmse:0.91269\n",
      "[4]\tvalidation_0-rmse:0.91074\n",
      "[5]\tvalidation_0-rmse:0.90803\n",
      "[6]\tvalidation_0-rmse:0.90764\n",
      "[7]\tvalidation_0-rmse:0.90692\n",
      "[8]\tvalidation_0-rmse:0.90674\n",
      "[9]\tvalidation_0-rmse:0.90593\n",
      "[10]\tvalidation_0-rmse:0.90704\n"
     ]
    }
   ],
   "source": [
    "regressor = xgb.XGBRegressor(\n",
    "    early_stopping_rounds = 2,\n",
    "    max_depth = 3\n",
    ")\n",
    "\n",
    "regressor.fit(X_mat_train, y_mat_train, eval_set = [(X_mat_test, y_mat_test)])\n",
    "importance_check = pd.DataFrame(regressor.feature_importances_.reshape(1,-1), columns = [['postnr', 'dato', 'orgnummer']])\n"
   ]
  },
  {
   "cell_type": "code",
   "execution_count": 15,
   "metadata": {},
   "outputs": [
    {
     "data": {
      "image/png": "[encoded data removed]",
      "text/plain": [
       "<Figure size 640x480 with 1 Axes>"
      ]
     },
     "metadata": {},
     "output_type": "display_data"
    }
   ],
   "source": [
    "plt.barh(['postnr', 'dato', 'orgnummer'], regressor.feature_importances_)\n",
    "plt.show()"
   ]
  },
  {
   "attachments": {},
   "cell_type": "markdown",
   "metadata": {},
   "source": [
    "# Scoring xg"
   ]
  },
  {
   "cell_type": "code",
   "execution_count": 16,
   "metadata": {},
   "outputs": [
    {
     "name": "stdout",
     "output_type": "stream",
     "text": [
      "Train R2 XG : 0.05010813838805639\n",
      "Train MSE XG : 0.881172594606148\n",
      "Train MAE XG : 0.7456137792700702\n",
      "Test R2 XG : -0.005055206642450072\n",
      "Test MSE XG : 0.9059345285447608\n",
      "Train MAE XG : 0.7632172070317349\n"
     ]
    }
   ],
   "source": [
    "# Train xg\n",
    "r2_train_xg = regressor.score(X_mat_train, y_mat_train)\n",
    "print(f'Train R2 XG : {r2_train_xg}')\n",
    "\n",
    "y_pred_train_xg = regressor.predict(X_mat_train)\n",
    "mse_train_xg = mean_squared_error(y_mat_train, y_pred_train_xg)\n",
    "print(f'Train MSE XG : {np.sqrt(mse_train_xg)}')\n",
    "\n",
    "mae_train_xg = mean_absolute_error(y_mat_train, y_pred_train_xg)\n",
    "print(f'Train MAE XG : {mae_train_xg}') \n",
    "\n",
    "# Test xg\n",
    "r2_test_xg = regressor.score(X_mat_test, y_mat_test)\n",
    "print(f'Test R2 XG : {r2_test_xg}') \n",
    "\n",
    "y_pred_test_xg = regressor.predict(X_mat_test)\n",
    "mse_test_xg = mean_squared_error(y_mat_test, y_pred_test_xg)\n",
    "print(f'Test MSE XG : {np.sqrt(mse_test_xg)}') \n",
    "\n",
    "mae_test_xg = mean_absolute_error(y_mat_test, y_pred_test_xg)\n",
    "print(f'Train MAE XG : {mae_test_xg}')"
   ]
  }
 ],
 "metadata": {
  "kernelspec": {
   "display_name": "Python 3",
   "language": "python",
   "name": "python3"
  },
  "language_info": {
   "codemirror_mode": {
    "name": "ipython",
    "version": 3
   },
   "file_extension": ".py",
   "mimetype": "text/x-python",
   "name": "python",
   "nbconvert_exporter": "python",
   "pygments_lexer": "ipython3",
   "version": "3.10.8"
  },
  "orig_nbformat": 4,
  "vscode": {
   "interpreter": {
    "hash": "26de051ba29f2982a8de78e945f0abaf191376122a1563185a90213a26c5da77"
   }
  }
 },
 "nbformat": 4,
 "nbformat_minor": 2
}
