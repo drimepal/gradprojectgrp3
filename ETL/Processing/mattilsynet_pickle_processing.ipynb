{
 "cells": [
  {
   "attachments": {},
   "cell_type": "markdown",
   "metadata": {},
   "source": [
    "## Script for processing and transforming pickle files to dataframes"
   ]
  },
  {
   "cell_type": "code",
   "execution_count": 51,
   "metadata": {},
   "outputs": [],
   "source": [
    "import pickle\n",
    "import pandas as pd\n",
    "import numpy as np"
   ]
  },
  {
   "attachments": {},
   "cell_type": "markdown",
   "metadata": {},
   "source": [
    "##### Importing pickle file"
   ]
  },
  {
   "cell_type": "code",
   "execution_count": 52,
   "metadata": {},
   "outputs": [],
   "source": [
    "with open(r'..\\..\\Data\\Raw\\mattilsynet_rawdata.obj', 'rb') as file:\n",
    "    mattilsynet_data = pickle.load(file)"
   ]
  },
  {
   "attachments": {},
   "cell_type": "markdown",
   "metadata": {},
   "source": [
    "##### List to pandas dataframe"
   ]
  },
  {
   "cell_type": "code",
   "execution_count": 53,
   "metadata": {},
   "outputs": [],
   "source": [
    "df = pd.DataFrame(mattilsynet_data)"
   ]
  },
  {
   "attachments": {},
   "cell_type": "markdown",
   "metadata": {},
   "source": [
    "##### Removing duplicate columns \n",
    "##### (dataset has both bokmål and nynorsk description of grading categories)"
   ]
  },
  {
   "cell_type": "code",
   "execution_count": 54,
   "metadata": {},
   "outputs": [],
   "source": [
    "duplicate_columns = ['tema1_nn', 'tema2_nn', 'tema3_nn', 'tema4_nn']\n",
    "df = df.drop(duplicate_columns, axis=1)"
   ]
  },
  {
   "attachments": {},
   "cell_type": "markdown",
   "metadata": {},
   "source": [
    "##### Changing order of columns"
   ]
  },
  {
   "cell_type": "code",
   "execution_count": 55,
   "metadata": {},
   "outputs": [],
   "source": [
    "column_order = ['tilsynid', 'navn', 'orgnummer', 'adrlinje1', 'postnr', 'poststed', \\\n",
    "'tema1_no', 'tema2_no', 'tema3_no', 'tema4_no', 'karakter1', 'karakter2', 'karakter3', 'karakter4', \\\n",
    "'total_karakter', 'dato', 'tilsynsbesoektype', 'tilsynsobjektid', 'sakref', 'status']\n",
    "df = df.reindex(columns = column_order)"
   ]
  },
  {
   "attachments": {},
   "cell_type": "markdown",
   "metadata": {},
   "source": [
    "##### Renaming columns"
   ]
  },
  {
   "cell_type": "code",
   "execution_count": 56,
   "metadata": {},
   "outputs": [],
   "source": [
    "df = df.rename(columns={'adrlinje1': 'adresse',\n",
    "                        'tema1_no': 'kategori1',\n",
    "                        'tema2_no': 'kategori2',\n",
    "                        'tema3_no': 'kategori3',\n",
    "                        'tema4_no': 'kategori4',\n",
    "                        'navn': 'org_navn'})"
   ]
  },
  {
   "attachments": {},
   "cell_type": "markdown",
   "metadata": {},
   "source": [
    "##### Filling empty rows with 0"
   ]
  },
  {
   "cell_type": "code",
   "execution_count": 59,
   "metadata": {},
   "outputs": [],
   "source": [
    "# Turning empty string spaces ('') into NaN values\n",
    "df = df.replace(r'^\\s*$', np.nan, regex=True)\n"
   ]
  },
  {
   "cell_type": "code",
   "execution_count": 62,
   "metadata": {},
   "outputs": [],
   "source": [
    "for i,row in df.iterrows():\n",
    "    if pd.isnull(row['karakter1']):\n",
    "        df.loc[i,'karakter1'] = int(0)\n",
    "\n",
    "for i,row in df.iterrows():\n",
    "    if pd.isnull(row['karakter3']):\n",
    "        df.loc[i,'karakter3'] = int(0)\n",
    "\n",
    "for i,row in df.iterrows():\n",
    "    if pd.isnull(row['karakter4']):\n",
    "        df.loc[i,'karakter4'] = int(0)"
   ]
  },
  {
   "attachments": {},
   "cell_type": "markdown",
   "metadata": {},
   "source": [
    "##### Exporting dataframe to csv"
   ]
  },
  {
   "cell_type": "code",
   "execution_count": 63,
   "metadata": {},
   "outputs": [],
   "source": [
    "df.to_csv(r'..\\..\\Data\\Extracted\\mattilsynet_csv.csv', index=False)"
   ]
  }
 ],
 "metadata": {
  "kernelspec": {
   "display_name": "Python 3",
   "language": "python",
   "name": "python3"
  },
  "language_info": {
   "codemirror_mode": {
    "name": "ipython",
    "version": 3
   },
   "file_extension": ".py",
   "mimetype": "text/x-python",
   "name": "python",
   "nbconvert_exporter": "python",
   "pygments_lexer": "ipython3",
   "version": "3.10.8"
  },
  "orig_nbformat": 4,
  "vscode": {
   "interpreter": {
    "hash": "26de051ba29f2982a8de78e945f0abaf191376122a1563185a90213a26c5da77"
   }
  }
 },
 "nbformat": 4,
 "nbformat_minor": 2
}
