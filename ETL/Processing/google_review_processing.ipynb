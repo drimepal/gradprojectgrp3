{
 "cells": [
  {
   "cell_type": "code",
   "execution_count": 1,
   "metadata": {},
   "outputs": [],
   "source": [
    "import pandas as pd"
   ]
  },
  {
   "cell_type": "code",
   "execution_count": 2,
   "metadata": {},
   "outputs": [],
   "source": [
    "df = pd.read_csv(r'..\\..\\Data\\Extracted\\google_review_data.csv')"
   ]
  },
  {
   "cell_type": "code",
   "execution_count": 4,
   "metadata": {},
   "outputs": [
    {
     "data": {
      "text/plain": [
       "Index(['restaurant_name', 'avg_rating', 'author_name', 'author_url',\n",
       "       'language', 'original_language', 'profile_photo_url', 'rating',\n",
       "       'relative_time_description', 'text', 'time', 'translated'],\n",
       "      dtype='object')"
      ]
     },
     "execution_count": 4,
     "metadata": {},
     "output_type": "execute_result"
    }
   ],
   "source": [
    "df.columns"
   ]
  },
  {
   "cell_type": "code",
   "execution_count": 6,
   "metadata": {},
   "outputs": [],
   "source": [
    "wanted_columns = ['restaurant_name', 'organisasjonsnummer', 'avg_rating', 'rating', 'text', 'relative_time_description', 'author_name']"
   ]
  },
  {
   "cell_type": "code",
   "execution_count": 7,
   "metadata": {},
   "outputs": [],
   "source": [
    "df = df[wanted_columns]"
   ]
  },
  {
   "cell_type": "code",
   "execution_count": 8,
   "metadata": {},
   "outputs": [
    {
     "data": {
      "text/html": [
       "<div>\n",
       "<style scoped>\n",
       "    .dataframe tbody tr th:only-of-type {\n",
       "        vertical-align: middle;\n",
       "    }\n",
       "\n",
       "    .dataframe tbody tr th {\n",
       "        vertical-align: top;\n",
       "    }\n",
       "\n",
       "    .dataframe thead th {\n",
       "        text-align: right;\n",
       "    }\n",
       "</style>\n",
       "<table border=\"1\" class=\"dataframe\">\n",
       "  <thead>\n",
       "    <tr style=\"text-align: right;\">\n",
       "      <th></th>\n",
       "      <th>restaurant_name</th>\n",
       "      <th>avg_rating</th>\n",
       "      <th>rating</th>\n",
       "      <th>text</th>\n",
       "      <th>relative_time_description</th>\n",
       "      <th>author_name</th>\n",
       "    </tr>\n",
       "  </thead>\n",
       "  <tbody>\n",
       "    <tr>\n",
       "      <th>0</th>\n",
       "      <td>Restaurant Oriental</td>\n",
       "      <td>4.2</td>\n",
       "      <td>5.0</td>\n",
       "      <td>Excellent food and service. Hence crowded and ...</td>\n",
       "      <td>2 weeks ago</td>\n",
       "      <td>Than Iswari</td>\n",
       "    </tr>\n",
       "    <tr>\n",
       "      <th>1</th>\n",
       "      <td>Restaurant Oriental</td>\n",
       "      <td>4.2</td>\n",
       "      <td>4.0</td>\n",
       "      <td>Very tasty, amazing servants, nice looking pla...</td>\n",
       "      <td>3 months ago</td>\n",
       "      <td>Walamo (Walamo)</td>\n",
       "    </tr>\n",
       "    <tr>\n",
       "      <th>2</th>\n",
       "      <td>Restaurant Oriental</td>\n",
       "      <td>4.2</td>\n",
       "      <td>4.0</td>\n",
       "      <td>Pretty hidden place that it's only findable if...</td>\n",
       "      <td>3 years ago</td>\n",
       "      <td>Álvaro Chicote</td>\n",
       "    </tr>\n",
       "    <tr>\n",
       "      <th>3</th>\n",
       "      <td>Restaurant Oriental</td>\n",
       "      <td>4.2</td>\n",
       "      <td>4.0</td>\n",
       "      <td>The Dumplings were 👌😋\\nLike this place! Delici...</td>\n",
       "      <td>3 years ago</td>\n",
       "      <td>Elldesign</td>\n",
       "    </tr>\n",
       "    <tr>\n",
       "      <th>4</th>\n",
       "      <td>Restaurant Oriental</td>\n",
       "      <td>4.2</td>\n",
       "      <td>2.0</td>\n",
       "      <td>The staff was friendly. Out everything we orde...</td>\n",
       "      <td>2 years ago</td>\n",
       "      <td>Monica Osorio</td>\n",
       "    </tr>\n",
       "  </tbody>\n",
       "</table>\n",
       "</div>"
      ],
      "text/plain": [
       "       restaurant_name  avg_rating  rating  \\\n",
       "0  Restaurant Oriental         4.2     5.0   \n",
       "1  Restaurant Oriental         4.2     4.0   \n",
       "2  Restaurant Oriental         4.2     4.0   \n",
       "3  Restaurant Oriental         4.2     4.0   \n",
       "4  Restaurant Oriental         4.2     2.0   \n",
       "\n",
       "                                                text  \\\n",
       "0  Excellent food and service. Hence crowded and ...   \n",
       "1  Very tasty, amazing servants, nice looking pla...   \n",
       "2  Pretty hidden place that it's only findable if...   \n",
       "3  The Dumplings were 👌😋\\nLike this place! Delici...   \n",
       "4  The staff was friendly. Out everything we orde...   \n",
       "\n",
       "  relative_time_description      author_name  \n",
       "0               2 weeks ago      Than Iswari  \n",
       "1              3 months ago  Walamo (Walamo)  \n",
       "2               3 years ago   Álvaro Chicote  \n",
       "3               3 years ago        Elldesign  \n",
       "4               2 years ago    Monica Osorio  "
      ]
     },
     "execution_count": 8,
     "metadata": {},
     "output_type": "execute_result"
    }
   ],
   "source": [
    "df.head()"
   ]
  },
  {
   "cell_type": "code",
   "execution_count": 12,
   "metadata": {},
   "outputs": [],
   "source": [
    "df.to_csv(r'..\\..\\Data\\Processed\\proc_google_review_data.csv')"
   ]
  }
 ],
 "metadata": {
  "kernelspec": {
   "display_name": "Python 3",
   "language": "python",
   "name": "python3"
  },
  "language_info": {
   "codemirror_mode": {
    "name": "ipython",
    "version": 3
   },
   "file_extension": ".py",
   "mimetype": "text/x-python",
   "name": "python",
   "nbconvert_exporter": "python",
   "pygments_lexer": "ipython3",
   "version": "3.10.8"
  },
  "orig_nbformat": 4,
  "vscode": {
   "interpreter": {
    "hash": "26de051ba29f2982a8de78e945f0abaf191376122a1563185a90213a26c5da77"
   }
  }
 },
 "nbformat": 4,
 "nbformat_minor": 2
}
