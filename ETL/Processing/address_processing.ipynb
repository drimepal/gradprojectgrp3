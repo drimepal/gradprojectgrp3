{
 "cells": [
  {
   "attachments": {},
   "cell_type": "markdown",
   "metadata": {},
   "source": [
    "## Processing address data\n",
    "##### Getting address as key and longitude, latitude, and neighbourhood as values"
   ]
  },
  {
   "cell_type": "code",
   "execution_count": 14,
   "metadata": {},
   "outputs": [],
   "source": [
    "import json\n",
    "import numpy as np\n",
    "import pandas as pd"
   ]
  },
  {
   "cell_type": "code",
   "execution_count": 15,
   "metadata": {},
   "outputs": [],
   "source": [
    "df = pd.read_json(r'..\\..\\Data\\Raw\\address.json')\n",
    "df = df['address']"
   ]
  },
  {
   "attachments": {},
   "cell_type": "markdown",
   "metadata": {},
   "source": [
    "##### Getting all keys to a list"
   ]
  },
  {
   "cell_type": "code",
   "execution_count": 16,
   "metadata": {},
   "outputs": [],
   "source": [
    "adr_keys = []\n",
    "for i in range(len(df)):\n",
    "    if df[i]:\n",
    "        if df[i][0]:\n",
    "            adr_keys.append(df[i][0]['name'])"
   ]
  },
  {
   "attachments": {},
   "cell_type": "markdown",
   "metadata": {},
   "source": [
    "##### Getting wanted columns to a list"
   ]
  },
  {
   "cell_type": "code",
   "execution_count": 17,
   "metadata": {},
   "outputs": [],
   "source": [
    "columns = ['locality', 'postal_code', 'neighbourhood', 'latitude', 'longitude']\n",
    "adr_values = {\n",
    "    'adr_value': []\n",
    "}\n",
    "for i in range(len(df)):\n",
    "    if df[i]:\n",
    "        if df[i][0]:\n",
    "            counter = 0\n",
    "            adr_v = []\n",
    "            for j in columns:\n",
    "                adr_v.append(f'{columns[counter]}: {df[i][0][j]}')\n",
    "                counter += 1 \n",
    "            adr_values['adr_value'].append(adr_v)"
   ]
  },
  {
   "attachments": {},
   "cell_type": "markdown",
   "metadata": {},
   "source": [
    "##### Zip keys and values into dict"
   ]
  },
  {
   "cell_type": "code",
   "execution_count": 18,
   "metadata": {},
   "outputs": [],
   "source": [
    "adr_key_value = dict(zip(adr_keys, adr_values['adr_value']))"
   ]
  },
  {
   "attachments": {},
   "cell_type": "markdown",
   "metadata": {},
   "source": [
    "##### Export final json file"
   ]
  },
  {
   "cell_type": "code",
   "execution_count": 19,
   "metadata": {},
   "outputs": [],
   "source": [
    "with open(r'..\\..\\Data\\Processed\\adr_stripped.json', 'w') as file:\n",
    "    json.dump(adr_key_value, file)"
   ]
  },
  {
   "cell_type": "code",
   "execution_count": null,
   "metadata": {},
   "outputs": [],
   "source": []
  }
 ],
 "metadata": {
  "kernelspec": {
   "display_name": "Python 3",
   "language": "python",
   "name": "python3"
  },
  "language_info": {
   "codemirror_mode": {
    "name": "ipython",
    "version": 3
   },
   "file_extension": ".py",
   "mimetype": "text/x-python",
   "name": "python",
   "nbconvert_exporter": "python",
   "pygments_lexer": "ipython3",
   "version": "3.10.8"
  },
  "orig_nbformat": 4,
  "vscode": {
   "interpreter": {
    "hash": "26de051ba29f2982a8de78e945f0abaf191376122a1563185a90213a26c5da77"
   }
  }
 },
 "nbformat": 4,
 "nbformat_minor": 2
}
