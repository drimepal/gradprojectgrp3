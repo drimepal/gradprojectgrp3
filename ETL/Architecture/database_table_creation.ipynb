{
 "cells": [
  {
   "attachments": {},
   "cell_type": "markdown",
   "metadata": {},
   "source": [
    "## Creating tables in database"
   ]
  },
  {
   "cell_type": "code",
   "execution_count": 1,
   "metadata": {},
   "outputs": [],
   "source": [
    "import psycopg2"
   ]
  },
  {
   "attachments": {},
   "cell_type": "markdown",
   "metadata": {},
   "source": [
    "##### Database connection"
   ]
  },
  {
   "cell_type": "code",
   "execution_count": 4,
   "metadata": {},
   "outputs": [],
   "source": [
    "# jdbc:postgresql://pg-graduate-delt.postgres.database.azure.com:5432/{your_database}?user=snartimaal&password={your_password}&sslmode=require\n",
    "with psycopg2.connect(\n",
    "    database='pgsql-graduate-gruppe3',\n",
    "    user='snartimaal',\n",
    "    password='#st44p44nu',\n",
    "    host='pg-graduate-delt.postgres.database.azure.com'\n",
    ") as conn:\n",
    "    cur = conn.cursor()"
   ]
  },
  {
   "attachments": {},
   "cell_type": "markdown",
   "metadata": {},
   "source": [
    "##### Setting up tables in database"
   ]
  },
  {
   "cell_type": "code",
   "execution_count": 56,
   "metadata": {},
   "outputs": [],
   "source": [
    "# Bronnoysund mainunit company data table\n",
    "#cur.execute(\"DROP TABLE IF EXISTS company_mainunit;\")\n",
    "cur.execute(\"CREATE TABLE company_mainunit \\\n",
    "    (organisasjonsnummer int primary key, \\\n",
    "    navn varchar, \\\n",
    "    registreringsdatoEnhetsregisteret varchar, \\\n",
    "    registrertIMvaregisteret varchar, \\\n",
    "    antallAnsatte int, \\\n",
    "    stiftelsesdato varchar, \\\n",
    "    registrertIForetaksregisteret varchar, \\\n",
    "    registrertIStiftelsesregisteret varchar, \\\n",
    "    registrertIFrivillighetsregisteret varchar, \\\n",
    "    konkurs varchar, \\\n",
    "    underAvvikling varchar, \\\n",
    "    underTvangsavviklingEllerTvangsopplosning varchar, \\\n",
    "    maalform varchar, \\\n",
    "    organisasjonsform_kode varchar, \\\n",
    "    organisasjonsform_beskrivelse varchar, \\\n",
    "    organisasjonsform__links_self_href varchar, \\\n",
    "    naeringskode1_beskrivelse varchar, \\\n",
    "    naeringskode1_kode float, \\\n",
    "    forretningsadresse_land varchar, \\\n",
    "    forretningsadresse_landkode varchar, \\\n",
    "    forretningsadresse_postnummer int, \\\n",
    "    forretningsadresse_poststed varchar, \\\n",
    "    forretningsadresse_adresse varchar, \\\n",
    "    forretningsadresse_kommune varchar, \\\n",
    "    forretningsadresse_kommunenummer int, \\\n",
    "    links_self_href varchar);\")\n",
    "conn.commit()\n",
    "#cur.close()\n"
   ]
  },
  {
   "cell_type": "code",
   "execution_count": 57,
   "metadata": {},
   "outputs": [],
   "source": [
    "# Bronnoysund subunit company data table\n",
    "\n",
    "#cur.execute(\"DROP TABLE IF EXISTS company_subunit;\")\n",
    "cur.execute(\"CREATE TABLE company_subunit \\\n",
    "    (organisasjonsnummer int primary key, \\\n",
    "    navn varchar, \\\n",
    "    registreringsdatoEnhetsregisteret varchar, \\\n",
    "    registrertIMvaregisteret varchar, \\\n",
    "    antallAnsatte float, \\\n",
    "    overordnetEnhet int, \\\n",
    "    oppstartsdato varchar, \\\n",
    "    organisasjonsform_kode varchar, \\\n",
    "    organisasjonsform_beskrivelse varchar, \\\n",
    "    organisasjonsform__links_self_href varchar, \\\n",
    "    naeringskode1_beskrivelse varchar, \\\n",
    "    naeringskode1_kode float, \\\n",
    "    beliggenhetsadresse_land varchar, \\\n",
    "    beliggenhetsadresse_landkode varchar, \\\n",
    "    beliggenhetsadresse_postnummer int, \\\n",
    "    beliggenhetsadresse_poststed varchar, \\\n",
    "    beliggenhetsadresse_adresse varchar, \\\n",
    "    beliggenhetsadresse_kommune varchar, \\\n",
    "    beliggenhetsadresse_kommunenummer varchar, \\\n",
    "    links_self_href varchar, \\\n",
    "    links_overordnetEnhet_href varchar, \\\n",
    "    hjemmeside varchar, \\\n",
    "    datoEierskifte varchar);\")\n",
    "conn.commit()\n",
    "#cur.close()"
   ]
  },
  {
   "cell_type": "code",
   "execution_count": 58,
   "metadata": {},
   "outputs": [],
   "source": [
    "# Bronnoysund parentunit company data table\n",
    "#cur.execute(\"DROP TABLE IF EXISTS company_parentunit;\")\n",
    "cur.execute(\"CREATE TABLE company_parentunit \\\n",
    "    (organisasjonsnummer int primary key, \\\n",
    "    navn varchar, \\\n",
    "    registreringsdatoEnhetsregisteret varchar, \\\n",
    "    registrertIMvaregisteret varchar, \\\n",
    "    antallAnsatte float, \\\n",
    "    stiftelsesdato varchar, \\\n",
    "    registrertIForetaksregisteret varchar, \\\n",
    "    registrertIStiftelsesregisteret varchar, \\\n",
    "    registrertIFrivillighetsregisteret varchar, \\\n",
    "    konkurs varchar, \\\n",
    "    underAvvikling varchar, \\\n",
    "    underTvangsavviklingEllerTvangsopplosning varchar, \\\n",
    "    maalform varchar, \\\n",
    "    organisasjonsform_kode varchar, \\\n",
    "    organisasjonsform_beskrivelse varchar, \\\n",
    "    organisasjonsform__links_self_href varchar, \\\n",
    "    naeringskode1_beskrivelse varchar, \\\n",
    "    naeringskode1_kode float, \\\n",
    "    forretningsadresse_land varchar, \\\n",
    "    forretningsadresse_landkode varchar, \\\n",
    "    forretningsadresse_postnummer int, \\\n",
    "    forretningsadresse_poststed varchar, \\\n",
    "    forretningsadresse_adresse varchar, \\\n",
    "    forretningsadresse_kommune varchar, \\\n",
    "    forretningsadresse_kommunenummer int, \\\n",
    "    links_self_href varchar);\")\n",
    "conn.commit()\n",
    "#cur.close()"
   ]
  },
  {
   "cell_type": "code",
   "execution_count": 61,
   "metadata": {},
   "outputs": [],
   "source": [
    "# Mattilsynet table\n",
    "\n",
    "#cur.execute(\"DROP TABLE IF EXISTS mattilsynet;\")\n",
    "cur.execute(\"CREATE TABLE mattilsynet \\\n",
    "    (tilsynid varchar primary key,\\\n",
    "    org_navn varchar, \\\n",
    "    orgnummer int, \\\n",
    "    adresse varchar, \\\n",
    "    postnr int, \\\n",
    "    poststed varchar, \\\n",
    "    karakter1 decimal, \\\n",
    "    karakter2 int, \\\n",
    "    karakter3 decimal, \\\n",
    "    karakter4 decimal, \\\n",
    "    total_karakter int, \\\n",
    "    dato varchar, \\\n",
    "    tilsynsbesoektype int, \\\n",
    "    tilsynsobjektid varchar, \\\n",
    "    sakref varchar, \\\n",
    "    status int);\")\n",
    "conn.commit()\n",
    "cur.close()"
   ]
  },
  {
   "cell_type": "code",
   "execution_count": 5,
   "metadata": {},
   "outputs": [],
   "source": [
    "# Google review table\n",
    "\n",
    "cur.execute(\"DROP TABLE IF EXISTS google_review;\")\n",
    "cur.execute(\"CREATE TABLE google_review \\\n",
    "    (id serial primary key, \\\n",
    "    restaurant_name varchar, \\\n",
    "    avg_rating decimal, \\\n",
    "    individual_rating decimal, \\\n",
    "    review_text varchar, \\\n",
    "    relaitve_time varchar, \\\n",
    "    reviewer varchar);\")\n",
    "conn.commit()\n",
    "cur.close()"
   ]
  }
 ],
 "metadata": {
  "kernelspec": {
   "display_name": "Python 3",
   "language": "python",
   "name": "python3"
  },
  "language_info": {
   "codemirror_mode": {
    "name": "ipython",
    "version": 3
   },
   "file_extension": ".py",
   "mimetype": "text/x-python",
   "name": "python",
   "nbconvert_exporter": "python",
   "pygments_lexer": "ipython3",
   "version": "3.10.8"
  },
  "orig_nbformat": 4,
  "vscode": {
   "interpreter": {
    "hash": "26de051ba29f2982a8de78e945f0abaf191376122a1563185a90213a26c5da77"
   }
  }
 },
 "nbformat": 4,
 "nbformat_minor": 2
}
