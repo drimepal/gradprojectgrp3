{
 "cells": [
  {
   "attachments": {},
   "cell_type": "markdown",
   "metadata": {},
   "source": [
    "## Creating tables for the roles and the junction tables"
   ]
  },
  {
   "cell_type": "code",
   "execution_count": 26,
   "metadata": {},
   "outputs": [],
   "source": [
    "import psycopg2"
   ]
  },
  {
   "attachments": {},
   "cell_type": "markdown",
   "metadata": {},
   "source": [
    "##### Database connection"
   ]
  },
  {
   "cell_type": "code",
   "execution_count": 30,
   "metadata": {},
   "outputs": [],
   "source": [
    "def open_connection(gg):\n",
    "    \"\"\"Opens a connection to the Azure database\n",
    "\n",
    "    Returns:\n",
    "        connection: returns the connection to the database\n",
    "    \"\"\"\n",
    "    conn = psycopg2.connect(database='pgsql-graduate-gruppe3',\n",
    "                            user='snartimaal',\n",
    "                            password='#st44p44nu',\n",
    "                            host='pg-graduate-delt.postgres.database.azure.com')\n",
    "    return conn"
   ]
  },
  {
   "attachments": {},
   "cell_type": "markdown",
   "metadata": {},
   "source": [
    "##### Setting up tables in database"
   ]
  },
  {
   "cell_type": "code",
   "execution_count": 41,
   "metadata": {},
   "outputs": [],
   "source": [
    "def create_junction_table(name):\n",
    "\n",
    "    \"\"\"Creates a junction tabel with the input name as a suffix\n",
    "\n",
    "    Args:\n",
    "        name (stirng): suffix for the junctiontable\n",
    "    \"\"\"\n",
    "    \n",
    "    try:\n",
    "        conn = open_connection()\n",
    "        cur = conn.cursor()\n",
    "\n",
    "        cur.execute(f\"DROP TABLE IF EXISTS {name}_junction;\")\n",
    "        cur.execute(f\"\"\"CREATE TABLE {name}_junction(\n",
    "            person_id INTEGER,\n",
    "            organisasjonsnummer INTEGER,\n",
    "            fratrådt boolean,\n",
    "            PRIMARY KEY(person_id, organisasjonsnummer, fratrådt));\"\"\")\n",
    "        conn.commit()\n",
    "        print(\"Success\")\n",
    "    except:\n",
    "        print(\"Failure\")\n",
    "    finally:\n",
    "        cur.close()\n",
    "        conn.close()"
   ]
  },
  {
   "cell_type": "code",
   "execution_count": 42,
   "metadata": {},
   "outputs": [],
   "source": [
    "name_list = [   \"daglig_leder\", \n",
    "                \"innehaver\", \n",
    "                \"kontaktperson\", \n",
    "                \"nestleder\", \n",
    "                \"styremedlem\",\n",
    "                \"styrets_leder\",\n",
    "                \"varamedlem\"    ]"
   ]
  },
  {
   "cell_type": "code",
   "execution_count": 43,
   "metadata": {},
   "outputs": [
    {
     "name": "stdout",
     "output_type": "stream",
     "text": [
      "Success\n",
      "Success\n",
      "Success\n",
      "Success\n",
      "Success\n",
      "Success\n",
      "Success\n",
      "Success\n"
     ]
    }
   ],
   "source": [
    "for name in name_list:\n",
    "    create_junction_table(name)"
   ]
  }
 ],
 "metadata": {
  "kernelspec": {
   "display_name": "Python 3",
   "language": "python",
   "name": "python3"
  },
  "language_info": {
   "codemirror_mode": {
    "name": "ipython",
    "version": 3
   },
   "file_extension": ".py",
   "mimetype": "text/x-python",
   "name": "python",
   "nbconvert_exporter": "python",
   "pygments_lexer": "ipython3",
   "version": "3.10.9"
  },
  "orig_nbformat": 4,
  "vscode": {
   "interpreter": {
    "hash": "7c2940c5258610f9a2b978227281dc0bf3c3e3ce460e55d30a45b10f147711e9"
   }
  }
 },
 "nbformat": 4,
 "nbformat_minor": 2
}
