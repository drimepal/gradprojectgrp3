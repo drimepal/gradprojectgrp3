{
 "cells": [
  {
   "attachments": {},
   "cell_type": "markdown",
   "metadata": {},
   "source": [
    "# Adds the gender (sex) table to the people dataset"
   ]
  },
  {
   "cell_type": "code",
   "execution_count": 1,
   "metadata": {},
   "outputs": [],
   "source": [
    "import psycopg2"
   ]
  },
  {
   "attachments": {},
   "cell_type": "markdown",
   "metadata": {},
   "source": [
    "##### Database connection"
   ]
  },
  {
   "cell_type": "code",
   "execution_count": 2,
   "metadata": {},
   "outputs": [],
   "source": [
    "def open_connection():\n",
    "    \"\"\"Opens a connection to the Azure database\n",
    "\n",
    "    Returns:\n",
    "        connection: returns the connection to the database\n",
    "    \"\"\"\n",
    "    conn = psycopg2.connect(database='pgsql-graduate-gruppe3',\n",
    "                            user='snartimaal',\n",
    "                            password='#st44p44nu',\n",
    "                            host='pg-graduate-delt.postgres.database.azure.com')\n",
    "    return conn"
   ]
  },
  {
   "attachments": {},
   "cell_type": "markdown",
   "metadata": {},
   "source": [
    "##### Setting up tables in database"
   ]
  },
  {
   "cell_type": "code",
   "execution_count": 3,
   "metadata": {},
   "outputs": [],
   "source": [
    "try:\n",
    "    conn = open_connection()\n",
    "    cur = conn.cursor()\n",
    "\n",
    "    cur.execute(f\"DROP TABLE IF EXISTS people;\")\n",
    "    cur.execute(f\"\"\"CREATE TABLE people(\n",
    "        person_id SERIAL PRIMARY KEY,\n",
    "        navn VARCHAR,\n",
    "        sex VARCHAR);\"\"\")                \n",
    "    conn.commit()\n",
    "    print(\"Success\")\n",
    "except:\n",
    "    print(\"Failure\")\n",
    "finally:\n",
    "    cur.close()\n",
    "    conn.close()"
   ]
  }
 ],
 "metadata": {
  "kernelspec": {
   "display_name": "Python 3",
   "language": "python",
   "name": "python3"
  },
  "language_info": {
   "codemirror_mode": {
    "name": "ipython",
    "version": 3
   },
   "file_extension": ".py",
   "mimetype": "text/x-python",
   "name": "python",
   "nbconvert_exporter": "python",
   "pygments_lexer": "ipython3",
   "version": "3.10.9"
  },
  "orig_nbformat": 4,
  "vscode": {
   "interpreter": {
    "hash": "7c2940c5258610f9a2b978227281dc0bf3c3e3ce460e55d30a45b10f147711e9"
   }
  }
 },
 "nbformat": 4,
 "nbformat_minor": 2
}
