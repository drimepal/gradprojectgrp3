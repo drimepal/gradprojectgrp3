{
 "cells": [
  {
   "attachments": {},
   "cell_type": "markdown",
   "metadata": {},
   "source": [
    "## Inserting data into people and role junction tabels"
   ]
  },
  {
   "cell_type": "code",
   "execution_count": 28,
   "metadata": {},
   "outputs": [],
   "source": [
    "import pickle\n",
    "import psycopg2\n",
    "import regex as re\n",
    "import pandas as pd\n",
    "import os.path as path"
   ]
  },
  {
   "attachments": {},
   "cell_type": "markdown",
   "metadata": {},
   "source": [
    "#### Importing the data"
   ]
  },
  {
   "cell_type": "code",
   "execution_count": 2,
   "metadata": {},
   "outputs": [],
   "source": [
    "def pickler(file_name):\t\n",
    "    parent = path.abspath(path.join(\"people_and_roles_tabel_insert.ipynb\", \"../../..\"))\n",
    "    file_path = \"/Data/Extracted/\"\n",
    "    with open(f'{parent + file_path + file_name}.obj', 'rb') as f:\n",
    "        return pickle.load(f)"
   ]
  },
  {
   "cell_type": "code",
   "execution_count": 3,
   "metadata": {},
   "outputs": [],
   "source": [
    "j = \"junction_table\"\n",
    "df_people = pickler(\"df_people\")\n",
    "df_daglig_leder = pickler(f\"df_daglig_leder{j}\")\n",
    "df_innehaver = pickler(f\"df_innehaver{j}\")\n",
    "df_kontaktperson = pickler(f\"df_kontaktperson{j}\")\n",
    "df_nestleder = pickler(f\"df_nestleder{j}\")\n",
    "df_styremedlem = pickler(f\"df_styremedlem{j}\")\n",
    "df_styrets_leder = pickler(f\"df_styrets_leder{j}\")\n",
    "df_varamedlem = pickler(f\"df_varamedlem{j}\")"
   ]
  },
  {
   "attachments": {},
   "cell_type": "markdown",
   "metadata": {},
   "source": [
    "##### Database connection"
   ]
  },
  {
   "cell_type": "code",
   "execution_count": 22,
   "metadata": {},
   "outputs": [],
   "source": [
    "def open_connection():\n",
    "    \"\"\"Opens a connection to the Azure database\n",
    "\n",
    "    Returns:\n",
    "        connection: returns the connection to the database\n",
    "    \"\"\"\n",
    "    conn = psycopg2.connect(database='pgsql-graduate-gruppe3',\n",
    "                            user='snartimaal',\n",
    "                            password='#st44p44nu',\n",
    "                            host='pg-graduate-delt.postgres.database.azure.com')\n",
    "    return conn"
   ]
  },
  {
   "attachments": {},
   "cell_type": "markdown",
   "metadata": {},
   "source": [
    "##### Inserting data into the people database"
   ]
  },
  {
   "cell_type": "code",
   "execution_count": 5,
   "metadata": {},
   "outputs": [
    {
     "name": "stdout",
     "output_type": "stream",
     "text": [
      "FUCK\n",
      "Cathal Patrick John O'gorman\n"
     ]
    }
   ],
   "source": [
    "# First checking for ' key\n",
    "\n",
    "for index, row in df_people.iterrows():\n",
    "    for char in row['navn']:\n",
    "        if char == \"'\":\n",
    "            print(\"FUCK\")\n",
    "            print(row['navn'])"
   ]
  },
  {
   "cell_type": "code",
   "execution_count": 6,
   "metadata": {},
   "outputs": [],
   "source": [
    "def format_names(name):\n",
    "\n",
    "    if re.search(\"[a-z]'[a-z]\", name, re.IGNORECASE):\n",
    "        formated_name = \"\"\n",
    "        for char in name:\n",
    "            if char == \"'\":\n",
    "                letter = \"''\"\n",
    "            else:\n",
    "                letter = char\n",
    "            formated_name = formated_name + letter\n",
    "        return formated_name\n",
    "    else:\n",
    "        return name"
   ]
  },
  {
   "cell_type": "code",
   "execution_count": 7,
   "metadata": {},
   "outputs": [],
   "source": [
    "df_people['navn'] = df_people['navn'].map(format_names)"
   ]
  },
  {
   "cell_type": "code",
   "execution_count": 8,
   "metadata": {},
   "outputs": [
    {
     "name": "stdout",
     "output_type": "stream",
     "text": [
      "Success\n"
     ]
    }
   ],
   "source": [
    "# Adding the people to the people table\n",
    "try:\n",
    "    conn = open_connection()\n",
    "    cur = conn.cursor()\n",
    "\n",
    "    for index, row in df_people.iterrows():\n",
    "        cur.execute(f'''\n",
    "        INSERT INTO people (navn)\n",
    "        VALUES ('{row['navn']}') ;''')\n",
    "    \n",
    "    print(\"Success\")\n",
    "    conn.commit()\n",
    "except:\n",
    "    print(\"Failure\")\n",
    "\n",
    "finally:\n",
    "    cur.close()\n",
    "    conn.close()"
   ]
  },
  {
   "attachments": {},
   "cell_type": "markdown",
   "metadata": {},
   "source": [
    "#### Inserting into the junction tabels"
   ]
  },
  {
   "cell_type": "code",
   "execution_count": 9,
   "metadata": {},
   "outputs": [
    {
     "data": {
      "text/html": [
       "<div>\n",
       "<style scoped>\n",
       "    .dataframe tbody tr th:only-of-type {\n",
       "        vertical-align: middle;\n",
       "    }\n",
       "\n",
       "    .dataframe tbody tr th {\n",
       "        vertical-align: top;\n",
       "    }\n",
       "\n",
       "    .dataframe thead th {\n",
       "        text-align: right;\n",
       "    }\n",
       "</style>\n",
       "<table border=\"1\" class=\"dataframe\">\n",
       "  <thead>\n",
       "    <tr style=\"text-align: right;\">\n",
       "      <th></th>\n",
       "      <th>organisasjonsnummer</th>\n",
       "      <th>person_id</th>\n",
       "      <th>Fratrådt</th>\n",
       "    </tr>\n",
       "  </thead>\n",
       "  <tbody>\n",
       "    <tr>\n",
       "      <th>0</th>\n",
       "      <td>927526891</td>\n",
       "      <td>350</td>\n",
       "      <td>False</td>\n",
       "    </tr>\n",
       "  </tbody>\n",
       "</table>\n",
       "</div>"
      ],
      "text/plain": [
       "  organisasjonsnummer  person_id  Fratrådt\n",
       "0           927526891        350     False"
      ]
     },
     "execution_count": 9,
     "metadata": {},
     "output_type": "execute_result"
    }
   ],
   "source": [
    "df_daglig_leder.head(1)"
   ]
  },
  {
   "cell_type": "code",
   "execution_count": 10,
   "metadata": {},
   "outputs": [],
   "source": [
    "def insert_into_junction_table(df, tabel_name):\n",
    "    \"\"\"Function that inserts data into the role junction tabels.\n",
    "\n",
    "    Args:\n",
    "        df (dataframe): a pandas dataframe\n",
    "        tabel_name (str): the nave of the target tabel\n",
    "    \"\"\"\n",
    "    try:\n",
    "        conn = open_connection()\n",
    "        cur = conn.cursor()\n",
    "\n",
    "        for index, row in df.iterrows():\n",
    "            cur.execute(f'''\n",
    "            INSERT INTO {tabel_name}_junction ( organisasjonsnummer, \n",
    "                                                person_id,\n",
    "                                                fratrådt)\n",
    "                                                \n",
    "            VALUES ( {int(row['organisasjonsnummer'])},\n",
    "                     {int(row['person_id']+1)} ,\n",
    "                     {int(row['Fratrådt'])} ) ;''')\n",
    "        \n",
    "        print(\"Success\")\n",
    "        conn.commit()\n",
    "    except:\n",
    "        print(\"Failure\")\n",
    "\n",
    "    finally:\n",
    "        cur.close()\n",
    "        conn.close()"
   ]
  },
  {
   "cell_type": "code",
   "execution_count": 11,
   "metadata": {},
   "outputs": [],
   "source": [
    "name_list = [   \"daglig_leder\", \n",
    "                \"innehaver\", \n",
    "                \"kontaktperson\", \n",
    "                \"nestleder\", \n",
    "                \"styremedlem\",\n",
    "                \"styrets_leder\",\n",
    "                \"varamedlem\"]\n",
    "\n",
    "df_j = [        df_daglig_leder,\n",
    "                df_innehaver,\n",
    "                df_kontaktperson,\n",
    "                df_nestleder,\n",
    "                df_styremedlem,\n",
    "                df_styrets_leder,\n",
    "                df_varamedlem  ]"
   ]
  },
  {
   "cell_type": "code",
   "execution_count": 12,
   "metadata": {},
   "outputs": [],
   "source": [
    "# Changing bool to 0 or 1:\n",
    "# False == 0, and True == 1:\n",
    "def bool_to_num(bool):\n",
    "    if bool == True:\n",
    "        return 1\n",
    "    else:\n",
    "        return 0\n",
    "\n",
    "for df in df_j:\n",
    "    df['Fratrådt'] = df['Fratrådt'].map(bool_to_num)"
   ]
  },
  {
   "cell_type": "code",
   "execution_count": 13,
   "metadata": {},
   "outputs": [
    {
     "name": "stdout",
     "output_type": "stream",
     "text": [
      "Success\n",
      "Success\n",
      "Success\n",
      "Success\n",
      "Success\n",
      "Success\n",
      "Success\n"
     ]
    }
   ],
   "source": [
    "for name, df in zip(name_list, df_j):\n",
    "    insert_into_junction_table(df, name)"
   ]
  },
  {
   "attachments": {},
   "cell_type": "markdown",
   "metadata": {},
   "source": [
    "##### Adding key links between tabels"
   ]
  },
  {
   "cell_type": "code",
   "execution_count": 30,
   "metadata": {},
   "outputs": [],
   "source": [
    "def fk_link(fk_to, fk_from, column_1, column_2):\n",
    "    \"\"\"Function that adds forgein key constraints to the fk_to tabel, referencing fk_from.\n",
    "\n",
    "    Args:\n",
    "        fk_from (str): name of the tabel getting refferenced\n",
    "        fk_to (str): name of the tabel getting the constraint\n",
    "        column (str): name of the column in question\n",
    "    \"\"\"\n",
    "    try:\n",
    "        conn = open_connection()\n",
    "        cur = conn.cursor()\n",
    "\n",
    "        cur.execute(f'''\n",
    "\n",
    "        ALTER TABLE {fk_to}\n",
    "        ADD FOREIGN KEY ({column_1}) REFERENCES {fk_from}({column_2});\n",
    "        \n",
    "        ''')\n",
    "        \n",
    "        print(\"Success\")\n",
    "        conn.commit()\n",
    "    except:\n",
    "        print(\"Failure\")\n",
    "\n",
    "    finally:\n",
    "        cur.close()\n",
    "        conn.close()"
   ]
  },
  {
   "cell_type": "code",
   "execution_count": 27,
   "metadata": {},
   "outputs": [
    {
     "name": "stdout",
     "output_type": "stream",
     "text": [
      "Success\n",
      "daglig_leder_junction\n",
      "Success\n",
      "innehaver_junction\n",
      "Success\n",
      "kontaktperson_junction\n",
      "Success\n",
      "nestleder_junction\n",
      "Success\n",
      "styremedlem_junction\n",
      "Success\n",
      "styrets_leder_junction\n",
      "Success\n",
      "varamedlem_junction\n"
     ]
    }
   ],
   "source": [
    "# Adding the people person_id as FK in the _junction tables\n",
    "suffix = \"_junction\"\n",
    "\n",
    "for name in name_list:\n",
    "    fk_link(name+suffix, \"people\", \"person_id\", \"person_id\")\n",
    "    print(name+suffix)"
   ]
  },
  {
   "cell_type": "code",
   "execution_count": 31,
   "metadata": {},
   "outputs": [
    {
     "name": "stdout",
     "output_type": "stream",
     "text": [
      "Success\n",
      "daglig_leder_junction\n",
      "Success\n",
      "innehaver_junction\n",
      "Success\n",
      "kontaktperson_junction\n",
      "Success\n",
      "nestleder_junction\n",
      "Success\n",
      "styremedlem_junction\n",
      "Success\n",
      "styrets_leder_junction\n",
      "Success\n",
      "varamedlem_junction\n"
     ]
    }
   ],
   "source": [
    "# Adding the orgnumber_junction organisasjonsnummer as FK in the _junction tables\n",
    "suffix = \"_junction\"\n",
    "\n",
    "for name in name_list:\n",
    "    fk_link(name+suffix, \"orgnumber_junction\", \"organisasjonsnummer\", \"orgnumber\")\n",
    "    print(name+suffix)"
   ]
  }
 ],
 "metadata": {
  "kernelspec": {
   "display_name": "Python 3",
   "language": "python",
   "name": "python3"
  },
  "language_info": {
   "codemirror_mode": {
    "name": "ipython",
    "version": 3
   },
   "file_extension": ".py",
   "mimetype": "text/x-python",
   "name": "python",
   "nbconvert_exporter": "python",
   "pygments_lexer": "ipython3",
   "version": "3.10.9"
  },
  "orig_nbformat": 4,
  "vscode": {
   "interpreter": {
    "hash": "7c2940c5258610f9a2b978227281dc0bf3c3e3ce460e55d30a45b10f147711e9"
   }
  }
 },
 "nbformat": 4,
 "nbformat_minor": 2
}
