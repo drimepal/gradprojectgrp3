{
 "cells": [
  {
   "attachments": {},
   "cell_type": "markdown",
   "metadata": {},
   "source": [
    "## Uploading data to company table"
   ]
  },
  {
   "cell_type": "code",
   "execution_count": 71,
   "metadata": {},
   "outputs": [],
   "source": [
    "import csv\n",
    "import psycopg2"
   ]
  },
  {
   "cell_type": "code",
   "execution_count": 81,
   "metadata": {},
   "outputs": [],
   "source": [
    "#jdbc:postgresql://pg-graduate-delt.postgres.database.azure.com:5432/{your_database}?user=snartimaal&password={your_password}&sslmode=require\n",
    "\n",
    "with psycopg2.connect(\n",
    "    database='etl-mini-champions',\n",
    "    user='postgres',\n",
    "    password='#supersjefen2029',\n",
    "    host='summer22data.postgres.database.azure.com'\n",
    ") as conn:\n",
    "    cur = conn.cursor()"
   ]
  },
  {
   "attachments": {},
   "cell_type": "markdown",
   "metadata": {},
   "source": [
    "##### Sub-unit upload"
   ]
  },
  {
   "cell_type": "code",
   "execution_count": null,
   "metadata": {},
   "outputs": [],
   "source": [
    "with open(r'..\\..\\Data\\Extracted\\bronnoysund_subunit_company_data.csv', 'r') as fp:\n",
    "    reader = csv.reader(fp)\n",
    "    next(reader)\n",
    "    for row in reader:\n",
    "        cur.execute(\n",
    "            \"INSERT INTO gradprojectgrp3.company_subunit VALUES \\\n",
    "            (%s, %s, %s, %s, %s,\\\n",
    "            %s, %s, %s, %s, %s, \\\n",
    "            %s, %s, %s, %s, %s, \\\n",
    "            %s, %s, %s, %s, %s, \\\n",
    "            %s, %s, %s)\\\n",
    "            ON CONFLICT DO NOTHING;\",\n",
    "            row\n",
    "        )\n",
    "conn.commit()"
   ]
  },
  {
   "cell_type": "code",
   "execution_count": 80,
   "metadata": {},
   "outputs": [],
   "source": [
    "cur.close()"
   ]
  },
  {
   "attachments": {},
   "cell_type": "markdown",
   "metadata": {},
   "source": [
    "##### Main-unit upload"
   ]
  },
  {
   "cell_type": "code",
   "execution_count": null,
   "metadata": {},
   "outputs": [],
   "source": [
    "with open(r'..\\..\\Data\\Extracted\\bronnoysund_mainunit_company_data.csv', 'r') as fp:\n",
    "    reader = csv.reader(fp)\n",
    "    next(reader)\n",
    "    for row in reader:\n",
    "        cur.execute(\n",
    "            \"INSERT INTO gradprojectgrp3.company_mainunit VALUES \\\n",
    "            (%s, %s, %s, %s, %s,\\\n",
    "            %s, %s, %s, %s, %s, \\\n",
    "            %s, %s, %s, %s, %s, \\\n",
    "            %s, %s, %s, %s, %s, \\\n",
    "            %s, %s, %s, %s, %s, \\\n",
    "            %s)\\\n",
    "            ON CONFLICT DO NOTHING;\",\n",
    "            row\n",
    "        )\n",
    "conn.commit()"
   ]
  },
  {
   "cell_type": "code",
   "execution_count": null,
   "metadata": {},
   "outputs": [],
   "source": [
    "cur.close()"
   ]
  },
  {
   "attachments": {},
   "cell_type": "markdown",
   "metadata": {},
   "source": [
    "##### Parent-unit upload"
   ]
  },
  {
   "cell_type": "code",
   "execution_count": 82,
   "metadata": {},
   "outputs": [],
   "source": [
    "with open(r'..\\..\\Data\\Extracted\\bronnoysund_parentunit_company_data.csv', 'r') as fp:\n",
    "    reader = csv.reader(fp)\n",
    "    next(reader)\n",
    "    for row in reader:\n",
    "        cur.execute(\n",
    "            \"INSERT INTO gradprojectgrp3.company_parentunit VALUES \\\n",
    "            (%s, %s, %s, %s, %s,\\\n",
    "            %s, %s, %s, %s, %s, \\\n",
    "            %s, %s, %s, %s, %s, \\\n",
    "            %s, %s, %s, %s, %s, \\\n",
    "            %s, %s, %s, %s, %s, \\\n",
    "            %s)\\\n",
    "            ON CONFLICT DO NOTHING;\",\n",
    "            row\n",
    "        )\n",
    "conn.commit()"
   ]
  },
  {
   "cell_type": "code",
   "execution_count": 77,
   "metadata": {},
   "outputs": [],
   "source": [
    "cur.close()"
   ]
  }
 ],
 "metadata": {
  "kernelspec": {
   "display_name": "Python 3",
   "language": "python",
   "name": "python3"
  },
  "language_info": {
   "codemirror_mode": {
    "name": "ipython",
    "version": 3
   },
   "file_extension": ".py",
   "mimetype": "text/x-python",
   "name": "python",
   "nbconvert_exporter": "python",
   "pygments_lexer": "ipython3",
   "version": "3.10.8"
  },
  "orig_nbformat": 4,
  "vscode": {
   "interpreter": {
    "hash": "26de051ba29f2982a8de78e945f0abaf191376122a1563185a90213a26c5da77"
   }
  }
 },
 "nbformat": 4,
 "nbformat_minor": 2
}
