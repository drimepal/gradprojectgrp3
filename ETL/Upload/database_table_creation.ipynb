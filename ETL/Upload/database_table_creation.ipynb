{
 "cells": [
  {
   "attachments": {},
   "cell_type": "markdown",
   "metadata": {},
   "source": [
    "## Creating tables in database"
   ]
  },
  {
   "cell_type": "code",
   "execution_count": 6,
   "metadata": {},
   "outputs": [],
   "source": [
    "import psycopg2"
   ]
  },
  {
   "attachments": {},
   "cell_type": "markdown",
   "metadata": {},
   "source": [
    "##### Database connection"
   ]
  },
  {
   "cell_type": "code",
   "execution_count": 16,
   "metadata": {},
   "outputs": [],
   "source": [
    "with psycopg2.connect(\n",
    "    database='etl-mini-champions',\n",
    "    user='postgres',\n",
    "    password='#supersjefen2029',\n",
    "    host='summer22data.postgres.database.azure.com'\n",
    ") as conn:\n",
    "    cur = conn.cursor()"
   ]
  },
  {
   "attachments": {},
   "cell_type": "markdown",
   "metadata": {},
   "source": [
    "##### Setting up tables in database"
   ]
  },
  {
   "cell_type": "code",
   "execution_count": 17,
   "metadata": {},
   "outputs": [],
   "source": [
    "# Mattilsynet table\n",
    "\n",
    "cur.execute(\"DROP TABLE mattilsynet;\")\n",
    "cur.execute(\"CREATE TABLE mattilsynet \\\n",
    "    (column0 int primary key, \\\n",
    "    tilsynsobjektid varchar,\\\n",
    "    org_navn varchar, \\\n",
    "    orgnummer int, \\\n",
    "    adresse varchar, \\\n",
    "    postnr int, \\\n",
    "    poststed varchar, \\\n",
    "    kategori1 varchar, \\\n",
    "    kategori2 varchar, \\\n",
    "    kategori3 varchar, \\\n",
    "    kategori4 varchar, \\\n",
    "    karakter1 decimal, \\\n",
    "    karakter2 int, \\\n",
    "    karakter3 decimal, \\\n",
    "    karakter4 decimal, \\\n",
    "    total_karakter int, \\\n",
    "    dato int, \\\n",
    "    tilsynsbesoektype int, \\\n",
    "    tilsynid varchar, \\\n",
    "    sakref varchar, \\\n",
    "    status int);\")\n",
    "conn.commit()\n",
    "cur.close()\n"
   ]
  },
  {
   "cell_type": "code",
   "execution_count": 5,
   "metadata": {},
   "outputs": [],
   "source": [
    "# Bronnoysund company data table\n",
    "\n",
    "cur.execute(\"CREATE TABLE company \\\n",
    "    (organisasjonsnummer int primary key, \\\n",
    "    navn varchar, \\\n",
    "    hjemmeside varchar, \\\n",
    "    registreringsdatoEnhetsregisteret varchar, \\\n",
    "    registrertIMvaregisteret varchar, \\\n",
    "    antallAnsatte float, \\\n",
    "    overordnetEnhet int, \\\n",
    "    oppstartsdato varchar, \\\n",
    "    BEDR varchar, \\\n",
    "    organisasjonsform_beskrivelse varchar, \\\n",
    "    organisasjonsform__links_self_href varchar, \\\n",
    "    postadresse_land varchar, \\\n",
    "    postadresse_landkode varchar, \\\n",
    "    postadresse_postnummer int, \\\n",
    "    postadresse_poststed varchar, \\\n",
    "    postadresse_adresse varchar, \\\n",
    "    postadresse_kommune varchar, \\\n",
    "    postadresse_kommunenummer int, \\\n",
    "    naeringskode1_beskrivelse varchar, \\\n",
    "    naeringskode1_kode float, \\\n",
    "    beliggenhetsadresse_land varchar, \\\n",
    "    beliggenhetsadresse_landkode varchar, \\\n",
    "    beliggenhetsadresse_postnummer int, \\\n",
    "    beliggenhetsadresse_poststed varchar, \\\n",
    "    beliggenhetsadresse_adresse varchar, \\\n",
    "    beliggenhetsadresse_kommune varchar, \\\n",
    "    beliggenhetsadresse_kommunenummer varchar, \\\n",
    "    links_self_href varchar, \\\n",
    "    links_overordnetEnhet_href varchar, \\\n",
    "    datoEierskifte varchar, \\\n",
    "    naeringskode2_beskrivelse varchar, \\\n",
    "    naeringskode2_kode float, \\\n",
    "    naeringskode3_beskrivelse varchar, \\\n",
    "    naeringskode3_kode float, \\\n",
    "    naeringskode2_hjelpeenhetskode varchar, \\\n",
    "    slettedato varchar, \\\n",
    "    nedleggelsesdato varchar);\")\n",
    "conn.commit()\n",
    "cur.close()"
   ]
  }
 ],
 "metadata": {
  "kernelspec": {
   "display_name": "Python 3",
   "language": "python",
   "name": "python3"
  },
  "language_info": {
   "codemirror_mode": {
    "name": "ipython",
    "version": 3
   },
   "file_extension": ".py",
   "mimetype": "text/x-python",
   "name": "python",
   "nbconvert_exporter": "python",
   "pygments_lexer": "ipython3",
   "version": "3.10.8"
  },
  "orig_nbformat": 4,
  "vscode": {
   "interpreter": {
    "hash": "26de051ba29f2982a8de78e945f0abaf191376122a1563185a90213a26c5da77"
   }
  }
 },
 "nbformat": 4,
 "nbformat_minor": 2
}
