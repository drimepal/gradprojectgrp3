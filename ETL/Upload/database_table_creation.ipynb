{
 "cells": [
  {
   "attachments": {},
   "cell_type": "markdown",
   "metadata": {},
   "source": [
    "## Creating tables in database"
   ]
  },
  {
   "cell_type": "code",
   "execution_count": 3,
   "metadata": {},
   "outputs": [],
   "source": [
    "import psycopg2"
   ]
  },
  {
   "attachments": {},
   "cell_type": "markdown",
   "metadata": {},
   "source": [
    "##### Database connection"
   ]
  },
  {
   "cell_type": "code",
   "execution_count": 45,
   "metadata": {},
   "outputs": [],
   "source": [
    "with psycopg2.connect(\n",
    "    database='etl-mini-champions',\n",
    "    user='postgres',\n",
    "    password='#supersjefen2029',\n",
    "    host='summer22data.postgres.database.azure.com'\n",
    ") as conn:\n",
    "    cur = conn.cursor()"
   ]
  },
  {
   "attachments": {},
   "cell_type": "markdown",
   "metadata": {},
   "source": [
    "##### Setting up tables in database"
   ]
  },
  {
   "cell_type": "code",
   "execution_count": 42,
   "metadata": {},
   "outputs": [],
   "source": [
    "# Bronnoysund mainunit company data table\n",
    "cur.execute(\"DROP TABLE gradprojectgrp3.company_mainunit;\")\n",
    "cur.execute(\"CREATE TABLE gradprojectgrp3.company_mainunit \\\n",
    "    (organisasjonsnummer int primary key, \\\n",
    "    navn varchar, \\\n",
    "    registreringsdatoEnhetsregisteret varchar, \\\n",
    "    registrertIMvaregisteret varchar, \\\n",
    "    antallAnsatte int, \\\n",
    "    stiftelsesdato varchar, \\\n",
    "    registrertIForetaksregisteret varchar, \\\n",
    "    registrertIStiftelsesregisteret varchar, \\\n",
    "    registrertIFrivillighetsregisteret varchar, \\\n",
    "    konkurs varchar, \\\n",
    "    underAvvikling varchar, \\\n",
    "    underTvangsavviklingEllerTvangsopplosning varchar, \\\n",
    "    maalform varchar, \\\n",
    "    organisasjonsform_kode varchar, \\\n",
    "    organisasjonsform_beskrivelse varchar, \\\n",
    "    organisasjonsform__links_self_href varchar, \\\n",
    "    naeringskode1_beskrivelse varchar, \\\n",
    "    naeringskode1_kode float, \\\n",
    "    forretningsadresse_land varchar, \\\n",
    "    forretningsadresse_landkode varchar, \\\n",
    "    forretningsadresse_postnummer int, \\\n",
    "    forretningsadresse_poststed varchar, \\\n",
    "    forretningsadresse_adresse varchar, \\\n",
    "    forretningsadresse_kommune varchar, \\\n",
    "    forretningsadresse_kommunenummer int, \\\n",
    "    links_self_href varchar);\")\n",
    "conn.commit()\n",
    "cur.close()\n"
   ]
  },
  {
   "cell_type": "code",
   "execution_count": 27,
   "metadata": {},
   "outputs": [],
   "source": [
    "# Bronnoysund subunit company data table\n",
    "\n",
    "#cur.execute(\"DROP TABLE gradprojectgrp3.company_subunit;\")\n",
    "cur.execute(\"CREATE TABLE gradprojectgrp3.company_subunit \\\n",
    "    (organisasjonsnummer int primary key, \\\n",
    "    navn varchar, \\\n",
    "    registreringsdatoEnhetsregisteret varchar, \\\n",
    "    registrertIMvaregisteret varchar, \\\n",
    "    antallAnsatte float, \\\n",
    "    overordnetEnhet int, \\\n",
    "    oppstartsdato varchar, \\\n",
    "    organisasjonsform_kode varchar, \\\n",
    "    organisasjonsform_beskrivelse varchar, \\\n",
    "    organisasjonsform__links_self_href varchar, \\\n",
    "    naeringskode1_beskrivelse varchar, \\\n",
    "    naeringskode1_kode float, \\\n",
    "    beliggenhetsadresse_land varchar, \\\n",
    "    beliggenhetsadresse_landkode varchar, \\\n",
    "    beliggenhetsadresse_postnummer int, \\\n",
    "    beliggenhetsadresse_poststed varchar, \\\n",
    "    beliggenhetsadresse_adresse varchar, \\\n",
    "    beliggenhetsadresse_kommune varchar, \\\n",
    "    beliggenhetsadresse_kommunenummer varchar, \\\n",
    "    links_self_href varchar, \\\n",
    "    links_overordnetEnhet_href varchar, \\\n",
    "    hjemmeside varchar, \\\n",
    "    datoEierskifte varchar);\")\n",
    "conn.commit()\n",
    "cur.close()"
   ]
  },
  {
   "cell_type": "code",
   "execution_count": 46,
   "metadata": {},
   "outputs": [],
   "source": [
    "# Bronnoysund parentunit company data table\n",
    "cur.execute(\"DROP TABLE gradprojectgrp3.company_parentunit;\")\n",
    "cur.execute(\"CREATE TABLE gradprojectgrp3.company_parentunit \\\n",
    "    (organisasjonsnummer int primary key, \\\n",
    "    navn varchar, \\\n",
    "    registreringsdatoEnhetsregisteret varchar, \\\n",
    "    registrertIMvaregisteret varchar, \\\n",
    "    antallAnsatte float, \\\n",
    "    stiftelsesdato varchar, \\\n",
    "    registrertIForetaksregisteret varchar, \\\n",
    "    registrertIStiftelsesregisteret varchar, \\\n",
    "    registrertIFrivillighetsregisteret varchar, \\\n",
    "    konkurs varchar, \\\n",
    "    underAvvikling varchar, \\\n",
    "    underTvangsavviklingEllerTvangsopplosning varchar, \\\n",
    "    maalform varchar, \\\n",
    "    organisasjonsform_kode varchar, \\\n",
    "    organisasjonsform_beskrivelse varchar, \\\n",
    "    organisasjonsform__links_self_href varchar, \\\n",
    "    naeringskode1_beskrivelse varchar, \\\n",
    "    naeringskode1_kode float, \\\n",
    "    forretningsadresse_land varchar, \\\n",
    "    forretningsadresse_landkode varchar, \\\n",
    "    forretningsadresse_postnummer int, \\\n",
    "    forretningsadresse_poststed varchar, \\\n",
    "    forretningsadresse_adresse varchar, \\\n",
    "    forretningsadresse_kommune varchar, \\\n",
    "    forretningsadresse_kommunenummer int, \\\n",
    "    links_self_href varchar);\")\n",
    "conn.commit()\n",
    "cur.close()"
   ]
  },
  {
   "cell_type": "code",
   "execution_count": 40,
   "metadata": {},
   "outputs": [],
   "source": [
    "# Mattilsynet table\n",
    "\n",
    "cur.execute(\"DROP TABLE gradprojectgrp3.mattilsynet;\")\n",
    "cur.execute(\"CREATE TABLE gradprojectgrp3.mattilsynet \\\n",
    "    (tilsynid varchar primary key,\\\n",
    "    org_navn varchar, \\\n",
    "    orgnummer int, \\\n",
    "    adresse varchar, \\\n",
    "    postnr int, \\\n",
    "    poststed varchar, \\\n",
    "    karakter1 decimal, \\\n",
    "    karakter2 int, \\\n",
    "    karakter3 decimal, \\\n",
    "    karakter4 decimal, \\\n",
    "    total_karakter int, \\\n",
    "    dato varchar, \\\n",
    "    tilsynsbesoektype int, \\\n",
    "    tilsynsobjektid varchar, \\\n",
    "    sakref varchar, \\\n",
    "    status int);\")\n",
    "conn.commit()\n",
    "cur.close()"
   ]
  },
  {
   "cell_type": "code",
   "execution_count": null,
   "metadata": {},
   "outputs": [],
   "source": []
  }
 ],
 "metadata": {
  "kernelspec": {
   "display_name": "Python 3",
   "language": "python",
   "name": "python3"
  },
  "language_info": {
   "codemirror_mode": {
    "name": "ipython",
    "version": 3
   },
   "file_extension": ".py",
   "mimetype": "text/x-python",
   "name": "python",
   "nbconvert_exporter": "python",
   "pygments_lexer": "ipython3",
   "version": "3.10.8"
  },
  "orig_nbformat": 4,
  "vscode": {
   "interpreter": {
    "hash": "26de051ba29f2982a8de78e945f0abaf191376122a1563185a90213a26c5da77"
   }
  }
 },
 "nbformat": 4,
 "nbformat_minor": 2
}
