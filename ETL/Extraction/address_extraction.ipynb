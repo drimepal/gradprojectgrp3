{
 "cells": [
  {
   "cell_type": "code",
   "execution_count": 1,
   "metadata": {},
   "outputs": [],
   "source": [
    "#imports\n",
    "import pandas as pd\n",
    "import json\n",
    "import http.client, urllib.parse"
   ]
  },
  {
   "cell_type": "code",
   "execution_count": 2,
   "metadata": {},
   "outputs": [],
   "source": [
    "#get addresses\n",
    "data_main = pd.read_csv(r'data\\bronnoysund_mainunit_company_data.csv')\n",
    "data_sub = pd.read_csv(r'data\\bronnoysund_subunit_company_data.csv')\n",
    "data_parent = pd.read_csv(r'data\\bronnoysund_parentunit_company_data.csv')"
   ]
  },
  {
   "cell_type": "code",
   "execution_count": 3,
   "metadata": {},
   "outputs": [],
   "source": [
    "#get only addresses from csv's\n",
    "address_data_main = data_main['forretningsadresse_adresse']\n",
    "address_data_sub = data_sub['beliggenhetsadresse_adresse']\n",
    "address_data_parent = data_parent['forretningsadresse_adresse']"
   ]
  },
  {
   "cell_type": "code",
   "execution_count": 4,
   "metadata": {},
   "outputs": [],
   "source": [
    "#concat lists\n",
    "import itertools\n",
    "all_addresses = list(itertools.chain(address_data_main,address_data_sub,address_data_parent))"
   ]
  },
  {
   "cell_type": "code",
   "execution_count": 25,
   "metadata": {},
   "outputs": [
    {
     "ename": "KeyError",
     "evalue": "'data'",
     "output_type": "error",
     "traceback": [
      "\u001b[1;31m---------------------------------------------------------------------------\u001b[0m",
      "\u001b[1;31mKeyError\u001b[0m                                  Traceback (most recent call last)",
      "Cell \u001b[1;32mIn[25], line 24\u001b[0m\n\u001b[0;32m     22\u001b[0m my_json \u001b[39m=\u001b[39m data\u001b[39m.\u001b[39mdecode(\u001b[39m'\u001b[39m\u001b[39mutf8\u001b[39m\u001b[39m'\u001b[39m)\u001b[39m.\u001b[39mreplace(\u001b[39m\"\u001b[39m\u001b[39m'\u001b[39m\u001b[39m\"\u001b[39m, \u001b[39m'\u001b[39m\u001b[39m\"\u001b[39m\u001b[39m'\u001b[39m)\n\u001b[0;32m     23\u001b[0m datas \u001b[39m=\u001b[39m json\u001b[39m.\u001b[39mloads(my_json)\n\u001b[1;32m---> 24\u001b[0m payload[\u001b[39m'\u001b[39m\u001b[39maddress\u001b[39m\u001b[39m'\u001b[39m]\u001b[39m.\u001b[39mappend(datas[\u001b[39m'\u001b[39;49m\u001b[39mdata\u001b[39;49m\u001b[39m'\u001b[39;49m])\n",
      "\u001b[1;31mKeyError\u001b[0m: 'data'"
     ]
    }
   ],
   "source": [
    "#getting map data\n",
    "payload = {\n",
    "    'address': []\n",
    "}\n",
    "\n",
    "for i in range(len(all_addresses)):\n",
    "    conn = http.client.HTTPConnection('api.positionstack.com')\n",
    "\n",
    "    params = urllib.parse.urlencode({\n",
    "        'access_key': '2bd81cebcb7dcfcc895e911c4ca85494',\n",
    "        'query': f'{all_addresses[i]}',\n",
    "        'region': 'Oslo',\n",
    "        'country': 'NO',\n",
    "        'limit': 1,\n",
    "        })\n",
    "\n",
    "    conn.request('GET', '/v1/forward?{}'.format(params))\n",
    "\n",
    "    res = conn.getresponse()\n",
    "    data = res.read()\n",
    "\n",
    "    my_json = data.decode('utf8').replace(\"'\", '\"')\n",
    "    datas = json.loads(my_json)\n",
    "    payload['address'].append(datas['data'])\n"
   ]
  },
  {
   "cell_type": "code",
   "execution_count": 28,
   "metadata": {},
   "outputs": [
    {
     "name": "stdout",
     "output_type": "stream",
     "text": [
      "1732\n"
     ]
    }
   ],
   "source": [
    "print(len(payload['address']))"
   ]
  },
  {
   "cell_type": "code",
   "execution_count": 30,
   "metadata": {},
   "outputs": [],
   "source": [
    "with open('address.json', 'w') as outfile:\n",
    "    json.dump(payload, outfile)"
   ]
  },
  {
   "cell_type": "code",
   "execution_count": null,
   "metadata": {},
   "outputs": [],
   "source": []
  }
 ],
 "metadata": {
  "kernelspec": {
   "display_name": "Python 3",
   "language": "python",
   "name": "python3"
  },
  "language_info": {
   "codemirror_mode": {
    "name": "ipython",
    "version": 3
   },
   "file_extension": ".py",
   "mimetype": "text/x-python",
   "name": "python",
   "nbconvert_exporter": "python",
   "pygments_lexer": "ipython3",
   "version": "3.10.8"
  },
  "orig_nbformat": 4,
  "vscode": {
   "interpreter": {
    "hash": "26de051ba29f2982a8de78e945f0abaf191376122a1563185a90213a26c5da77"
   }
  }
 },
 "nbformat": 4,
 "nbformat_minor": 2
}
