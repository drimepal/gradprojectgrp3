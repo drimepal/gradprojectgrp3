{
 "cells": [
  {
   "attachments": {},
   "cell_type": "markdown",
   "metadata": {},
   "source": [
    "# Extraction all data from the Mattilsynet API into raw data."
   ]
  },
  {
   "cell_type": "code",
   "execution_count": 19,
   "metadata": {},
   "outputs": [],
   "source": [
    "# Library imports\n",
    "import requests\n",
    "import time\n",
    "import pickle\n",
    "import os.path as path"
   ]
  },
  {
   "attachments": {},
   "cell_type": "markdown",
   "metadata": {},
   "source": [
    "API Dokumentasjon:\n",
    "https://data.norge.no/datasets/288aa74c-e3d3-492e-9ede-e71503b3bfd9"
   ]
  },
  {
   "cell_type": "code",
   "execution_count": 5,
   "metadata": {},
   "outputs": [],
   "source": [
    "# Generalisert funksjon for henting av all data.\n",
    "# Må ha dato på string format 20032023 og ikke time.date. \n",
    "# Må gjøre endringer for dette.\n",
    "\n",
    "def get_all_mattilsynet_reports(place = None, date = None):\n",
    "    \"\"\"Function that retrives raw data from the Mattilsynet API\n",
    "\n",
    "    Args:\n",
    "        place (string): City name e.g Oslo. Defaults to None.\n",
    "        date (string): Date string e.g 20032023. Defaults to None.\n",
    "\n",
    "    Returns:\n",
    "        list: list of json objects\n",
    "    \"\"\"\n",
    "\n",
    "    url = \"https://hotell.difi.no/api/json/mattilsynet/smilefjes/tilsyn?\"\n",
    "\n",
    "    if place != None:\n",
    "        url = url + \"poststed=\" + place\n",
    "    if date != None:\n",
    "        url = url + \"&dato\" + str(date)\n",
    "\n",
    "    page_count = requests.get(url).json()['pages']\n",
    "    list_of_all_reports = []\n",
    "    \n",
    "    for page_num in range(page_count):\n",
    "        page_response = requests.get(url + \"&page=\" + str(page_num+1))\n",
    "        list_of_all_reports.extend(page_response.json()['entries'])\n",
    "        time.sleep(0.1)\n",
    "    \n",
    "    return list_of_all_reports   "
   ]
  },
  {
   "cell_type": "code",
   "execution_count": 6,
   "metadata": {},
   "outputs": [
    {
     "data": {
      "text/plain": [
       "5897"
      ]
     },
     "execution_count": 6,
     "metadata": {},
     "output_type": "execute_result"
    }
   ],
   "source": [
    "# All the mattilsynet reports\n",
    "list_of_all_reports = get_all_mattilsynet_reports(place = \"Oslo\")\n",
    "len(list_of_all_reports)"
   ]
  },
  {
   "cell_type": "code",
   "execution_count": 27,
   "metadata": {},
   "outputs": [],
   "source": [
    "# Store the raw data as a pickle file.\n",
    "# Gets the parent directory location enabeling storing the \n",
    "# data directly to the desired folder.\n",
    "parent = path.abspath(path.join(\"api_test.ipynb\" ,\"../../..\"))\n",
    "with open(f'{parent}/Data/Raw/mattilsynet_rawdata.obj', 'wb') as file:\n",
    "\tpickle.dump(list_of_all_reports, file)"
   ]
  }
 ],
 "metadata": {
  "kernelspec": {
   "display_name": "Python 3",
   "language": "python",
   "name": "python3"
  },
  "language_info": {
   "codemirror_mode": {
    "name": "ipython",
    "version": 3
   },
   "file_extension": ".py",
   "mimetype": "text/x-python",
   "name": "python",
   "nbconvert_exporter": "python",
   "pygments_lexer": "ipython3",
   "version": "3.10.9"
  },
  "orig_nbformat": 4,
  "vscode": {
   "interpreter": {
    "hash": "7c2940c5258610f9a2b978227281dc0bf3c3e3ce460e55d30a45b10f147711e9"
   }
  }
 },
 "nbformat": 4,
 "nbformat_minor": 2
}
