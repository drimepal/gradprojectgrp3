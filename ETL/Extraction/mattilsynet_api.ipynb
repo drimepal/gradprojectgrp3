{
 "cells": [
  {
   "attachments": {},
   "cell_type": "markdown",
   "metadata": {},
   "source": [
    "# Extraction all data from the Mattilsynet API into raw data."
   ]
  },
  {
   "cell_type": "code",
   "execution_count": 1,
   "metadata": {},
   "outputs": [],
   "source": [
    "# Library imports\n",
    "import requests\n",
    "import time\n",
    "import pickle\n",
    "import os.path as path"
   ]
  },
  {
   "attachments": {},
   "cell_type": "markdown",
   "metadata": {},
   "source": [
    "API Dokumentasjon:\n",
    "https://data.norge.no/datasets/288aa74c-e3d3-492e-9ede-e71503b3bfd9"
   ]
  },
  {
   "cell_type": "code",
   "execution_count": 2,
   "metadata": {},
   "outputs": [],
   "source": [
    "# Generalisert funksjon for henting av all data.\n",
    "# Må ha dato på string format 20032023 og ikke time.date. \n",
    "# Må gjøre endringer for dette.\n",
    "\n",
    "def get_all_mattilsynet_reports(place = None, date = None):\n",
    "    \"\"\"Function that retrives raw data from the Mattilsynet API\n",
    "\n",
    "    Args:\n",
    "        place (string): City name e.g Oslo. Defaults to None.\n",
    "        date (string): Date string e.g 20032023. Defaults to None.\n",
    "\n",
    "    Returns:\n",
    "        list: list of json objects\n",
    "    \"\"\"\n",
    "\n",
    "    url = \"https://hotell.difi.no/api/json/mattilsynet/smilefjes/tilsyn?\"\n",
    "\n",
    "    if place != None:\n",
    "        url = url + \"poststed=\" + place\n",
    "    if date != None:\n",
    "        url = url + \"&dato\" + str(date)\n",
    "\n",
    "    page_count = requests.get(url).json()['pages']\n",
    "    list_of_all_reports = []\n",
    "    \n",
    "    for page_num in range(page_count):\n",
    "        page_response = requests.get(url + \"&page=\" + str(page_num+1))\n",
    "        list_of_all_reports.extend(page_response.json()['entries'])\n",
    "        time.sleep(0.1)\n",
    "    \n",
    "    return list_of_all_reports   "
   ]
  },
  {
   "cell_type": "code",
   "execution_count": 3,
   "metadata": {},
   "outputs": [
    {
     "data": {
      "text/plain": [
       "5897"
      ]
     },
     "execution_count": 3,
     "metadata": {},
     "output_type": "execute_result"
    }
   ],
   "source": [
    "# All the mattilsynet reports\n",
    "list_of_all_reports = get_all_mattilsynet_reports(place = \"Oslo\")\n",
    "len(list_of_all_reports)"
   ]
  },
  {
   "attachments": {},
   "cell_type": "markdown",
   "metadata": {},
   "source": [
    "##### Data correction:\n",
    "All orgnumbers should be 9 digits, there are two with out org numbers. These are retrived form the brønøysund website."
   ]
  },
  {
   "cell_type": "code",
   "execution_count": 4,
   "metadata": {},
   "outputs": [
    {
     "name": "stdout",
     "output_type": "stream",
     "text": [
      "{'tilsynsbesoektype': '0', 'poststed': 'OSLO', 'sakref': '2022/196963', 'tilsynsobjektid': 'Z2204220043365210127UTWSF_Tilsynsobjekt', 'orgnummer': '927120186', 'postnr': '0255', 'dato': '12092022', 'navn': 'Cartel´s Latin American Kitchen & Bar Solli Plass', 'tema1_no': 'Rutiner og ledelse', 'tema3_nn': 'Mat-handtering og tillaging', 'tema1_nn': 'Rutiner og leiing', 'tema3_no': 'Mat-håndtering og tilberedning', 'tilsynid': 'Z2209121220005640240CJRLL_TilsynAvtale', 'adrlinje1': 'Henrik Ibsens gate 90', 'karakter1': '0', 'adrlinje2': '', 'karakter2': '1', 'karakter3': '1', 'karakter4': '0', 'total_karakter': '1', 'tema4_no': 'Merking og sporbarhet', 'tema4_nn': 'Merking og sporbarheit', 'tema2_no': 'Lokaler og utstyr', 'status': '0', 'tema2_nn': 'Lokaler og utstyr'}\n",
      "{'tilsynsbesoektype': '0', 'poststed': 'OSLO', 'sakref': '2023/2128', 'tilsynsobjektid': 'Z2212051327505721032OMQGR_Tilsynsobjekt', 'orgnummer': '926532251', 'postnr': '0159', 'dato': '04012023', 'navn': 'HAWKER OSLO AS', 'tema1_no': 'Rutiner og ledelse', 'tema3_nn': 'Mat-handtering og tillaging', 'tema1_nn': 'Rutiner og leiing', 'tema3_no': 'Mat-håndtering og tilberedning', 'tilsynid': 'Z2301041431113590239UWUTJ_TilsynAvtale', 'adrlinje1': 'Grensen 17', 'karakter1': '0', 'adrlinje2': '', 'karakter2': '1', 'karakter3': '1', 'karakter4': '0', 'total_karakter': '1', 'tema4_no': 'Merking og sporbarhet', 'tema4_nn': 'Merking og sporbarheit', 'tema2_no': 'Lokaler og utstyr', 'status': '0', 'tema2_nn': 'Lokaler og utstyr'}\n"
     ]
    }
   ],
   "source": [
    "list_of_mising_org_num = [\"927120186\", \"926532251\"]\n",
    "count = 0\n",
    "for company in list_of_all_reports:\n",
    "    if len(company['orgnummer']) != 9:\n",
    "        company['orgnummer'] = list_of_mising_org_num[count]\n",
    "        count +=1\n",
    "        print(company)"
   ]
  },
  {
   "cell_type": "code",
   "execution_count": 5,
   "metadata": {},
   "outputs": [],
   "source": [
    "for company in list_of_all_reports:\n",
    "    if len(company['orgnummer']) != 9:\n",
    "        print(company)"
   ]
  },
  {
   "attachments": {},
   "cell_type": "markdown",
   "metadata": {},
   "source": [
    "##### All the org numbers are now accounted for"
   ]
  },
  {
   "cell_type": "code",
   "execution_count": 8,
   "metadata": {},
   "outputs": [],
   "source": [
    "# Store the raw data as a pickle file.\n",
    "# Gets the parent directory location enabeling storing the \n",
    "# data directly to the desired folder.\n",
    "parent = path.abspath(path.join(\"mattilsynet_api.ipynb\" ,\"../../..\"))\n",
    "with open(f'{parent}/Data/Raw/mattilsynet_rawdata.obj', 'wb') as file:\n",
    "\tpickle.dump(list_of_all_reports, file)"
   ]
  }
 ],
 "metadata": {
  "kernelspec": {
   "display_name": "Python 3",
   "language": "python",
   "name": "python3"
  },
  "language_info": {
   "codemirror_mode": {
    "name": "ipython",
    "version": 3
   },
   "file_extension": ".py",
   "mimetype": "text/x-python",
   "name": "python",
   "nbconvert_exporter": "python",
   "pygments_lexer": "ipython3",
   "version": "3.10.8"
  },
  "orig_nbformat": 4,
  "vscode": {
   "interpreter": {
    "hash": "26de051ba29f2982a8de78e945f0abaf191376122a1563185a90213a26c5da77"
   }
  }
 },
 "nbformat": 4,
 "nbformat_minor": 2
}
