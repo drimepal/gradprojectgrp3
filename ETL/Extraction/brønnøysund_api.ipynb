{
 "cells": [
  {
   "attachments": {},
   "cell_type": "markdown",
   "metadata": {},
   "source": [
    "# Extraction all data from Brønnøysund API into raw data."
   ]
  },
  {
   "cell_type": "code",
   "execution_count": 1,
   "metadata": {},
   "outputs": [],
   "source": [
    "# Library imports\n",
    "import requests\n",
    "import time\n",
    "import pickle\n",
    "import os.path as path"
   ]
  },
  {
   "attachments": {},
   "cell_type": "markdown",
   "metadata": {},
   "source": [
    "Dokumentasjon:\n",
    "https://data.brreg.no/enhetsregisteret/api/docs/index.html#enheter-oppslag"
   ]
  },
  {
   "cell_type": "code",
   "execution_count": 2,
   "metadata": {},
   "outputs": [],
   "source": [
    "# Import the raw data from Mattilsynet to get a list of orgnumbers for the API\n",
    "# Gets the parent directory, enabeling direct targeting of the desiref file.\n",
    "\n",
    "parent = path.abspath(path.join(\"brønnøysund_api.ipynb\" ,\"../../..\"))\n",
    "with open(f'{parent}/Data/Raw/mattilsynet_rawdata.obj', 'rb') as file:\n",
    "\tlist_of_all_reports = pickle.load(file)"
   ]
  },
  {
   "cell_type": "code",
   "execution_count": 3,
   "metadata": {},
   "outputs": [
    {
     "name": "stdout",
     "output_type": "stream",
     "text": [
      "5897\n"
     ]
    }
   ],
   "source": [
    "print(len(list_of_all_reports))"
   ]
  },
  {
   "attachments": {},
   "cell_type": "markdown",
   "metadata": {},
   "source": [
    "#### Find all the unique orgnumbers"
   ]
  },
  {
   "cell_type": "code",
   "execution_count": 5,
   "metadata": {},
   "outputs": [
    {
     "data": {
      "text/plain": [
       "1163"
      ]
     },
     "execution_count": 5,
     "metadata": {},
     "output_type": "execute_result"
    }
   ],
   "source": [
    "# Org_num for all unique places in Olso\n",
    "list_of_all_org_num = [company['orgnummer'] for company in list_of_all_reports]\n",
    "list_of_unique_org_num = list(set(list_of_all_org_num))\n",
    "len(list_of_unique_org_num)"
   ]
  },
  {
   "attachments": {},
   "cell_type": "markdown",
   "metadata": {},
   "source": [
    "##### Now get the company info and classify as sub or main units"
   ]
  },
  {
   "cell_type": "code",
   "execution_count": 6,
   "metadata": {},
   "outputs": [],
   "source": [
    "def get_unit(org_num, sub_and_main_units):\n",
    "    \"\"\"Uses the API to get a unit based on org_num, prints a message if not found.\n",
    "\n",
    "    Args:\n",
    "        org_num (string): A company id number\n",
    "        unit_type (string): Used to search for main or sub company.\n",
    "\n",
    "    Returns:\n",
    "        list: Returns a list of sub and main units, if no unit is found a error is printed.\n",
    "    \"\"\"\n",
    "    \n",
    "    url = \"https://data.brreg.no/enhetsregisteret/api/\"\n",
    "    sub = \"underenheter/\"\n",
    "    main = \"enheter/\"\n",
    "\n",
    "    response_brøn = requests.get(url + sub + org_num)\n",
    "    if response_brøn.ok:\n",
    "        sub_and_main_units[0].append(response_brøn.json())\n",
    "        return sub_and_main_units\n",
    "    else:\n",
    "        response_brøn = requests.get(url + main + org_num)\n",
    "        if response_brøn.ok:\n",
    "            sub_and_main_units[1].append(response_brøn.json())\n",
    "            return sub_and_main_units\n",
    "        else:\n",
    "            print(f\"Could not get org_num: {org_num} not found in the database\")"
   ]
  },
  {
   "cell_type": "code",
   "execution_count": 7,
   "metadata": {},
   "outputs": [],
   "source": [
    "def get_company_info(org_num_list):\n",
    "    import time\n",
    "    \"\"\"Returns a list of sub unit company data\n",
    "\n",
    "    Args:\n",
    "        org_num_list (list): list of\n",
    "\n",
    "    Returns:\n",
    "        list: Returns a list of lists, one for sub and one for main units.\n",
    "    \"\"\"\n",
    "\n",
    "    #                 [[sub],[main]]\n",
    "    sub_and_main_units = [[],[]]\n",
    "\n",
    "    for org_num in org_num_list:\n",
    "\n",
    "        sub_and_main_units = get_unit(org_num, sub_and_main_units)\n",
    "        time.sleep(0.005)\n",
    "    \n",
    "    return sub_and_main_units"
   ]
  },
  {
   "cell_type": "code",
   "execution_count": 8,
   "metadata": {},
   "outputs": [
    {
     "name": "stdout",
     "output_type": "stream",
     "text": [
      "The lenght of the sub list: 1152\n",
      "The lenght of the main list: 11\n"
     ]
    }
   ],
   "source": [
    "sub_and_main_units = get_company_info(list_of_unique_org_num)\n",
    "print(f\"The lenght of the sub list: {len(sub_and_main_units[0])}\")\n",
    "print(f\"The lenght of the main list: {len(sub_and_main_units[1])}\")"
   ]
  },
  {
   "attachments": {},
   "cell_type": "markdown",
   "metadata": {},
   "source": [
    "##### Now get the coresponding main units or parent units of the sub units"
   ]
  },
  {
   "cell_type": "code",
   "execution_count": 15,
   "metadata": {},
   "outputs": [],
   "source": [
    "def get_all_main_units(list_of_sub_units):\n",
    "    \"\"\"Takes a list of sub unit data, and returns a list of main unit org num. \n",
    "\n",
    "    Args:\n",
    "        list_of_sub_units (list): list of all sub units\n",
    "\n",
    "    Returns:\n",
    "        list: list of all main unit org num\n",
    "    \"\"\"\n",
    "\n",
    "    list_of_main_unit_org_num = []\n",
    "\n",
    "    for sub_unit in list_of_sub_units:\n",
    "        try:\n",
    "            list_of_main_unit_org_num.append(sub_unit['overordnetEnhet'])\n",
    "        except:\n",
    "            print(sub_unit)\n",
    "    \n",
    "    return list_of_main_unit_org_num\n"
   ]
  },
  {
   "cell_type": "code",
   "execution_count": 17,
   "metadata": {},
   "outputs": [],
   "source": [
    "def get_only_unique_main_units(list_of_sub_units):\n",
    "    \"\"\"Takes a list of sub unit data, and returns a list of unique main unit org num.\n",
    "\n",
    "    Args:\n",
    "        list_of_sub_units (list): list of all sub units\n",
    "\n",
    "    Returns:\n",
    "        list: list of all unique main unit org num\n",
    "    \"\"\"\n",
    "\n",
    "    all_main_unit_org_num = get_all_main_units(list_of_sub_units)\n",
    "\n",
    "    return list(set(all_main_unit_org_num))"
   ]
  },
  {
   "cell_type": "code",
   "execution_count": 18,
   "metadata": {},
   "outputs": [
    {
     "name": "stdout",
     "output_type": "stream",
     "text": [
      "{'organisasjonsnummer': '911737795', 'navn': 'BAKER NORDBY GUNERIUS AVD 29', 'organisasjonsform': {'kode': 'BEDR', 'beskrivelse': 'Underenhet til næringsdrivende og offentlig forvaltning', '_links': {'self': {'href': 'https://data.brreg.no/enhetsregisteret/api/organisasjonsformer/BEDR'}}}, 'slettedato': '2023-02-09', 'nedleggelsesdato': '2022-12-31', '_links': {'self': {'href': 'https://data.brreg.no/enhetsregisteret/api/underenheter/911737795'}}}\n"
     ]
    },
    {
     "data": {
      "text/plain": [
       "992"
      ]
     },
     "execution_count": 18,
     "metadata": {},
     "output_type": "execute_result"
    }
   ],
   "source": [
    "list_of_sub_units = sub_and_main_units[0]\n",
    "unique_parent_unit_orgnumbers = get_only_unique_main_units(list_of_sub_units)\n",
    "len(unique_parent_unit_orgnumbers)"
   ]
  },
  {
   "attachments": {},
   "cell_type": "markdown",
   "metadata": {},
   "source": [
    "The company shown above will not have its parent company included due to lack of information."
   ]
  },
  {
   "attachments": {},
   "cell_type": "markdown",
   "metadata": {},
   "source": [
    "#### Final data structure:\n",
    "A dictionary with the sub_unit stored with the sub_unit key, this is the company generally that each of the reports form Mattilsynet are linked to. However, a small number of reports from Mattilsynet are connected directly to main units. These are stored with the main unit key. Finally there are the unique parent units, these are companies that the sub units are part of. The Mattilsynet reports are not linked to these units directly."
   ]
  },
  {
   "cell_type": "code",
   "execution_count": 19,
   "metadata": {},
   "outputs": [],
   "source": [
    "unique_brønnøysund_company_data = {}\n",
    "unique_brønnøysund_company_data['sub_unit'] = sub_and_main_units[0]\n",
    "unique_brønnøysund_company_data['main_unit'] = sub_and_main_units[1]\n",
    "unique_brønnøysund_company_data['parent_unit'] = unique_parent_unit_orgnumbers"
   ]
  },
  {
   "cell_type": "code",
   "execution_count": 20,
   "metadata": {},
   "outputs": [
    {
     "name": "stdout",
     "output_type": "stream",
     "text": [
      "1152\n",
      "11\n",
      "992\n"
     ]
    }
   ],
   "source": [
    "print(len(unique_brønnøysund_company_data['sub_unit']))\n",
    "print(len(unique_brønnøysund_company_data['main_unit']))\n",
    "print(len(unique_brønnøysund_company_data['parent_unit']))"
   ]
  },
  {
   "attachments": {},
   "cell_type": "markdown",
   "metadata": {},
   "source": [
    "##### Store the data as a pickle file in the raw data folder."
   ]
  },
  {
   "cell_type": "code",
   "execution_count": 21,
   "metadata": {},
   "outputs": [],
   "source": [
    "# Store the raw data as a pickle file.\n",
    "# Gets the parent directory location enabeling storing the \n",
    "# data directly to the desired folder.\n",
    "parent = path.abspath(path.join(\"brønnøysund_api.ipynb\" ,\"../../..\"))\n",
    "with open(f'{parent}/Data/Raw/unique_brønnøysund_company_data.obj', 'wb') as file:\n",
    "\tpickle.dump(unique_brønnøysund_company_data, file)"
   ]
  }
 ],
 "metadata": {
  "kernelspec": {
   "display_name": "Python 3",
   "language": "python",
   "name": "python3"
  },
  "language_info": {
   "codemirror_mode": {
    "name": "ipython",
    "version": 3
   },
   "file_extension": ".py",
   "mimetype": "text/x-python",
   "name": "python",
   "nbconvert_exporter": "python",
   "pygments_lexer": "ipython3",
   "version": "3.10.9"
  },
  "orig_nbformat": 4,
  "vscode": {
   "interpreter": {
    "hash": "7c2940c5258610f9a2b978227281dc0bf3c3e3ce460e55d30a45b10f147711e9"
   }
  }
 },
 "nbformat": 4,
 "nbformat_minor": 2
}
