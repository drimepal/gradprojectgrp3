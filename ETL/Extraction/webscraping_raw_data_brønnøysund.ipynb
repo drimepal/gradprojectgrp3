{
 "cells": [
  {
   "attachments": {},
   "cell_type": "markdown",
   "metadata": {},
   "source": [
    "# Scraping raw data from the main units of Brønnøysund\n",
    "This is with the aim of using role data e.g daglig leder / direktør / styremedlem etc  \n",
    "The scraping is done using main and parent unit orgnumber from the unique_brønnøysund_company_data.obj file.  \n",
    "\n",
    "No processing of the data is done in this file, only gattering the raw data and storing it."
   ]
  },
  {
   "cell_type": "code",
   "execution_count": 50,
   "metadata": {},
   "outputs": [],
   "source": [
    "# Library imports\n",
    "import pickle\n",
    "import requests\n",
    "import os.path as path"
   ]
  },
  {
   "cell_type": "code",
   "execution_count": 5,
   "metadata": {},
   "outputs": [],
   "source": [
    "# Test of the scraper response.\n",
    "url = \"https://w2.brreg.no/enhet/sok/detalj.jsp?orgnr=932812835\"\n",
    "reponse = requests.get(url)\n",
    "\n",
    "if reponse.ok:\n",
    "    print(reponse.text)"
   ]
  },
  {
   "cell_type": "code",
   "execution_count": 6,
   "metadata": {},
   "outputs": [],
   "source": [
    "# Importing the orgnumber data:\n",
    "# Gets the parent directory, enabeling direct targeting of the desiref file.\n",
    "\n",
    "parent = path.abspath(path.join(\"unique_brønnøysund_company_data.obj\" ,\"../../..\"))\n",
    "with open(f'{parent}/Data/Raw/unique_brønnøysund_company_data.obj', 'rb') as file:\n",
    "\tunique_org_num = pickle.load(file)"
   ]
  },
  {
   "cell_type": "code",
   "execution_count": 7,
   "metadata": {},
   "outputs": [
    {
     "name": "stdout",
     "output_type": "stream",
     "text": [
      "sub_unit its lenght is: 1152\n",
      "main_unit its lenght is: 11\n",
      "parent_unit its lenght is: 992\n"
     ]
    }
   ],
   "source": [
    "for key, value in unique_org_num.items():\n",
    "    print(f\"{key} its lenght is: {len(value)}\")"
   ]
  },
  {
   "cell_type": "code",
   "execution_count": 25,
   "metadata": {},
   "outputs": [],
   "source": [
    "def scraping_brønnøysund(list_of_orgnumbers):\n",
    "    \"\"\"Gets a list of html strings based on a input list of orgnumbers\n",
    "\n",
    "    Returns:\n",
    "        list: list of html stings, needs a html phaser\n",
    "    \"\"\"\n",
    "\n",
    "    data_response_list = []    \n",
    "    for org_number in list_of_orgnumbers:\n",
    "        url = \"https://w2.brreg.no/enhet/sok/detalj.jsp?orgnr=\"\n",
    "        reponse = requests.get(url + str(org_number))\n",
    "        if reponse.ok:\n",
    "            data_response_list.append(reponse.text)\n",
    "        else:\n",
    "            print(f\"Could not get data for {org_number}, status code: {reponse.status_code}\")\n",
    "    return data_response_list"
   ]
  },
  {
   "cell_type": "code",
   "execution_count": 16,
   "metadata": {},
   "outputs": [
    {
     "name": "stdout",
     "output_type": "stream",
     "text": [
      "11\n",
      "992\n"
     ]
    }
   ],
   "source": [
    "# Renaming the orgnumber variabels\n",
    "main_units_org_nums = unique_org_num['main_unit']\n",
    "parent_units_org_nums = unique_org_num['parent_unit']\n",
    "print(len(main_units_org_nums))\n",
    "print(len(parent_units_org_nums))"
   ]
  },
  {
   "cell_type": "code",
   "execution_count": 31,
   "metadata": {},
   "outputs": [
    {
     "name": "stdout",
     "output_type": "stream",
     "text": [
      "11\n"
     ]
    }
   ],
   "source": [
    "# Scraping the data for the 11 main units\n",
    "scraped_data_main = scraping_brønnøysund(main_units_org_nums)\n",
    "print(len(scraped_data_main))"
   ]
  },
  {
   "cell_type": "code",
   "execution_count": 32,
   "metadata": {},
   "outputs": [
    {
     "name": "stdout",
     "output_type": "stream",
     "text": [
      "992\n"
     ]
    }
   ],
   "source": [
    "# Scraping the data for the 992 parent units\n",
    "scraped_data_parent = scraping_brønnøysund(parent_units_org_nums)\n",
    "print(len(parent_units_org_nums))"
   ]
  },
  {
   "attachments": {},
   "cell_type": "markdown",
   "metadata": {},
   "source": [
    "#### Storing the data."
   ]
  },
  {
   "cell_type": "code",
   "execution_count": 47,
   "metadata": {},
   "outputs": [],
   "source": [
    "# Fulldata\n",
    "scraped_data_parent.extend(scraped_data_main)"
   ]
  },
  {
   "cell_type": "code",
   "execution_count": 51,
   "metadata": {},
   "outputs": [],
   "source": [
    "# Store the raw data as a pickle file.\n",
    "# Gets the parent directory location enabeling storing the \n",
    "# data directly to the desired folder.\n",
    "parent = path.abspath(path.join(\"brønnøysund_api.ipynb\", \"../../..\"))\n",
    "path = \"/Data/Raw/\"\n",
    "with open(f'{parent + path}scraped_data_from_brønnøysund.obj', 'wb') as file:\n",
    "\tpickle.dump(scraped_data_parent, file)"
   ]
  }
 ],
 "metadata": {
  "kernelspec": {
   "display_name": "Python 3",
   "language": "python",
   "name": "python3"
  },
  "language_info": {
   "codemirror_mode": {
    "name": "ipython",
    "version": 3
   },
   "file_extension": ".py",
   "mimetype": "text/x-python",
   "name": "python",
   "nbconvert_exporter": "python",
   "pygments_lexer": "ipython3",
   "version": "3.10.9"
  },
  "orig_nbformat": 4,
  "vscode": {
   "interpreter": {
    "hash": "7c2940c5258610f9a2b978227281dc0bf3c3e3ce460e55d30a45b10f147711e9"
   }
  }
 },
 "nbformat": 4,
 "nbformat_minor": 2
}
