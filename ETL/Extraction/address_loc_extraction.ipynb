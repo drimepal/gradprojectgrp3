{
 "cells": [
  {
   "cell_type": "code",
   "execution_count": 1,
   "metadata": {},
   "outputs": [],
   "source": [
    "#imports\n",
    "import pandas as pd\n",
    "import json\n",
    "import http.client, urllib.parse"
   ]
  },
  {
   "cell_type": "code",
   "execution_count": 2,
   "metadata": {},
   "outputs": [],
   "source": [
    "#get addresses\n",
    "data_main = pd.read_csv(r'data\\bronnoysund_mainunit_company_data.csv')\n",
    "data_sub = pd.read_csv(r'data\\bronnoysund_subunit_company_data.csv')\n",
    "data_parent = pd.read_csv(r'data\\bronnoysund_parentunit_company_data.csv')"
   ]
  },
  {
   "cell_type": "code",
   "execution_count": 4,
   "metadata": {},
   "outputs": [
    {
     "name": "stdout",
     "output_type": "stream",
     "text": [
      "Index(['organisasjonsnummer', 'navn', 'registreringsdatoEnhetsregisteret',\n",
      "       'registrertIMvaregisteret', 'antallAnsatte', 'stiftelsesdato',\n",
      "       'registrertIForetaksregisteret', 'registrertIStiftelsesregisteret',\n",
      "       'registrertIFrivillighetsregisteret', 'konkurs', 'underAvvikling',\n",
      "       'underTvangsavviklingEllerTvangsopplosning', 'maalform',\n",
      "       'organisasjonsform_kode', 'organisasjonsform_beskrivelse',\n",
      "       'organisasjonsform__links_self_href', 'naeringskode1_beskrivelse',\n",
      "       'naeringskode1_kode', 'forretningsadresse_land',\n",
      "       'forretningsadresse_landkode', 'forretningsadresse_postnummer',\n",
      "       'forretningsadresse_poststed', 'forretningsadresse_adresse',\n",
      "       'forretningsadresse_kommune', 'forretningsadresse_kommunenummer',\n",
      "       'links_self_href'],\n",
      "      dtype='object')\n",
      "Index(['organisasjonsnummer', 'navn', 'registreringsdatoEnhetsregisteret',\n",
      "       'registrertIMvaregisteret', 'antallAnsatte', 'overordnetEnhet',\n",
      "       'oppstartsdato', 'organisasjonsform_kode',\n",
      "       'organisasjonsform_beskrivelse', 'organisasjonsform__links_self_href',\n",
      "       'naeringskode1_beskrivelse', 'naeringskode1_kode',\n",
      "       'beliggenhetsadresse_land', 'beliggenhetsadresse_landkode',\n",
      "       'beliggenhetsadresse_postnummer', 'beliggenhetsadresse_poststed',\n",
      "       'beliggenhetsadresse_adresse', 'beliggenhetsadresse_kommune',\n",
      "       'beliggenhetsadresse_kommunenummer', 'links_self_href',\n",
      "       'links_overordnetEnhet_href', 'hjemmeside', 'datoEierskifte'],\n",
      "      dtype='object')\n",
      "Index(['organisasjonsnummer', 'navn', 'registreringsdatoEnhetsregisteret',\n",
      "       'registrertIMvaregisteret', 'antallAnsatte', 'stiftelsesdato',\n",
      "       'registrertIForetaksregisteret', 'registrertIStiftelsesregisteret',\n",
      "       'registrertIFrivillighetsregisteret', 'konkurs', 'underAvvikling',\n",
      "       'underTvangsavviklingEllerTvangsopplosning', 'maalform',\n",
      "       'organisasjonsform_kode', 'organisasjonsform_beskrivelse',\n",
      "       'organisasjonsform__links_self_href', 'naeringskode1_beskrivelse',\n",
      "       'naeringskode1_kode', 'forretningsadresse_land',\n",
      "       'forretningsadresse_landkode', 'forretningsadresse_postnummer',\n",
      "       'forretningsadresse_poststed', 'forretningsadresse_adresse',\n",
      "       'forretningsadresse_kommune', 'forretningsadresse_kommunenummer',\n",
      "       'links_self_href'],\n",
      "      dtype='object')\n"
     ]
    }
   ],
   "source": [
    "#check columns\n",
    "print(data_main.columns)\n",
    "print(data_sub.columns)\n",
    "print(data_parent.columns)"
   ]
  },
  {
   "cell_type": "code",
   "execution_count": 5,
   "metadata": {},
   "outputs": [],
   "source": [
    "#get only addresses from csv's\n",
    "address_data_main = data_main['forretningsadresse_adresse']\n",
    "address_data_sub = data_sub['beliggenhetsadresse_adresse']\n",
    "address_data_parent = data_parent['forretningsadresse_adresse']"
   ]
  },
  {
   "cell_type": "code",
   "execution_count": 7,
   "metadata": {},
   "outputs": [
    {
     "name": "stdout",
     "output_type": "stream",
     "text": [
      "11\n",
      "1151\n",
      "990\n"
     ]
    }
   ],
   "source": [
    "print(len(address_data_main))\n",
    "print(len(address_data_sub))\n",
    "print(len(address_data_parent))"
   ]
  },
  {
   "cell_type": "code",
   "execution_count": 9,
   "metadata": {},
   "outputs": [],
   "source": [
    "#concat lists\n",
    "import itertools\n",
    "all_addresses = list(itertools.chain(address_data_main,address_data_sub,address_data_parent))"
   ]
  },
  {
   "cell_type": "code",
   "execution_count": 16,
   "metadata": {},
   "outputs": [
    {
     "name": "stdout",
     "output_type": "stream",
     "text": [
      "2152\n"
     ]
    }
   ],
   "source": [
    "print(len(all_addresses))"
   ]
  },
  {
   "cell_type": "code",
   "execution_count": 15,
   "metadata": {},
   "outputs": [
    {
     "name": "stdout",
     "output_type": "stream",
     "text": [
      "1129\n"
     ]
    }
   ],
   "source": [
    "print(len(set(all_addresses)))"
   ]
  },
  {
   "cell_type": "code",
   "execution_count": 12,
   "metadata": {},
   "outputs": [],
   "source": [
    "#getting map data\n",
    "\n",
    "address_dict = {}\n",
    "\n",
    "for i in range(len(all_addresses)):\n",
    "    conn = http.client.HTTPConnection('api.positionstack.com')\n",
    "\n",
    "    params = urllib.parse.urlencode({\n",
    "        'access_key': '2bd81cebcb7dcfcc895e911c4ca85494',\n",
    "        'query': f'{all_addresses[i]}',\n",
    "        'region': 'Oslo',\n",
    "        'country': 'NO',\n",
    "        'limit': 1,\n",
    "        })\n",
    "\n",
    "    conn.request('GET', '/v1/forward?{}'.format(params))\n",
    "\n",
    "    res = conn.getresponse()\n",
    "    data = res.read()\n",
    "\n",
    "    address_dict.update({f'{all_addresses[i]}': data.decode('utf-8')})"
   ]
  },
  {
   "cell_type": "code",
   "execution_count": 13,
   "metadata": {},
   "outputs": [],
   "source": [
    "address_list = list(address_dict.values())"
   ]
  },
  {
   "cell_type": "code",
   "execution_count": 14,
   "metadata": {},
   "outputs": [],
   "source": [
    "#export json\n",
    "\n",
    "with open('address_json.json', 'w') as outfile:\n",
    "    json.dump(address_dict, outfile)\n"
   ]
  }
 ],
 "metadata": {
  "kernelspec": {
   "display_name": "Python 3",
   "language": "python",
   "name": "python3"
  },
  "language_info": {
   "codemirror_mode": {
    "name": "ipython",
    "version": 3
   },
   "file_extension": ".py",
   "mimetype": "text/x-python",
   "name": "python",
   "nbconvert_exporter": "python",
   "pygments_lexer": "ipython3",
   "version": "3.10.8"
  },
  "orig_nbformat": 4,
  "vscode": {
   "interpreter": {
    "hash": "26de051ba29f2982a8de78e945f0abaf191376122a1563185a90213a26c5da77"
   }
  }
 },
 "nbformat": 4,
 "nbformat_minor": 2
}
