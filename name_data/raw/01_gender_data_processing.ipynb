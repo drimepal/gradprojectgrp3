{
 "cells": [
  {
   "attachments": {},
   "cell_type": "markdown",
   "metadata": {},
   "source": [
    "# Gender name data processing"
   ]
  },
  {
   "cell_type": "code",
   "execution_count": 1,
   "metadata": {},
   "outputs": [],
   "source": [
    "# library imports\n",
    "import pickle\n",
    "import regex as re\n",
    "import pandas as pd\n",
    "import os.path as path"
   ]
  },
  {
   "cell_type": "code",
   "execution_count": 2,
   "metadata": {},
   "outputs": [],
   "source": [
    "# Universal gender names\n",
    "df_1 = pd.read_csv('gender_name.csv') \n",
    "df_2 = pd.read_csv('gender_name_2.csv')\n",
    "df = df_1[['name','sex']]\n",
    "df_universal_gender_names = pd.concat([df, df_2[['name','sex']]], ignore_index=True, sort=False)"
   ]
  },
  {
   "cell_type": "code",
   "execution_count": 3,
   "metadata": {},
   "outputs": [],
   "source": [
    "# Norwegian gender names\n",
    "df_norwegian_female_names = pd.read_excel('norwegian_female_names.xlsx')\n",
    "df = pd.read_excel('norwegian_male_names.xlsx')\n",
    "df_norwegian_male_names = df.groupby('name')\n",
    "df_norwegian_male_names = pd.DataFrame(df_norwegian_male_names, columns = ['name', 'sex'])\n",
    "df_norwegian_male_names['sex'] = \"M\""
   ]
  },
  {
   "cell_type": "code",
   "execution_count": 4,
   "metadata": {},
   "outputs": [],
   "source": [
    "# Islamic gender names\n",
    "islamic_female_name = []\n",
    "with open('islamske_kvinne_navn.txt','r') as file:   \n",
    "    # reading each line    \n",
    "    for line in file:   \n",
    "        # reading each word        \n",
    "        for name in line.split():   \n",
    "            # displaying the words\n",
    "            name = name.strip(\",\")           \n",
    "            islamic_female_name.append(name)\n",
    "df_islamic_female_name = pd.DataFrame(islamic_female_name, columns=[\"name\"])\n",
    "df_islamic_female_name['sex'] = \"F\"\n",
    "\n",
    "islamic_male_name = []\n",
    "with open('islamske_mannenavn_navn.txt','r') as file:   \n",
    "    # reading each line    \n",
    "    for line in file:   \n",
    "        # reading each word        \n",
    "        for name in line.split():   \n",
    "            # displaying the words\n",
    "            name = name.strip(\",\")           \n",
    "            islamic_male_name.append(name)\n",
    "df_islamic_male_name = pd.DataFrame(islamic_male_name, columns=[\"name\"])\n",
    "df_islamic_male_name['sex'] = \"M\""
   ]
  },
  {
   "cell_type": "code",
   "execution_count": 5,
   "metadata": {},
   "outputs": [],
   "source": [
    "# Adding swedish names:\n",
    "list_of_swed_male_names = ['Hugo', 'Matteo', 'Walter', 'Harry', 'Vincent', 'Charlie', 'Arvid', 'Frans', 'Sam', 'Louie', 'Otto', 'Malte', 'Elton', 'Ebbe', 'Love', 'Olle', 'Melvin', 'Albin', 'Jack', 'Frank', 'Tage', 'Colin', 'Noel', 'Sixten', 'Viggo', 'Vidar', 'Melker', 'Loke', 'Ivar', 'Milo', 'Sigge', 'Alvin', 'Kian', 'Nicholas', 'Anton', 'Milton', 'Vilgot', 'Wilmer', 'Wilhelm', 'Elis', 'Dante', 'Ture', 'Elvin', 'Folke', 'Algot', 'Hjalmar', 'Vide', 'Alvar', 'Ted', 'Alve', 'Joel', 'Björn', 'Otis', 'Svante']\n",
    "list_of_swed_female_names = ['Alice', 'Elsa', 'Wilma', 'Freja', 'Vera', 'Ines', 'Ester', 'Ellen', 'Molly', 'Lo', 'Nova', 'Mila', 'Lova', 'Juni', 'Isabelle', 'Edith', 'Nellie', 'Leia', 'Meja', 'Livia', 'Rut', 'Tyra', 'Cleo', 'Majken', 'Lovisa', 'Sally', 'Elin', 'Lykke', 'Hailey', 'Bonnie', 'Hilma', 'Melina', 'Mira', 'Märta', 'Hilda', 'Melissa', 'Svea', 'Zoe', 'Ilse', 'Stina', 'Joline', 'Lovis', 'Tilde', 'Elsie', 'Siri', 'Elina', 'Maryam', 'Belle', 'Felicia', 'Matilda', 'Bianca', 'Moa', 'Ayla', 'Idun', 'Millie']\n",
    "\n",
    "df_swed_m = pd.DataFrame(list_of_swed_male_names, columns = ['name'])\n",
    "df_swed_m['sex'] = \"M\"\n",
    "df_swed_f = pd.DataFrame(list_of_swed_female_names, columns = ['name'])\n",
    "df_swed_f['sex'] = \"F\""
   ]
  },
  {
   "cell_type": "code",
   "execution_count": 6,
   "metadata": {},
   "outputs": [],
   "source": [
    "# Combining into a df_gender_name\n",
    "df = pd.concat([df_universal_gender_names,\n",
    "                df_norwegian_female_names,\n",
    "                df_norwegian_male_names,\n",
    "                df_islamic_female_name,\n",
    "                df_islamic_male_name,\n",
    "                df_swed_m,\n",
    "                df_swed_f\n",
    "                ])\n",
    "df = df.drop_duplicates(subset=['name'])\n",
    "df = pd.concat([df.loc[df['sex'] == \"F\"], df.loc[df['sex'] == \"M\"]])"
   ]
  },
  {
   "cell_type": "code",
   "execution_count": 7,
   "metadata": {},
   "outputs": [
    {
     "data": {
      "text/plain": [
       "96759"
      ]
     },
     "execution_count": 7,
     "metadata": {},
     "output_type": "execute_result"
    }
   ],
   "source": [
    "len(df)"
   ]
  },
  {
   "cell_type": "code",
   "execution_count": 8,
   "metadata": {},
   "outputs": [],
   "source": [
    "# Transforming the data to two lists:\n",
    "# And last minute clean up, removal of \" \" characters.\n",
    "name_list = df.name.tolist()\n",
    "temp_name_list = []\n",
    "X = []\n",
    "for name in name_list:\n",
    "    X.append(name.strip())\n",
    "y = df.sex.tolist()"
   ]
  },
  {
   "cell_type": "code",
   "execution_count": 9,
   "metadata": {},
   "outputs": [],
   "source": [
    "# Transforming the data to two lists:\n",
    "# And last minute clean up, removal of \" \" characters.\n",
    "name_list = df.name.tolist()\n",
    "temp_name_list = []\n",
    "X = []\n",
    "for name in name_list:\n",
    "    X.append(name.strip())\n",
    "y = df.sex.tolist()"
   ]
  },
  {
   "cell_type": "code",
   "execution_count": 10,
   "metadata": {},
   "outputs": [],
   "source": [
    "def remove_unwanted_name(X):\n",
    "    for idx, name in enumerate(X):\n",
    "        for char in name:\n",
    "            if char == \" \" or char == \"½\":\n",
    "                return(idx)"
   ]
  },
  {
   "cell_type": "code",
   "execution_count": 11,
   "metadata": {},
   "outputs": [
    {
     "name": "stdout",
     "output_type": "stream",
     "text": [
      "Nothing more to remove\n"
     ]
    }
   ],
   "source": [
    "#index = remove_unwanted_name(X)\n",
    "while True:\n",
    "    try:\n",
    "        index = remove_unwanted_name(X)\n",
    "        X.pop(index)\n",
    "        y.pop(index)\n",
    "    except:\n",
    "        print(\"Nothing more to remove\")\n",
    "        break"
   ]
  },
  {
   "cell_type": "code",
   "execution_count": 12,
   "metadata": {},
   "outputs": [],
   "source": [
    "for name in X:\n",
    "    for char in name:\n",
    "        if char.lower() not in ['a','b','c','d','e','f','g','h','i','j','k','l','m','n','o','p','q','r','s','t','u','v','w','x','y','z','æ','ø','å','à','á','ä','ö','ü','í','é',\"'\",'-',]:\n",
    "            print(char)\n",
    "            print(name)\n",
    "            break"
   ]
  },
  {
   "cell_type": "code",
   "execution_count": 13,
   "metadata": {},
   "outputs": [],
   "source": [
    "data = [X,y]"
   ]
  },
  {
   "cell_type": "code",
   "execution_count": 14,
   "metadata": {},
   "outputs": [],
   "source": [
    "# Storing the data\n",
    "parent = path.abspath(path.join(\"gender_name_data_managment.ipynb\", \"../..\"))\n",
    "path_ = \"/processed/\"\n",
    "file_name = \"all_gender_name\"\n",
    "\n",
    "with open(f'{parent + path_ + file_name}.obj', 'wb') as f:\n",
    "\tpickle.dump(data, f)"
   ]
  }
 ],
 "metadata": {
  "kernelspec": {
   "display_name": "Python 3",
   "language": "python",
   "name": "python3"
  },
  "language_info": {
   "codemirror_mode": {
    "name": "ipython",
    "version": 3
   },
   "file_extension": ".py",
   "mimetype": "text/x-python",
   "name": "python",
   "nbconvert_exporter": "python",
   "pygments_lexer": "ipython3",
   "version": "3.10.9"
  },
  "orig_nbformat": 4,
  "vscode": {
   "interpreter": {
    "hash": "7c2940c5258610f9a2b978227281dc0bf3c3e3ce460e55d30a45b10f147711e9"
   }
  }
 },
 "nbformat": 4,
 "nbformat_minor": 2
}
