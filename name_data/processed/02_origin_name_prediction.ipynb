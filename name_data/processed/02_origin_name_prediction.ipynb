{
 "cells": [
  {
   "attachments": {},
   "cell_type": "markdown",
   "metadata": {},
   "source": [
    "# Origin name data prediction"
   ]
  },
  {
   "cell_type": "code",
   "execution_count": 1,
   "metadata": {},
   "outputs": [],
   "source": [
    "# library imports\n",
    "import pickle\n",
    "import pandas as pd\n",
    "import os.path as path\n",
    "\n",
    "# Library imports\n",
    "import numpy as np\n",
    "import matplotlib.pyplot as plt\n",
    "import tensorflow as tf\n",
    "from sklearn. model_selection import train_test_split\n",
    "from tensorflow.keras.layers import Dense, Input, Conv1D, Flatten, MaxPool2D, BatchNormalization, Dropout, LSTM, Embedding, Masking\n",
    "from tensorflow.keras.models import Model\n",
    "from tensorflow.keras import activations\n",
    "\n",
    "from tensorflow.keras.preprocessing.sequence import pad_sequences\n",
    "\n",
    "from sklearn.preprocessing import OneHotEncoder"
   ]
  },
  {
   "attachments": {},
   "cell_type": "markdown",
   "metadata": {},
   "source": [
    "# Data import"
   ]
  },
  {
   "cell_type": "code",
   "execution_count": 2,
   "metadata": {},
   "outputs": [],
   "source": [
    "# Importing data\n",
    "file_name = \"origin_data\"\n",
    "\n",
    "with open(f'{file_name}.obj', 'rb') as f:\n",
    "\tdata = pickle.load(f)"
   ]
  },
  {
   "cell_type": "code",
   "execution_count": 3,
   "metadata": {},
   "outputs": [],
   "source": [
    "X = data[0]\n",
    "y1 = data[1]\n",
    "y2 = data[2]\n",
    "y3 = data[3]\n",
    "y4 = data[4]"
   ]
  },
  {
   "cell_type": "code",
   "execution_count": 4,
   "metadata": {},
   "outputs": [],
   "source": [
    "chars = []\n",
    "for name in X:\n",
    "    for char in name:\n",
    "        chars.append(char.lower())\n",
    "chars = list(set(chars))"
   ]
  },
  {
   "attachments": {},
   "cell_type": "markdown",
   "metadata": {},
   "source": [
    "### ML data prep"
   ]
  },
  {
   "cell_type": "code",
   "execution_count": 5,
   "metadata": {},
   "outputs": [
    {
     "name": "stdout",
     "output_type": "stream",
     "text": [
      "33\n"
     ]
    }
   ],
   "source": [
    "# Tokenization of characters.\n",
    "\n",
    "list_of_unique_char = []\n",
    "for name in X:\n",
    "    for char in name:\n",
    "        list_of_unique_char.append(char.lower())\n",
    "list_of_unique_char = list(set(list_of_unique_char))\n",
    "print(len(list_of_unique_char))"
   ]
  },
  {
   "cell_type": "code",
   "execution_count": 6,
   "metadata": {},
   "outputs": [],
   "source": [
    "# Create a character dictionary\n",
    "char_dictionary = {}\n",
    "count = 0\n",
    "for char in list_of_unique_char:\n",
    "    char_dictionary[char] = count\n",
    "    count += 1"
   ]
  },
  {
   "cell_type": "code",
   "execution_count": 7,
   "metadata": {},
   "outputs": [],
   "source": [
    "X_token = []\n",
    "\n",
    "for name in X:\n",
    "    name_unit = []\n",
    "    for char in name:\n",
    "        all_chars = [0 for x in range(len(list_of_unique_char))]\n",
    "        all_chars[char_dictionary[char.lower()]] = 1\n",
    "        name_unit.append(all_chars)\n",
    "    X_token.append(name_unit)"
   ]
  },
  {
   "cell_type": "code",
   "execution_count": 8,
   "metadata": {},
   "outputs": [],
   "source": [
    "# One hot encoding of the y lists\n",
    "y1 = np.array(y1)\n",
    "class_encoder1 = OneHotEncoder(sparse_output=False)\n",
    "class_encoder1.fit(y1.reshape(-1,1))\n",
    "y1 = class_encoder1.transform(y1.reshape(-1,1))"
   ]
  },
  {
   "cell_type": "code",
   "execution_count": 9,
   "metadata": {},
   "outputs": [
    {
     "data": {
      "text/plain": [
       "array([0., 0., 0., 0., 0., 0., 0., 0., 0., 0., 0., 0., 0., 0., 0., 0., 0.,\n",
       "       0., 0., 0., 0., 0., 0., 0., 0., 0., 0., 0., 0., 0., 0., 0., 0., 0.,\n",
       "       0., 0., 0., 0., 0., 0., 0., 0., 0., 0., 0., 0., 0., 0., 0., 0., 1.])"
      ]
     },
     "execution_count": 9,
     "metadata": {},
     "output_type": "execute_result"
    }
   ],
   "source": [
    "y1[0]"
   ]
  },
  {
   "cell_type": "code",
   "execution_count": 10,
   "metadata": {},
   "outputs": [
    {
     "data": {
      "text/plain": [
       "array([0., 0., 0., 0., 1., 0., 0., 0., 0., 0.])"
      ]
     },
     "execution_count": 10,
     "metadata": {},
     "output_type": "execute_result"
    }
   ],
   "source": [
    "y2 = np.array(y2)\n",
    "class_encoder2 = OneHotEncoder(sparse_output=False)\n",
    "class_encoder2.fit(y2.reshape(-1,1))\n",
    "y2 = class_encoder2.transform(y2.reshape(-1,1))\n",
    "y2[0]"
   ]
  },
  {
   "cell_type": "code",
   "execution_count": 11,
   "metadata": {},
   "outputs": [
    {
     "data": {
      "text/plain": [
       "array([0., 0., 0., 0., 1., 0.])"
      ]
     },
     "execution_count": 11,
     "metadata": {},
     "output_type": "execute_result"
    }
   ],
   "source": [
    "y3 = np.array(y3)\n",
    "class_encoder3 = OneHotEncoder(sparse_output=False)\n",
    "class_encoder3.fit(y3.reshape(-1,1))\n",
    "y3 = class_encoder3.transform(y3.reshape(-1,1))\n",
    "y3[0]"
   ]
  },
  {
   "cell_type": "code",
   "execution_count": 12,
   "metadata": {},
   "outputs": [
    {
     "data": {
      "text/plain": [
       "array([0., 0., 0., 1., 0.])"
      ]
     },
     "execution_count": 12,
     "metadata": {},
     "output_type": "execute_result"
    }
   ],
   "source": [
    "y4 = np.array(y4)\n",
    "class_encoder4 = OneHotEncoder(sparse_output=False)\n",
    "class_encoder4.fit(y4.reshape(-1,1))\n",
    "y4 = class_encoder4.transform(y4.reshape(-1,1))\n",
    "y4[0]"
   ]
  },
  {
   "cell_type": "code",
   "execution_count": 13,
   "metadata": {},
   "outputs": [
    {
     "name": "stdout",
     "output_type": "stream",
     "text": [
      "(5528, 20, 33)\n"
     ]
    }
   ],
   "source": [
    "X_token = pad_sequences(X_token, padding='post', value=0, maxlen = 20)\n",
    "X = X_token\n",
    "print(X.shape)"
   ]
  },
  {
   "cell_type": "code",
   "execution_count": 14,
   "metadata": {},
   "outputs": [
    {
     "name": "stdout",
     "output_type": "stream",
     "text": [
      "Shape of X_train: (4698, 20, 33)\n",
      "Shape of X_test: (830, 20, 33)\n",
      "\n",
      "Shape of y_train: (4698, 5)\n",
      "Shape of y_test: (830, 5)\n"
     ]
    }
   ],
   "source": [
    "# Split into test and train\n",
    "X_train, X_test, y_train, y_test = train_test_split(X,y4, test_size=0.15)\n",
    "#X_test, X_val, y_test, y_val = train_test_split(X_test,y_test, test_size=0.25)\n",
    "\n",
    "print(f\"Shape of X_train: {X_train.shape}\")\n",
    "print(f\"Shape of X_test: {X_test.shape}\")\n",
    "#print(f\"Shape of X_val: {X_val.shape}\")\n",
    "print(\"\")\n",
    "print(f\"Shape of y_train: {y_train.shape}\")\n",
    "print(f\"Shape of y_test: {y_test.shape}\")\n",
    "#print(f\"Shape of y_val: {y_val.shape}\")"
   ]
  },
  {
   "attachments": {},
   "cell_type": "markdown",
   "metadata": {},
   "source": [
    "# The machinelearning model\n",
    "A LSTM model is used."
   ]
  },
  {
   "cell_type": "code",
   "execution_count": 15,
   "metadata": {},
   "outputs": [
    {
     "name": "stdout",
     "output_type": "stream",
     "text": [
      "(None, 20, 33)\n",
      "(None, 20)\n",
      "(None, 132)\n"
     ]
    }
   ],
   "source": [
    "input_layer = Input(shape=(20,33))\n",
    "conv_layer_1 = Conv1D(33,2, padding='same', use_bias=False)(input_layer)\n",
    "conv_layer_2 = Conv1D(33,3, padding='same', use_bias=False)(conv_layer_1)\n",
    "conv_layer_3 = Conv1D(33,5, padding='same', use_bias=False)(conv_layer_2)\n",
    "conv_layer_4 = Conv1D(33,7, padding='same', use_bias=False)(conv_layer_3)\n",
    "masked_input = Masking(mask_value = 0)(conv_layer_4)\n",
    "print(masked_input.shape)\n",
    "print(masked_input._keras_mask.shape)\n",
    "lstm_layer_1= LSTM(33*4)(masked_input)\n",
    "print(lstm_layer_1.shape)\n",
    "output_layer = Dense(5, activation = 'softmax')(lstm_layer_1)"
   ]
  },
  {
   "cell_type": "code",
   "execution_count": 16,
   "metadata": {},
   "outputs": [],
   "source": [
    "# Model setup\n",
    "origin_name_model = Model(inputs=input_layer, outputs=output_layer)\n",
    "origin_name_model.compile(optimizer='adam', \n",
    "                    loss='categorical_crossentropy',\n",
    "                    metrics='accuracy')"
   ]
  },
  {
   "cell_type": "code",
   "execution_count": 17,
   "metadata": {},
   "outputs": [
    {
     "name": "stdout",
     "output_type": "stream",
     "text": [
      "Model: \"model\"\n",
      "_________________________________________________________________\n",
      " Layer (type)                Output Shape              Param #   \n",
      "=================================================================\n",
      " input_1 (InputLayer)        [(None, 20, 33)]          0         \n",
      "                                                                 \n",
      " conv1d (Conv1D)             (None, 20, 33)            2178      \n",
      "                                                                 \n",
      " conv1d_1 (Conv1D)           (None, 20, 33)            3267      \n",
      "                                                                 \n",
      " conv1d_2 (Conv1D)           (None, 20, 33)            5445      \n",
      "                                                                 \n",
      " conv1d_3 (Conv1D)           (None, 20, 33)            7623      \n",
      "                                                                 \n",
      " masking (Masking)           (None, 20, 33)            0         \n",
      "                                                                 \n",
      " lstm (LSTM)                 (None, 132)               87648     \n",
      "                                                                 \n",
      " dense (Dense)               (None, 5)                 665       \n",
      "                                                                 \n",
      "=================================================================\n",
      "Total params: 106,826\n",
      "Trainable params: 106,826\n",
      "Non-trainable params: 0\n",
      "_________________________________________________________________\n"
     ]
    }
   ],
   "source": [
    "origin_name_model.summary()"
   ]
  },
  {
   "cell_type": "code",
   "execution_count": 18,
   "metadata": {},
   "outputs": [
    {
     "name": "stdout",
     "output_type": "stream",
     "text": [
      "Epoch 1/25\n",
      "37/37 [==============================] - 5s 68ms/step - loss: 1.3253 - accuracy: 0.4968 - val_loss: 1.2423 - val_accuracy: 0.5036\n",
      "Epoch 2/25\n",
      "37/37 [==============================] - 1s 36ms/step - loss: 1.1662 - accuracy: 0.5483 - val_loss: 1.1661 - val_accuracy: 0.5361\n",
      "Epoch 3/25\n",
      "37/37 [==============================] - 2s 42ms/step - loss: 1.1115 - accuracy: 0.5758 - val_loss: 1.1126 - val_accuracy: 0.5711\n",
      "Epoch 4/25\n",
      "37/37 [==============================] - 1s 41ms/step - loss: 1.0903 - accuracy: 0.5875 - val_loss: 1.1370 - val_accuracy: 0.5675\n",
      "Epoch 5/25\n",
      "37/37 [==============================] - 2s 43ms/step - loss: 1.0578 - accuracy: 0.6003 - val_loss: 1.0986 - val_accuracy: 0.5735\n",
      "Epoch 6/25\n",
      "37/37 [==============================] - 2s 43ms/step - loss: 1.0415 - accuracy: 0.6071 - val_loss: 1.0553 - val_accuracy: 0.5964\n",
      "Epoch 7/25\n",
      "37/37 [==============================] - 2s 44ms/step - loss: 1.0075 - accuracy: 0.6201 - val_loss: 1.0353 - val_accuracy: 0.6108\n",
      "Epoch 8/25\n",
      "37/37 [==============================] - 2s 43ms/step - loss: 0.9974 - accuracy: 0.6258 - val_loss: 1.0400 - val_accuracy: 0.5964\n",
      "Epoch 9/25\n",
      "37/37 [==============================] - 2s 46ms/step - loss: 0.9720 - accuracy: 0.6290 - val_loss: 0.9977 - val_accuracy: 0.6145\n",
      "Epoch 10/25\n",
      "37/37 [==============================] - 2s 46ms/step - loss: 0.9615 - accuracy: 0.6360 - val_loss: 1.0208 - val_accuracy: 0.6205\n",
      "Epoch 11/25\n",
      "37/37 [==============================] - 2s 46ms/step - loss: 0.9539 - accuracy: 0.6392 - val_loss: 1.0194 - val_accuracy: 0.6265\n",
      "Epoch 12/25\n",
      "37/37 [==============================] - 2s 50ms/step - loss: 0.9386 - accuracy: 0.6464 - val_loss: 1.0095 - val_accuracy: 0.6157\n",
      "Epoch 13/25\n",
      "37/37 [==============================] - 2s 46ms/step - loss: 0.9270 - accuracy: 0.6513 - val_loss: 0.9831 - val_accuracy: 0.6337\n",
      "Epoch 14/25\n",
      "37/37 [==============================] - 2s 46ms/step - loss: 0.9112 - accuracy: 0.6560 - val_loss: 0.9784 - val_accuracy: 0.6373\n",
      "Epoch 15/25\n",
      "37/37 [==============================] - 2s 48ms/step - loss: 0.8958 - accuracy: 0.6613 - val_loss: 0.9968 - val_accuracy: 0.6313\n",
      "Epoch 16/25\n",
      "37/37 [==============================] - 2s 47ms/step - loss: 0.8843 - accuracy: 0.6662 - val_loss: 0.9737 - val_accuracy: 0.6482\n",
      "Epoch 17/25\n",
      "37/37 [==============================] - 2s 45ms/step - loss: 0.8680 - accuracy: 0.6720 - val_loss: 0.9929 - val_accuracy: 0.6434\n",
      "Epoch 18/25\n",
      "37/37 [==============================] - 2s 47ms/step - loss: 0.8570 - accuracy: 0.6801 - val_loss: 0.9551 - val_accuracy: 0.6313\n",
      "Epoch 19/25\n",
      "37/37 [==============================] - 2s 45ms/step - loss: 0.8509 - accuracy: 0.6767 - val_loss: 0.9944 - val_accuracy: 0.6386\n",
      "Epoch 20/25\n",
      "37/37 [==============================] - 2s 47ms/step - loss: 0.8307 - accuracy: 0.6911 - val_loss: 0.9609 - val_accuracy: 0.6337\n",
      "Epoch 21/25\n",
      "37/37 [==============================] - 2s 46ms/step - loss: 0.8200 - accuracy: 0.6880 - val_loss: 0.9566 - val_accuracy: 0.6470\n",
      "Epoch 22/25\n",
      "37/37 [==============================] - 2s 44ms/step - loss: 0.8087 - accuracy: 0.6990 - val_loss: 1.0165 - val_accuracy: 0.6482\n",
      "Epoch 23/25\n",
      "37/37 [==============================] - 2s 48ms/step - loss: 0.7998 - accuracy: 0.7037 - val_loss: 1.0215 - val_accuracy: 0.6361\n",
      "Epoch 24/25\n",
      "37/37 [==============================] - 2s 45ms/step - loss: 0.7749 - accuracy: 0.7169 - val_loss: 0.9805 - val_accuracy: 0.6518\n",
      "Epoch 25/25\n",
      "37/37 [==============================] - 2s 47ms/step - loss: 0.7550 - accuracy: 0.7163 - val_loss: 1.0146 - val_accuracy: 0.6494\n"
     ]
    }
   ],
   "source": [
    "# Model fit\n",
    "history_0=origin_name_model.fit(X_train,\n",
    "                                y_train,\n",
    "                                validation_data=[X_test, y_test],\n",
    "                                batch_size=128,\n",
    "                                epochs=25)"
   ]
  },
  {
   "cell_type": "code",
   "execution_count": 19,
   "metadata": {},
   "outputs": [
    {
     "ename": "NameError",
     "evalue": "name 'stop' is not defined",
     "output_type": "error",
     "traceback": [
      "\u001b[1;31m---------------------------------------------------------------------------\u001b[0m",
      "\u001b[1;31mNameError\u001b[0m                                 Traceback (most recent call last)",
      "Cell \u001b[1;32mIn[19], line 1\u001b[0m\n\u001b[1;32m----> 1\u001b[0m stop\n",
      "\u001b[1;31mNameError\u001b[0m: name 'stop' is not defined"
     ]
    }
   ],
   "source": [
    "stop"
   ]
  },
  {
   "cell_type": "code",
   "execution_count": null,
   "metadata": {},
   "outputs": [],
   "source": [
    "test_name = X_val[0]"
   ]
  },
  {
   "cell_type": "code",
   "execution_count": null,
   "metadata": {},
   "outputs": [],
   "source": [
    "test_name.reshape(1,16,38,);"
   ]
  },
  {
   "cell_type": "code",
   "execution_count": null,
   "metadata": {},
   "outputs": [],
   "source": [
    "test_name.shape"
   ]
  },
  {
   "cell_type": "code",
   "execution_count": null,
   "metadata": {},
   "outputs": [],
   "source": [
    "answer = gender_name_model.predict(X_val)"
   ]
  },
  {
   "cell_type": "code",
   "execution_count": null,
   "metadata": {},
   "outputs": [],
   "source": [
    "for item in answer:\n",
    "    print(item)"
   ]
  },
  {
   "cell_type": "code",
   "execution_count": null,
   "metadata": {},
   "outputs": [],
   "source": [
    "X_val[2]"
   ]
  },
  {
   "cell_type": "code",
   "execution_count": null,
   "metadata": {},
   "outputs": [],
   "source": [
    "print(char_dictionary)"
   ]
  },
  {
   "cell_type": "code",
   "execution_count": null,
   "metadata": {},
   "outputs": [],
   "source": [
    "for n, entry in enumerate(X_val):\n",
    "    name = \"\"\n",
    "    for num, line in enumerate(entry):\n",
    "        for index, char in enumerate(line):\n",
    "            if char == 1:\n",
    "                for key, value in char_dictionary.items():\n",
    "                    if index == value:\n",
    "                        name = name + key\n",
    "    print(f\"The name is: {name}\")\n",
    "    print(f\"The gender code is: {y_val[n]}\")\n",
    "    print(f\"While the result is: {answer[n]}\\n\")\n"
   ]
  },
  {
   "cell_type": "code",
   "execution_count": null,
   "metadata": {},
   "outputs": [],
   "source": [
    "dd = 0.87\n",
    "print(round(dd))"
   ]
  },
  {
   "cell_type": "code",
   "execution_count": null,
   "metadata": {},
   "outputs": [],
   "source": [
    "count = 0\n",
    "\n",
    "for num, res in enumerate(answer):\n",
    "    if round(res[0]) != y_val[num][0]:\n",
    "        count += 1\n",
    "print(count)\n",
    "\n",
    "print(len(y_val))"
   ]
  }
 ],
 "metadata": {
  "kernelspec": {
   "display_name": "Python 3",
   "language": "python",
   "name": "python3"
  },
  "language_info": {
   "codemirror_mode": {
    "name": "ipython",
    "version": 3
   },
   "file_extension": ".py",
   "mimetype": "text/x-python",
   "name": "python",
   "nbconvert_exporter": "python",
   "pygments_lexer": "ipython3",
   "version": "3.10.9"
  },
  "orig_nbformat": 4,
  "vscode": {
   "interpreter": {
    "hash": "7c2940c5258610f9a2b978227281dc0bf3c3e3ce460e55d30a45b10f147711e9"
   }
  }
 },
 "nbformat": 4,
 "nbformat_minor": 2
}
